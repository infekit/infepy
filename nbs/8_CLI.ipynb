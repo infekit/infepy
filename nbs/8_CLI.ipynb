{
 "cells": [
  {
   "attachments": {},
   "cell_type": "markdown",
   "metadata": {},
   "source": [
    "# CLI "
   ]
  },
  {
   "attachments": {},
   "cell_type": "markdown",
   "metadata": {},
   "source": [
    "**Navigate into infepy scripts.** \n",
    "In the terminal type: \n",
    "\n",
    ">  python morph.py\n",
    "\n",
    "The module can be called with different options.\n",
    "\n",
    "> morph.py [-h] [--function FUNCTION] [--smoothing SMOOTHING]\n",
    "\n",
    "- optional arguments:\n",
    "    - -h, - -help            show help message and exit\n",
    "    - , - -function FUNCTION   Basis Function for morphing. \n",
    "    - . - -smoothing SMOOTHING Smoothing Factor\n",
    "\n"
   ]
  },
  {
   "attachments": {},
   "cell_type": "markdown",
   "metadata": {},
   "source": [
    "## Morphing\n",
    "from the command line *cd* into the directory ..Github/infepy/infepy : \n",
    "     ```python morph.py --function $FUNCTION --smoothing $SMOOTHING ```"
   ]
  },
  {
   "attachments": {},
   "cell_type": "markdown",
   "metadata": {},
   "source": [
    "[![Example](images/screen_recording.mp4){width=\\\"900px\\\"}](images/screen_recording.mp4)"
   ]
  }
 ],
 "metadata": {},
 "nbformat": 4,
 "nbformat_minor": 2
}
