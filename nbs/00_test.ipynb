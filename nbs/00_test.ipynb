{
 "cells": [
  {
   "cell_type": "code",
   "execution_count": null,
   "metadata": {},
   "outputs": [],
   "source": [
    "#| export\n",
    "import numpy as np\n",
    "import pandas as pd\n",
    "import logging"
   ]
  },
  {
   "cell_type": "code",
   "execution_count": null,
   "metadata": {},
   "outputs": [],
   "source": [
    "#| default_exp module_test"
   ]
  },
  {
   "cell_type": "code",
   "execution_count": null,
   "metadata": {},
   "outputs": [],
   "source": [
    "#| export\n",
    "from infepy.preprocessing import _check_landmarks"
   ]
  },
  {
   "cell_type": "code",
   "execution_count": null,
   "metadata": {},
   "outputs": [],
   "source": [
    "#| hide\n",
    "import nbdev; nbdev.nbdev_export()"
   ]
  },
  {
   "cell_type": "code",
   "execution_count": null,
   "metadata": {},
   "outputs": [],
   "source": [
    "#| export\n",
    "def _test_landmarks():\n",
    "    s= { 'a': [\"Head\",\"Shaft\",\"Epiphysis\"],'A': [0, 1, 0]}\n",
    "    t= { 'a': [\"Head\",\"Shaft\",\"Epiphysis\"],'A': [0 ,1 ,1]}\n",
    "    source = pd.DataFrame(s)\n",
    "    target = pd.DataFrame(t)\n",
    "    _check_landmarks(source,target)\n",
    "    return\n",
    "_test_landmarks()"
   ]
  },
  {
   "cell_type": "code",
   "execution_count": null,
   "metadata": {},
   "outputs": [],
   "source": [
    "# #| export\n",
    "# logger = logging.getLogger(name='mylogger')\n",
    "# logging.basicConfig(filename=\"example.log\",filemode='w+' ,level=logging.DEBUG, force=True, format='[%(asctime)-15s] %(levelname)-8s %(filename)s %(funcName)s line %(lineno)d %(message)s')"
   ]
  },
  {
   "cell_type": "code",
   "execution_count": null,
   "metadata": {},
   "outputs": [],
   "source": [
    "# @dispatch(int,int)\n",
    "# def sum_ab (a,b):\n",
    "#     try: \n",
    "#         c= np.sum([a,b])\n",
    "#     except:\n",
    "#         logger.info('Started')\n",
    "#         logger.exception(\"Values are not integers\")\n",
    "#         logger.info('Finish')\n",
    "#     else:\n",
    "#         return c"
   ]
  },
  {
   "cell_type": "code",
   "execution_count": null,
   "metadata": {},
   "outputs": [],
   "source": [
    "# @dispatch(object, object)\n",
    "# def add(x, y):\n",
    "#     return \"%s + %s\" % (x, y)"
   ]
  },
  {
   "cell_type": "code",
   "execution_count": null,
   "metadata": {},
   "outputs": [
    {
     "data": {
      "text/plain": [
       "True"
      ]
     },
     "execution_count": null,
     "metadata": {},
     "output_type": "execute_result"
    }
   ],
   "source": [
    "# from pathlib import Path\n",
    "# Path(\"example.log\").suffix == '.log'"
   ]
  },
  {
   "cell_type": "code",
   "execution_count": null,
   "metadata": {},
   "outputs": [
    {
     "name": "stdout",
     "output_type": "stream",
     "text": [
      "True\n"
     ]
    }
   ],
   "source": [
    "# result = landmarks_key.endswith('.key')\n",
    "# # returns True\n",
    "# print(result)"
   ]
  },
  {
   "cell_type": "code",
   "execution_count": null,
   "metadata": {},
   "outputs": [
    {
     "ename": "ModuleNotFoundError",
     "evalue": "No module named 'infepy'",
     "output_type": "error",
     "traceback": [
      "\u001b[0;31m---------------------------------------------------------------------------\u001b[0m",
      "\u001b[0;31mModuleNotFoundError\u001b[0m                       Traceback (most recent call last)",
      "Cell \u001b[0;32mIn [21], line 3\u001b[0m\n\u001b[1;32m      1\u001b[0m \u001b[39m# myapp.py\u001b[39;00m\n\u001b[1;32m      2\u001b[0m \u001b[39mimport\u001b[39;00m \u001b[39mlogging\u001b[39;00m\n\u001b[0;32m----> 3\u001b[0m \u001b[39mimport\u001b[39;00m \u001b[39minfepy\u001b[39;00m\n\u001b[1;32m      5\u001b[0m \u001b[39mdef\u001b[39;00m \u001b[39mmain\u001b[39m():\n\u001b[1;32m      6\u001b[0m     logging\u001b[39m.\u001b[39mbasicConfig(filename\u001b[39m=\u001b[39m\u001b[39m'\u001b[39m\u001b[39minfepy.log\u001b[39m\u001b[39m'\u001b[39m, level\u001b[39m=\u001b[39mlogging\u001b[39m.\u001b[39mDEBUG)\n",
      "\u001b[0;31mModuleNotFoundError\u001b[0m: No module named 'infepy'"
     ]
    }
   ],
   "source": [
    "# # myapp.py\n",
    "# import logging\n",
    "# import infepy\n",
    "\n",
    "# def main():\n",
    "#     logging.basicConfig(filename='infepy.log', level=logging.DEBUG)\n",
    "#     logging.info('Started')\n",
    "#     mylib.do_something()\n",
    "#     logging.info('Finished')\n",
    "\n",
    "# if __name__ == '__main__':\n",
    "#     main()\n"
   ]
  },
  {
   "cell_type": "code",
   "execution_count": null,
   "metadata": {},
   "outputs": [],
   "source": []
  }
 ],
 "metadata": {
  "kernelspec": {
   "display_name": "Python 3.9.15 ('infekit')",
   "language": "python",
   "name": "python3"
  }
 },
 "nbformat": 4,
 "nbformat_minor": 2
}
