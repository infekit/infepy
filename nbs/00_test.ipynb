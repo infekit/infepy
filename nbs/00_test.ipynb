{
 "cells": [
  {
   "cell_type": "code",
   "execution_count": null,
   "metadata": {},
   "outputs": [],
   "source": [
    "#| default_exp module_test"
   ]
  },
  {
   "cell_type": "code",
   "execution_count": null,
   "metadata": {},
   "outputs": [],
   "source": [
    "#| export\n",
    "import numpy as np\n",
    "import pandas as pd\n",
    "import logging"
   ]
  },
  {
   "cell_type": "code",
   "execution_count": null,
   "metadata": {},
   "outputs": [],
   "source": [
    "#| export\n",
    "from infepy.preprocessing import _check_landmarks"
   ]
  },
  {
   "cell_type": "code",
   "execution_count": null,
   "metadata": {},
   "outputs": [],
   "source": [
    "#| export\n",
    "def _test_landmarks():\n",
    "    s= { 'a': [\"Head\",\"Shaft\",\"Epiphysis\"],'A': [0, 1, 0]}\n",
    "    t= { 'a': [\"Head\",\"Shaft\",\"Epiphysis\"],'A': [0 ,1 ,1]}\n",
    "    source = pd.DataFrame(s)\n",
    "    target = pd.DataFrame(t)\n",
    "    _check_landmarks(source,target)\n",
    "    return\n",
    "_test_landmarks()"
   ]
  },
  {
   "cell_type": "code",
   "execution_count": null,
   "metadata": {},
   "outputs": [],
   "source": [
    "#| hide\n",
    "import nbdev; nbdev.nbdev_export()"
   ]
  }
 ],
 "metadata": {
  "kernelspec": {
   "display_name": "Python 3.9.15 ('infekit')",
   "language": "python",
   "name": "python3"
  },
  "language_info": {
   "name": "python",
   "version": "3.9.15"
  },
  "vscode": {
   "interpreter": {
    "hash": "999905aaca90b5cd166bea9eeb734e58744be10fbbbdd92b37945437c5cd6e81"
   }
  }
 },
 "nbformat": 4,
 "nbformat_minor": 2
}
