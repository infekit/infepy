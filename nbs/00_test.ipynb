{
 "cells": [
  {
   "cell_type": "code",
   "execution_count": null,
   "metadata": {},
   "outputs": [],
   "source": [
    "#| default_exp module_test"
   ]
  },
  {
   "cell_type": "code",
   "execution_count": null,
   "metadata": {},
   "outputs": [],
   "source": [
    "#| export\n",
    "import numpy as np\n",
    "import pandas as pd\n",
    "import logging"
   ]
  },
  {
   "cell_type": "code",
   "execution_count": null,
   "metadata": {},
   "outputs": [],
   "source": [
    "#| hide\n",
    "import infepy"
   ]
  },
  {
   "cell_type": "code",
   "execution_count": null,
   "metadata": {},
   "outputs": [
    {
     "ename": "ModuleNotFoundError",
     "evalue": "No module named 'utils'",
     "output_type": "error",
     "traceback": [
      "\u001b[0;31m---------------------------------------------------------------------------\u001b[0m",
      "\u001b[0;31mModuleNotFoundError\u001b[0m                       Traceback (most recent call last)",
      "Cell \u001b[0;32mIn [11], line 2\u001b[0m\n\u001b[1;32m      1\u001b[0m \u001b[39mfrom\u001b[39;00m \u001b[39minfepy\u001b[39;00m \u001b[39mimport\u001b[39;00m \u001b[39m*\u001b[39m\n\u001b[0;32m----> 2\u001b[0m \u001b[39mfrom\u001b[39;00m \u001b[39minfepy\u001b[39;00m\u001b[39m.\u001b[39;00m\u001b[39mpreprocessing\u001b[39;00m \u001b[39mimport\u001b[39;00m \u001b[39m*\u001b[39m\n\u001b[1;32m      3\u001b[0m \u001b[39mfrom\u001b[39;00m \u001b[39minfepy\u001b[39;00m\u001b[39m.\u001b[39;00m\u001b[39mutils\u001b[39;00m \u001b[39mimport\u001b[39;00m \u001b[39m*\u001b[39m\n",
      "File \u001b[0;32m/mnt/c/Users/chiarar/OneDrive - Chalmers/SSMT - Subject Specific Modeling Toolstack/Github/infepy/infepy/preprocessing.py:20\u001b[0m\n\u001b[1;32m     17\u001b[0m \u001b[39mimport\u001b[39;00m \u001b[39mpandas\u001b[39;00m \u001b[39mas\u001b[39;00m \u001b[39mpd\u001b[39;00m\n\u001b[1;32m     19\u001b[0m \u001b[39m# %% ../nbs/0_preprocessing.ipynb 4\u001b[39;00m\n\u001b[0;32m---> 20\u001b[0m \u001b[39mfrom\u001b[39;00m \u001b[39mutils\u001b[39;00m \u001b[39mimport\u001b[39;00m read_k_file, read_csv_file, to_ls_dyna, _merge_path\n\u001b[1;32m     22\u001b[0m \u001b[39m# %% ../nbs/0_preprocessing.ipynb 5\u001b[39;00m\n\u001b[1;32m     23\u001b[0m logger \u001b[39m=\u001b[39m logging\u001b[39m.\u001b[39mgetLogger(name\u001b[39m=\u001b[39m\u001b[39m\"\u001b[39m\u001b[39mpreprocessing\u001b[39m\u001b[39m\"\u001b[39m)\n",
      "\u001b[0;31mModuleNotFoundError\u001b[0m: No module named 'utils'"
     ]
    }
   ],
   "source": [
    "from infepy import *\n",
    "from infepy.preprocessing import *\n",
    "from infepy.utils import *"
   ]
  },
  {
   "cell_type": "code",
   "execution_count": null,
   "metadata": {},
   "outputs": [
    {
     "ename": "ModuleNotFoundError",
     "evalue": "No module named 'utils'",
     "output_type": "error",
     "traceback": [
      "\u001b[0;31m---------------------------------------------------------------------------\u001b[0m",
      "\u001b[0;31mModuleNotFoundError\u001b[0m                       Traceback (most recent call last)",
      "Cell \u001b[0;32mIn [7], line 2\u001b[0m\n\u001b[1;32m      1\u001b[0m \u001b[39m#| export\u001b[39;00m\n\u001b[0;32m----> 2\u001b[0m \u001b[39mfrom\u001b[39;00m \u001b[39minfepy\u001b[39;00m\u001b[39m.\u001b[39;00m\u001b[39mpreprocessing\u001b[39;00m \u001b[39mimport\u001b[39;00m _check_landmarks\n",
      "File \u001b[0;32m/mnt/c/Users/chiarar/OneDrive - Chalmers/SSMT - Subject Specific Modeling Toolstack/Github/infepy/infepy/preprocessing.py:20\u001b[0m\n\u001b[1;32m     17\u001b[0m \u001b[39mimport\u001b[39;00m \u001b[39mpandas\u001b[39;00m \u001b[39mas\u001b[39;00m \u001b[39mpd\u001b[39;00m\n\u001b[1;32m     19\u001b[0m \u001b[39m# %% ../nbs/0_preprocessing.ipynb 4\u001b[39;00m\n\u001b[0;32m---> 20\u001b[0m \u001b[39mfrom\u001b[39;00m \u001b[39mutils\u001b[39;00m \u001b[39mimport\u001b[39;00m read_k_file, read_csv_file, to_ls_dyna, _merge_path\n\u001b[1;32m     22\u001b[0m \u001b[39m# %% ../nbs/0_preprocessing.ipynb 5\u001b[39;00m\n\u001b[1;32m     23\u001b[0m logger \u001b[39m=\u001b[39m logging\u001b[39m.\u001b[39mgetLogger(name\u001b[39m=\u001b[39m\u001b[39m\"\u001b[39m\u001b[39mpreprocessing\u001b[39m\u001b[39m\"\u001b[39m)\n",
      "\u001b[0;31mModuleNotFoundError\u001b[0m: No module named 'utils'"
     ]
    }
   ],
   "source": [
    "#| export\n",
    "from infepy.preprocessing import _check_landmarks"
   ]
  },
  {
   "cell_type": "code",
   "execution_count": null,
   "metadata": {},
   "outputs": [
    {
     "ename": "NameError",
     "evalue": "name '_check_landmarks' is not defined",
     "output_type": "error",
     "traceback": [
      "\u001b[0;31m---------------------------------------------------------------------------\u001b[0m",
      "\u001b[0;31mNameError\u001b[0m                                 Traceback (most recent call last)",
      "Cell \u001b[0;32mIn [5], line 9\u001b[0m\n\u001b[1;32m      7\u001b[0m     _check_landmarks(source,target)\n\u001b[1;32m      8\u001b[0m     \u001b[39mreturn\u001b[39;00m\n\u001b[0;32m----> 9\u001b[0m _test_landmarks()\n",
      "Cell \u001b[0;32mIn [5], line 7\u001b[0m, in \u001b[0;36m_test_landmarks\u001b[0;34m()\u001b[0m\n\u001b[1;32m      5\u001b[0m source \u001b[39m=\u001b[39m pd\u001b[39m.\u001b[39mDataFrame(s)\n\u001b[1;32m      6\u001b[0m target \u001b[39m=\u001b[39m pd\u001b[39m.\u001b[39mDataFrame(t)\n\u001b[0;32m----> 7\u001b[0m _check_landmarks(source,target)\n\u001b[1;32m      8\u001b[0m \u001b[39mreturn\u001b[39;00m\n",
      "\u001b[0;31mNameError\u001b[0m: name '_check_landmarks' is not defined"
     ]
    }
   ],
   "source": [
    "#| export\n",
    "def _test_landmarks():\n",
    "    s= { 'a': [\"Head\",\"Shaft\",\"Epiphysis\"],'A': [0, 1, 0]}\n",
    "    t= { 'a': [\"Head\",\"Shaft\",\"Epiphysis\"],'A': [0 ,1 ,1]}\n",
    "    source = pd.DataFrame(s)\n",
    "    target = pd.DataFrame(t)\n",
    "    _check_landmarks(source,target)\n",
    "    return\n",
    "_test_landmarks()"
   ]
  },
  {
   "cell_type": "code",
   "execution_count": null,
   "metadata": {},
   "outputs": [],
   "source": [
    "#| hide\n",
    "import nbdev; nbdev.nbdev_export()"
   ]
  }
 ],
 "metadata": {
  "kernelspec": {
   "display_name": "Python 3.9.15 ('infekit')",
   "language": "python",
   "name": "python3"
  }
 },
 "nbformat": 4,
 "nbformat_minor": 2
}
