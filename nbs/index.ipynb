{
 "cells": [
  {
   "cell_type": "markdown",
   "metadata": {},
   "source": [
    "# infepy\n",
    "\n",
    "> Individualized FE python kit. "
   ]
  },
  {
   "attachments": {},
   "cell_type": "markdown",
   "metadata": {},
   "source": [
    "Infepy applies morphing. Given a source mesh, source landmarks and target landmarks it morphs the source mesh to a target geometry. "
   ]
  },
  {
   "attachments": {},
   "cell_type": "markdown",
   "metadata": {},
   "source": [
    "![Infe](images/Infe.PNG)"
   ]
  },
  {
   "attachments": {},
   "cell_type": "markdown",
   "metadata": {},
   "source": [
    "For documentation: [Documentation](https://infekit.github.io/infepy/)"
   ]
  },
  {
   "attachments": {},
   "cell_type": "markdown",
   "metadata": {},
   "source": [
    "\"[![](images/screen_recording.mp4){width=\\\"900px\\\"}](images/screen_recording.mp4)\""
   ]
  },
  {
   "cell_type": "markdown",
   "metadata": {},
   "source": [
    "## Install"
   ]
  },
  {
   "attachments": {},
   "cell_type": "markdown",
   "metadata": {},
   "source": [
    "```sh\n",
    "git clone https://github.com/infekit/infepy\n",
    "Open with Vscode. Open bash terminal and type: \n",
    "    -   conda create --name infekit-test python=3.9\n",
    "    -   conda activate infekit-test\n",
    "    -   pip install nbdev\n",
    "    -   pip install -e infepy\n",
    "   \n",
    "Insert data folders (source,target landmarks and source mesh), modify the config.toml\n",
    "```"
   ]
  },
  {
   "attachments": {},
   "cell_type": "markdown",
   "metadata": {},
   "source": [
    "## To install locally:\n",
    "\n",
    "```sh\n",
    "git clone https://github.com/infekit/infepy\n",
    "\n",
    "Insert data folders (source,target landmarks and source mesh), modify the config.toml\n",
    "\n",
    "pip install -e path-to-cloned-repo\n",
    "\n",
    "cd infepy\n",
    "cd infepy\n",
    "\n",
    "from CL into directory ..Github/infepy/infepy :   python morph.py --function NAME --smoothing VALUE [default settings: Function: \"thin_plate_spline\", smoothing = 0 ]\n",
    "\n",
    "```"
   ]
  }
 ],
 "metadata": {
  "kernelspec": {
   "display_name": "Python 3",
   "language": "python",
   "name": "python3"
  }
 },
 "nbformat": 4,
 "nbformat_minor": 4
}
