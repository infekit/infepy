{
 "cells": [
  {
   "attachments": {},
   "cell_type": "markdown",
   "metadata": {},
   "source": [
    "# INFEPY\n",
    "\n",
    "> Individualized Finite Elements python kit."
   ]
  },
  {
   "attachments": {},
   "cell_type": "markdown",
   "metadata": {},
   "source": [
    "For documentation: [Documentation](https://infekit.github.io/infepy/)"
   ]
  },
  {
   "attachments": {},
   "cell_type": "markdown",
   "metadata": {},
   "source": [
    ":::{.callout-warning}\n",
    "This library is currently in the testing phase.\n",
    ":::"
   ]
  },
  {
   "attachments": {},
   "cell_type": "markdown",
   "metadata": {},
   "source": [
    "## Description"
   ]
  },
  {
   "attachments": {},
   "cell_type": "markdown",
   "metadata": {},
   "source": [
    "Infepy is a tool that applies morphing to mesh geometries. It allows to morph a source mesh to a target geometry by utilizing Radial Basis Function. \n",
    "The source mesh should be a LS-DYNA .key file format, while the landmarks file can be either in .csv or .key.\n",
    "\n",
    "The target geometry can be a single item or multiple items, and you can find more detailed information about this process  [here](https://infekit.github.io/infepy/3_morphing.html) . Infepy provides the capability to perform morphing operations and achieve desired shape transformations between the source and target geometries using the specified landmarks."
   ]
  },
  {
   "attachments": {},
   "cell_type": "markdown",
   "metadata": {},
   "source": [
    "![InFEpy workflow](images/Infe.PNG)"
   ]
  },
  {
   "attachments": {},
   "cell_type": "markdown",
   "metadata": {},
   "source": [
    "## Installation"
   ]
  },
  {
   "attachments": {},
   "cell_type": "markdown",
   "metadata": {},
   "source": [
    "```sh\n",
    "git clone https://github.com/infekit/infepy\n",
    "Open bash terminal and type: \n",
    "    -   conda create --name infekit-test python=3.9\n",
    "    -   conda activate infekit-test\n",
    "    -   cd into .../infepy: pip install -e .\n",
    "    -   cd infepy\n",
    "    -   Insert data folders (source,target landmarks and source mesh), and modify the config.toml\n",
    "    -   python morph.py --function $FUNCTION --smoothing $SMOOTHING \n",
    "   \n",
    "\n",
    "```"
   ]
  },
  {
   "attachments": {},
   "cell_type": "markdown",
   "metadata": {},
   "source": [
    "## To run:\n",
    "\n",
    "```sh\n",
    "from CL into directory ..Github/infepy/infepy :   python morph.py --function $NAME --smoothing $VALUE [default settings: Function: \"thin_plate_spline\", smoothing = 0 ]\n",
    "\n",
    "```"
   ]
  },
  {
   "attachments": {},
   "cell_type": "markdown",
   "metadata": {},
   "source": [
    "\"[![](images/screen_recording.mp4){width=\\\"900px\\\"}](images/screen_recording.mp4)\""
   ]
  }
 ],
 "metadata": {
  "kernelspec": {
   "display_name": "python3",
   "language": "python",
   "name": "python3"
  }
 },
 "nbformat": 4,
 "nbformat_minor": 4
}
