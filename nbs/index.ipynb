{
 "cells": [
  {
   "attachments": {},
   "cell_type": "markdown",
   "metadata": {},
   "source": [
    "# INFEPY\n",
    "\n",
    "> Individualized Finite Elements python kit."
   ]
  },
  {
   "attachments": {},
   "cell_type": "markdown",
   "metadata": {},
   "source": [
    "For documentation: [Documentation](https://infekit.github.io/infepy/)"
   ]
  },
  {
   "attachments": {},
   "cell_type": "markdown",
   "metadata": {},
   "source": [
    ":::{.callout-warning}\n",
    "This library is currently in the testing phase.\n",
    ":::"
   ]
  },
  {
   "attachments": {},
   "cell_type": "markdown",
   "metadata": {},
   "source": [
    "## Description"
   ]
  },
  {
   "attachments": {},
   "cell_type": "markdown",
   "metadata": {},
   "source": [
    "Infepy is a tool that applies morphing to mesh geometries. It allows to morph a source mesh to a target geometry by utilizing Radial Basis Function. \n",
    "The source mesh should be a LS-DYNA .key file format, while the landmarks file can be either in .csv or .key.\n",
    "\n",
    "The target geometry can be a single item or multiple items, and you can find more detailed information about this process  [here](https://infekit.github.io/infepy/3_morphing.html) . Infepy provides the capability to perform morphing operations and achieve desired shape transformations between the source and target geometries using the specified landmarks."
   ]
  },
  {
   "attachments": {},
   "cell_type": "markdown",
   "metadata": {},
   "source": [
    "---"
   ]
  },
  {
   "attachments": {},
   "cell_type": "markdown",
   "metadata": {},
   "source": [
    "The input files for the morphing process include:\n",
    "\n",
    "**Inputs:**\n",
    "\n",
    "- Landmarked FE geometry.\n",
    "        This geometry provides the landmarks from the source mesh.\n",
    "- Finite Element Mesh\n",
    "\n",
    "- Landmarked Segmented Geometry.\n",
    "    This geometry provides the target shape that the FE geometry will be morphed to.\n",
    "\n",
    "**Output:**\n",
    "\n",
    "- Morphed geometry. Deformed mesh according to the landmarks provided.\n",
    "\n",
    "---\n"
   ]
  },
  {
   "attachments": {},
   "cell_type": "markdown",
   "metadata": {},
   "source": [
    "![InFEpy workflow](images/Infe.PNG)"
   ]
  },
  {
   "attachments": {},
   "cell_type": "markdown",
   "metadata": {},
   "source": [
    "## Installation"
   ]
  },
  {
   "attachments": {},
   "cell_type": "markdown",
   "metadata": {},
   "source": [
    "- Clone the repo\n",
    "\n",
    "    ```git clone https://github.com/infekit/infepy ``` "
   ]
  },
  {
   "attachments": {},
   "cell_type": "markdown",
   "metadata": {},
   "source": [
    "- Create environment in Anaconda"
   ]
  },
  {
   "attachments": {},
   "cell_type": "markdown",
   "metadata": {},
   "source": [
    "- Create environment in Anaconda\n",
    "\n",
    "    Open the terminal and type: \n",
    "\n",
    "    ``` conda create --name infekit-test python=3.9 ```   \n",
    "\n",
    "    ``` conda activate infekit-test ```\n",
    "\n",
    "    ```cd into .../infepy: pip install -e . ```"
   ]
  },
  {
   "attachments": {},
   "cell_type": "markdown",
   "metadata": {},
   "source": [
    "## Morphing"
   ]
  },
  {
   "attachments": {},
   "cell_type": "markdown",
   "metadata": {},
   "source": [
    "from the command line *cd* into the directory ..Github/infepy/infepy : \n",
    "     ```python morph.py --function $FUNCTION --smoothing $SMOOTHING ```"
   ]
  },
  {
   "attachments": {},
   "cell_type": "markdown",
   "metadata": {},
   "source": [
    ":::{.callout-note}\n",
    "The default setting for morphing are:\n",
    "\n",
    "- morphing function: *thin_plate_spline*\n",
    "\n",
    "- smoothing:  0\n",
    ":::"
   ]
  },
  {
   "attachments": {},
   "cell_type": "markdown",
   "metadata": {},
   "source": [
    "\"[![](images/screen_recording.mp4){width=\\\"900px\\\"}](images/screen_recording.mp4)\""
   ]
  }
 ],
 "metadata": {
  "kernelspec": {
   "display_name": "python3",
   "language": "python",
   "name": "python3"
  }
 },
 "nbformat": 4,
 "nbformat_minor": 4
}
