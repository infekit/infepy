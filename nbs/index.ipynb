{
 "cells": [
  {
   "attachments": {},
   "cell_type": "markdown",
   "metadata": {},
   "source": [
    "# INFEPY\n",
    "\n",
    "> Individualized Finite Elements python kit."
   ]
  },
  {
   "attachments": {},
   "cell_type": "markdown",
   "metadata": {},
   "source": [
    "For documentation: [Documentation](https://infekit.github.io/infepy/)"
   ]
  },
  {
   "attachments": {},
   "cell_type": "markdown",
   "metadata": {},
   "source": [
    ":::{.callout-warning}\n",
    "This library is currently being developed and tested.\n",
    ":::"
   ]
  },
  {
   "attachments": {},
   "cell_type": "markdown",
   "metadata": {},
   "source": [
    "## Description"
   ]
  },
  {
   "attachments": {},
   "cell_type": "markdown",
   "metadata": {},
   "source": [
    "Infepy is a tool that applies morphing to mesh geometries. It performs morphing operations and achieves desired shape transformations between the source and target geometries using the specified landmarks.\n",
    "It allows to morph a source mesh to a target geometry by utilizing Radial Basis Function. \n",
    "\n",
    "The source mesh should be a LS-DYNA .key file format, while the landmarks file can be either in .csv or .key.\n",
    "The target geometry can be a single item or multiple items, and you can find more detailed information about this process  [here](https://infekit.github.io/infepy/morphing.html)."
   ]
  },
  {
   "attachments": {},
   "cell_type": "markdown",
   "metadata": {},
   "source": [
    "## Installation"
   ]
  },
  {
   "attachments": {},
   "cell_type": "markdown",
   "metadata": {},
   "source": [
    "- Clone the repo\n",
    "\n",
    "    ```git clone https://github.com/infekit/infepy ``` "
   ]
  },
  {
   "attachments": {},
   "cell_type": "markdown",
   "metadata": {},
   "source": [
    "- Create environment in Anaconda\n",
    "\n",
    "    Open the terminal and type: \n",
    "\n",
    "    ``` conda create --name infekit-test python=3.9 ```   \n",
    "\n",
    "    ``` conda activate infekit-test ```\n",
    "\n",
    "    ```cd into .../infepy: pip install -e . ```"
   ]
  }
 ],
 "metadata": {
  "kernelspec": {
   "display_name": "python3",
   "language": "python",
   "name": "python3"
  }
 },
 "nbformat": 4,
 "nbformat_minor": 4
}
