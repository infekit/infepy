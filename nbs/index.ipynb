{
 "cells": [
  {
   "attachments": {},
   "cell_type": "markdown",
   "metadata": {},
   "source": [
    "# infepy\n",
    "\n",
    "> Individualized FE python kit. This library is in the testing phase. "
   ]
  },
  {
   "attachments": {},
   "cell_type": "markdown",
   "metadata": {},
   "source": [
    "Infepy applies morphing to mesh geometries. Given a source mesh, source landmarks and target landmarks it morphs the source mesh to a target geometry by appling Radial Basis Function. \n",
    "The source mesh must a be Ls-Dyna .key files while the landmarks file are accepter in either .csv or .key file. \n",
    "The target could be either one or multiple item (explained [here](https://infekit.github.io/infepy/3_morphing.html) for more details)."
   ]
  },
  {
   "attachments": {},
   "cell_type": "markdown",
   "metadata": {},
   "source": [
    "![Infe](images/Infe.PNG)"
   ]
  },
  {
   "attachments": {},
   "cell_type": "markdown",
   "metadata": {},
   "source": [
    "For documentation: [Documentation](https://infekit.github.io/infepy/)"
   ]
  },
  {
   "cell_type": "markdown",
   "metadata": {},
   "source": [
    "## Install"
   ]
  },
  {
   "attachments": {},
   "cell_type": "markdown",
   "metadata": {},
   "source": [
    "```sh\n",
    "git clone https://github.com/infekit/infepy\n",
    "Open bash terminal and type: \n",
    "    -   conda create --name infekit-test python=3.9\n",
    "    -   conda activate infekit-test\n",
    "    -   pip install nbdev\n",
    "    -   pip install -e infepy\n",
    "   \n",
    "Insert data folders (source,target landmarks and source mesh), and modify the config.toml\n",
    "```"
   ]
  },
  {
   "attachments": {},
   "cell_type": "markdown",
   "metadata": {},
   "source": [
    "## To run:\n",
    "\n",
    "```sh\n",
    "from CL into directory ..Github/infepy/infepy :   python morph.py --function NAME --smoothing VALUE [default settings: Function: \"thin_plate_spline\", smoothing = 0 ]\n",
    "\n",
    "```"
   ]
  },
  {
   "attachments": {},
   "cell_type": "markdown",
   "metadata": {},
   "source": [
    "\"[![](images/screen_recording.mp4){width=\\\"900px\\\"}](images/screen_recording.mp4)\""
   ]
  }
 ],
 "metadata": {
  "kernelspec": {
   "display_name": "Python 3",
   "language": "python",
   "name": "python3"
  },
  "language_info": {
   "name": "python",
   "version": "3.8.10 (default, Jun 22 2022, 20:18:18) \n[GCC 9.4.0]"
  },
  "vscode": {
   "interpreter": {
    "hash": "916dbcbb3f70747c44a77c7bcd40155683ae19c65e1c03b4aa3499c5328201f1"
   }
  }
 },
 "nbformat": 4,
 "nbformat_minor": 4
}
