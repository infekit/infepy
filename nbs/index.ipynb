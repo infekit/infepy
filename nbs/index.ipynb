{
 "cells": [
  {
   "cell_type": "markdown",
   "metadata": {},
   "source": [
    "# infepy\n",
    "\n",
    "> Individualized FE python kit. "
   ]
  },
  {
   "cell_type": "markdown",
   "metadata": {},
   "source": [
    "![workflow of infe](images/workflow_infe.png)"
   ]
  },
  {
   "attachments": {},
   "cell_type": "markdown",
   "metadata": {},
   "source": [
    "![Morphing](images/screen_recording.mp4)"
   ]
  },
  {
   "cell_type": "markdown",
   "metadata": {},
   "source": [
    "## Install"
   ]
  },
  {
   "cell_type": "markdown",
   "metadata": {},
   "source": [
    "```sh\n",
    "pip install infepy\n",
    "```"
   ]
  },
  {
   "attachments": {},
   "cell_type": "markdown",
   "metadata": {},
   "source": [
    "## To install locally:\n",
    "\n",
    "```sh\n",
    "git clone https://github.com/infekit/infepy\n",
    "\n",
    "Insert data folders (source,target landmarks and source mesh), modify the config.toml\n",
    "\n",
    "pip install -e path-to-cloned-repo\n",
    "\n",
    "cd into-repo\n",
    "\n",
    "from CL python morph.py --function name --smoothing value [default settings: Function: \"thin_plate_spline\", smoothing = 0 ]\n",
    "\n",
    "```"
   ]
  }
 ],
 "metadata": {
  "kernelspec": {
   "display_name": "Python 3",
   "language": "python",
   "name": "python3"
  }
 },
 "nbformat": 4,
 "nbformat_minor": 4
}
