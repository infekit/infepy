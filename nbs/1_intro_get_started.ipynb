{
 "cells": [
  {
   "attachments": {},
   "cell_type": "markdown",
   "metadata": {},
   "source": [
    "# Get started with INFEPY\n",
    "\n",
    "> Landmarking and morphing"
   ]
  },
  {
   "attachments": {},
   "cell_type": "markdown",
   "metadata": {},
   "source": [
    "## What you need to use infepy \n",
    "\n",
    "**Inputs files:**\n",
    "\n",
    "- Landmarks file of the Source Volume\n",
    "- Landmarks file of the Target Volume.\n",
    "- Finite Element Mesh file of the Source Volume. \n",
    "\n",
    "**Output:**\n",
    "\n",
    "- Morphed volume: the deformed mesh according to the landmarks provided.\n",
    "---"
   ]
  },
  {
   "attachments": {},
   "cell_type": "markdown",
   "metadata": {},
   "source": [
    ":::{.callout-note}\n",
    "There can multiple targets to morph. Infepy checks if there are multiple forlder in the target folder. If that is so, it morphes multiple files.\n",
    ":::"
   ]
  },
  {
   "attachments": {},
   "cell_type": "markdown",
   "metadata": {},
   "source": [
    "**Supported files extensions: **\n",
    "\n",
    "- For mesh files:\n",
    "    -  LS-DYNA keywords files (.key/.k)\n",
    "    -  Comma-Separated Values file (csv)\n",
    "\n",
    "- For landmarks files:\n",
    "    - LS-DYNA keywords files (.key/.k)\n",
    "    - Comma-Separated Values file (.csv/.fcsv)\n",
    "    - Extensible Markup Language  (.xml) -- beta usage!"
   ]
  },
  {
   "attachments": {},
   "cell_type": "markdown",
   "metadata": {},
   "source": [
    "![Infepy](images/Infepy.png)"
   ]
  },
  {
   "attachments": {},
   "cell_type": "markdown",
   "metadata": {},
   "source": []
  }
 ],
 "metadata": {
  "kernelspec": {
   "display_name": "python3",
   "language": "python",
   "name": "python3"
  }
 },
 "nbformat": 4,
 "nbformat_minor": 2
}
