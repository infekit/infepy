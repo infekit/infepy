{
 "cells": [
  {
   "attachments": {},
   "cell_type": "markdown",
   "metadata": {},
   "source": [
    "# Write a key file format from a .csv file "
   ]
  },
  {
   "cell_type": "code",
   "execution_count": null,
   "metadata": {},
   "outputs": [],
   "source": [
    "#| default_exp write_keyfile"
   ]
  },
  {
   "cell_type": "code",
   "execution_count": null,
   "metadata": {},
   "outputs": [],
   "source": [
    "#| export\n",
    "import os\n",
    "import numpy as np\n",
    "from nbdev.showdoc import *\n",
    "import pandas as pd\n",
    "from argparse import ArgumentParser"
   ]
  },
  {
   "attachments": {},
   "cell_type": "markdown",
   "metadata": {},
   "source": [
    "Create a random pd.Dataframe in a csv_file."
   ]
  },
  {
   "cell_type": "code",
   "execution_count": null,
   "metadata": {},
   "outputs": [],
   "source": [
    "#| export\n",
    "def df_to_ls_dyna_format(dataframe: pd.DataFrame # Dataframe containing node position\n",
    "                         ):\n",
    "    #Trasfrom from a df to LS-DYNA node format *NODE x y z (8,16,16,16)\n",
    "    list= []\n",
    "    for i in range(dataframe.shape[0]):\n",
    "        x = round(float(dataframe.iloc[i,1]),6)\n",
    "        y= round(float(dataframe.iloc[i,2]),6)\n",
    "        z= round(float(dataframe.iloc[i,3]),6)\n",
    "        a= str(dataframe.iloc[i,0]).ljust(8)\n",
    "        b=str(x).ljust(16)\n",
    "        c=str(y).ljust(16)\n",
    "        d=str(z).ljust(16)\n",
    "        tmp= (\"{}{}{}{}\\n\".format(a, b,c,d))\n",
    "        list.append(tmp)\n",
    "    return list"
   ]
  },
  {
   "cell_type": "code",
   "execution_count": null,
   "metadata": {},
   "outputs": [],
   "source": [
    "#| export\n",
    "parser = ArgumentParser(description=\"Write .k file in LS-DYNA from a .csv file. \")\n",
    "parser.add_argument(\"--file\", \n",
    "                    type=str,\n",
    "                    help=\"Type the path to a csv file\"\n",
    "                    )\n",
    "def write_kfile(path_to_file):\n",
    "    file = pd.read_csv(path_to_file, comment='#', header = None) # read the csv\n",
    "    file_extension = os.path.basename(path_to_file)\n",
    "    file_name = os.path.splitext( file_extension )[0] # get the file name \n",
    "    \n",
    "    with open(\"{}/{}.k\".format(\"../test_data/\",file_name), \"w\") as f:\n",
    "        list= df_to_ls_dyna_format(file) \n",
    "        f.write(\"*NODE \\n\") # first line is *NODE\n",
    "        f.write(\"# ID\\t \\t x,\\t \\ty,\\t \\tz\\n\") # first line is *NODE\n",
    "        for j in range(len(list)):\n",
    "            f.writelines(\"{}\".format(list[j]))      "
   ]
  },
  {
   "cell_type": "code",
   "execution_count": null,
   "metadata": {},
   "outputs": [],
   "source": [
    "#|eval: false\n",
    "#|export\n",
    "write_kfile(\"../test_data/source/landmarks_source.fcsv\")"
   ]
  },
  {
   "cell_type": "code",
   "execution_count": null,
   "metadata": {},
   "outputs": [],
   "source": [
    "#|eval: false\n",
    "#|export\n",
    "if __name__ == \"__main__\":\n",
    "    args= parser.parse_args()\n",
    "    print(\"Csv file to transform: \", args.file)\n",
    "    write_kfile(args.file)"
   ]
  },
  {
   "cell_type": "code",
   "execution_count": null,
   "metadata": {},
   "outputs": [],
   "source": [
    "#| hide\n",
    "from nbdev.showdoc import *"
   ]
  }
 ],
 "metadata": {
  "kernelspec": {
   "display_name": "infekit",
   "language": "python",
   "name": "python3"
  }
 },
 "nbformat": 4,
 "nbformat_minor": 2
}
