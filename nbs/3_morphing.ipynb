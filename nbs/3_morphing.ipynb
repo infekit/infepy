{
 "cells": [
  {
   "cell_type": "markdown",
   "metadata": {},
   "source": [
    "# Morphing\n",
    "\n",
    "> This module apply morphing to a template source from landmarks. Morphing from pygem library.\n"
   ]
  },
  {
   "attachments": {},
   "cell_type": "markdown",
   "metadata": {},
   "source": [
    "Install the repo with pip. Download with git clone infepy. \n",
    "Load you data in the data folder. \n",
    "Source is the template model, place the geometry in key file and fcsv landmarks.\n",
    "The target folder will be used for the file to morph. \n",
    "If there is only one target, place the landamarks inside the target folder.\n",
    "Structure should look like this:\n",
    " -  data/target/landmarks_target.fcsv\"\n",
    "In the config file:\n",
    "- One target: \n",
    "          \n",
    "           path = \"data/target\"\n",
    "           filename_landmarks = \"landmarks_target.fcsv\"\n",
    "\n",
    "\n",
    "If there are multiple targets:\n",
    "- multiple targets: \n",
    "           data/target/target1/landmarks.fcsv\n",
    "           data/target/target2/landmarks.fcsv\n",
    "           data/target/target3/landmarks.fcsv\n",
    "           data/target/target4/landmarks.fcsv\n",
    "In the config file:\n",
    "\n",
    "           path = \"data/target\"\n",
    "           filename_landmarks = \"landmarks_target.fcsv\"\n",
    "\n",
    "From the command line go into infepy/infepy.\n",
    "type: python morph.py\n",
    "The module can be called with different options.\n",
    "- morph.py [-h] [--function FUNCTION] [--smoothing SMOOTHING]\n",
    "\n",
    "optional arguments:\n",
    "- -h, --help            show this help message and exit\n",
    "-  --function FUNCTION   Basis Function for morphing\n",
    "-  --smoothing SMOOTHING Smoothing Factor\n",
    "\n"
   ]
  },
  {
   "cell_type": "code",
   "execution_count": null,
   "metadata": {},
   "outputs": [],
   "source": [
    "#| default_exp morph"
   ]
  },
  {
   "cell_type": "code",
   "execution_count": null,
   "metadata": {},
   "outputs": [],
   "source": [
    "#| hide\n",
    "from nbdev.showdoc import *"
   ]
  },
  {
   "cell_type": "code",
   "execution_count": null,
   "metadata": {},
   "outputs": [],
   "source": [
    "#| export\n",
    "import os\n",
    "import numpy as np\n",
    "import click\n",
    "from argparse import ArgumentParser"
   ]
  },
  {
   "cell_type": "code",
   "execution_count": null,
   "metadata": {},
   "outputs": [],
   "source": [
    "#| export\n",
    "import infepy.rbf as rbf\n",
    "import infepy.preprocessing as pre\n",
    "import infepy.utils as utils"
   ]
  },
  {
   "cell_type": "code",
   "execution_count": null,
   "metadata": {},
   "outputs": [],
   "source": [
    "#| export\n",
    "def morphing(source_landmarks: np.ndarray,  # Landmarks of the source mesh\n",
    "             target_landmarks: np.ndarray,  # Target Landmarks\n",
    "             source_mesh: np.ndarray, # Coordinates of the mesh/ mesh \n",
    "             func,\n",
    "             smoothing):\n",
    "    \"Morph the target mesh with RBF function - Thin Plate Spine.\"\n",
    "    basis_function = func\n",
    "    \n",
    "    rad_bas_fun = rbf.RBF(original_control_points=utils.from_df_to_np(source_landmarks) , \n",
    "              deformed_control_points= utils.from_df_to_np(target_landmarks),\n",
    "              func= basis_function,\n",
    "              smoothing= smoothing)\n",
    "\n",
    "    return rad_bas_fun(utils.from_df_to_np(source_mesh))"
   ]
  },
  {
   "cell_type": "markdown",
   "metadata": {},
   "source": [
    "## CALL from Command Line:\n",
    "- move into infepy/infepy directory\n",
    "- type python -m morph"
   ]
  },
  {
   "cell_type": "code",
   "execution_count": null,
   "metadata": {},
   "outputs": [],
   "source": [
    "#| export\n",
    "parser = ArgumentParser(description=\"Morphing function\")\n",
    "parser.add_argument(\"--function\", \n",
    "                    type=str,\n",
    "                    default='thin_plate_spline',\n",
    "                    help=\"Basis Function for morphing\")\n",
    "parser.add_argument(\"--smoothing\", \n",
    "                    type=float,\n",
    "                    default=0.0,\n",
    "                    help=\"Smoothing Factor\")\n",
    "        \n",
    "def do_morphing(func, smoothing):\n",
    "    config = utils.read_toml()\n",
    "    source_landmarks = pre.read_landmarks(utils._merge_path(config['source']['path'],config['source']['filename_landmarks']))\n",
    "    template_mesh = pre.read_nodes(utils._merge_path(config['source']['path'],config['source']['filename_mesh']))\n",
    "    \n",
    "    if utils.multiple_targets() == False: # single target\n",
    "        target_landmarks = pre.read_landmarks(utils._merge_path(config['target']['path'],config['target']['filename_landmarks']))\n",
    "        pre._check_landmarks(source_landmarks, target_landmarks)\n",
    "        morphed_mesh = morphing(source_landmarks, target_landmarks, template_mesh,func, smoothing)\n",
    "        pre.write_output(morphed_mesh,\n",
    "                     utils._merge_path(config['target']['path'], 'morphed.key'),\n",
    "                     utils._merge_path(config['source']['path'], config['source']['filename_mesh']))\n",
    "    else:\n",
    "        targets_folder = utils.multiple_targets()\n",
    "        for folder in targets_folder:\n",
    "            folder_path = os.path.join(config['target']['path'],folder)\n",
    "            target_landmarks = pre.read_landmarks(utils._merge_path(folder_path,config['target']['filename_landmarks']))\n",
    "            pre._check_landmarks(source_landmarks, target_landmarks)\n",
    "            morphed_mesh = morphing(source_landmarks, target_landmarks, template_mesh,func, smoothing)\n",
    "            pre.write_output(morphed_mesh,\n",
    "                      utils._merge_path(folder_path,'morphed.key'),\n",
    "                      utils._merge_path(config['source']['path'],config['source']['filename_mesh']))\n",
    "    return"
   ]
  },
  {
   "cell_type": "code",
   "execution_count": null,
   "metadata": {},
   "outputs": [],
   "source": [
    "#| hide\n",
    "# do_morphing(func='thin_plate_spline', smoothing=None)"
   ]
  },
  {
   "cell_type": "code",
   "execution_count": null,
   "metadata": {},
   "outputs": [],
   "source": [
    "#| export\n",
    "if __name__ == \"__main__\":\n",
    "    args= parser.parse_args()\n",
    "    print(\"Radial Basis Function: \", args.function)\n",
    "    print(\"Smoothing factor: \", args.smoothing)\n",
    "    do_morphing(args.function, args.smoothing)"
   ]
  },
  {
   "cell_type": "code",
   "execution_count": null,
   "metadata": {},
   "outputs": [],
   "source": [
    "#| hide\n",
    "import nbdev; nbdev.nbdev_export()"
   ]
  }
 ],
 "metadata": {
  "kernelspec": {
   "display_name": "Python 3",
   "language": "python",
   "name": "python3"
  },
  "language_info": {
   "name": "python",
   "version": "3.8.10 (default, Jun 22 2022, 20:18:18) \n[GCC 9.4.0]"
  },
  "vscode": {
   "interpreter": {
    "hash": "916dbcbb3f70747c44a77c7bcd40155683ae19c65e1c03b4aa3499c5328201f1"
   }
  }
 },
 "nbformat": 4,
 "nbformat_minor": 4
}
