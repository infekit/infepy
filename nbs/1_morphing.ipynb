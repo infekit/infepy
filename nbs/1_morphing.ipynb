{
 "cells": [
  {
   "cell_type": "markdown",
   "metadata": {},
   "source": [
    "# Morphing\n",
    "\n",
    "> This module apply morphing to a template source from landmarks. Morphing from pygem library.\n"
   ]
  },
  {
   "cell_type": "code",
   "execution_count": null,
   "metadata": {},
   "outputs": [],
   "source": [
    "#| default_exp morph"
   ]
  },
  {
   "cell_type": "code",
   "execution_count": null,
   "metadata": {},
   "outputs": [],
   "source": [
    "#| hide\n",
    "from nbdev.showdoc import *"
   ]
  },
  {
   "cell_type": "code",
   "execution_count": null,
   "metadata": {},
   "outputs": [],
   "source": [
    "#| export\n",
    "import os\n",
    "import numpy as np\n",
    "import click"
   ]
  },
  {
   "cell_type": "code",
   "execution_count": null,
   "metadata": {},
   "outputs": [],
   "source": [
    "#| export\n",
    "from infepy.rbf import RBF"
   ]
  },
  {
   "cell_type": "code",
   "execution_count": null,
   "metadata": {},
   "outputs": [],
   "source": [
    "#| export\n",
    "from infepy.preprocessing import read_landmarks, read_nodes, _check_landmarks, write_output\n",
    "from infepy.utils import read_toml, multiple_targets, _merge_path, to_ls_dyna, read_csv_file,from_df_to_np"
   ]
  },
  {
   "cell_type": "code",
   "execution_count": null,
   "metadata": {},
   "outputs": [],
   "source": [
    "#| export\n",
    "def morphing(source_landmarks: np.ndarray,  # Landmarks of the source mesh\n",
    "             target_landmarks: np.ndarray,  # Target Landmarks\n",
    "             source_mesh: np.ndarray, # Coordinates of the mesh/ mesh \n",
    "             ):\n",
    "    \"Morph the target mesh with RBF function - Thin Plate Spine.\"\n",
    "    \n",
    "    rbf = RBF(original_control_points=from_df_to_np(source_landmarks) , \n",
    "              deformed_control_points= from_df_to_np(target_landmarks),\n",
    "              func='thin_plate_spline', radius=1.0)\n",
    "\n",
    "    return rbf(from_df_to_np(source_mesh))"
   ]
  },
  {
   "cell_type": "code",
   "execution_count": null,
   "metadata": {},
   "outputs": [],
   "source": [
    "#| export\n",
    "# @click.command()\n",
    "# @click.option('--name', prompt='Filename source mesh', help=' Template mesh name')\n",
    "# @click.option('--file', prompt = 'Extension source mesh', help=' Source mesh type key or csv.')\n",
    "# @click.option('--n_target', default = 1 ,prompt = 'Number of target', help='Number of targets.')\n",
    "\n",
    "def do_morphing():\n",
    "    config = read_toml()\n",
    "    source_landmarks = read_landmarks(_merge_path(config['source']['path'],config['source']['filename_landmarks']))\n",
    "    template_mesh = read_nodes(_merge_path(config['source']['path'],config['source']['filename_mesh']))\n",
    "    \n",
    "    if multiple_targets() == False: # single target\n",
    "        target_landmarks = read_landmarks(_merge_path(config['target']['path'],config['target']['filename_landmarks']))\n",
    "        _check_landmarks(source_landmarks, target_landmarks)\n",
    "        morphed_mesh = morphing(source_landmarks, target_landmarks, template_mesh)\n",
    "        write_output(morphed_mesh,\n",
    "                     _merge_path(config['target']['path'], 'morphed.key'),\n",
    "                     _merge_path(config['source']['path'],config['source']['filename_mesh']))\n",
    "    else:\n",
    "        targets_folder = multiple_targets()\n",
    "        for folder in targets_folder:\n",
    "            folder_path = os.path.join(config['target']['path'],folder)\n",
    "            target_landmarks = read_landmarks(_merge_path(folder_path,config['target']['filename_landmarks']))\n",
    "            _check_landmarks(source_landmarks, target_landmarks)\n",
    "            morphed_mesh = morphing(source_landmarks, target_landmarks, template_mesh)\n",
    "            write_output(morphed_mesh,\n",
    "                      _merge_path(folder_path,'morphed.key'),\n",
    "                      _merge_path(config['source']['path'],config['source']['filename_mesh']))\n",
    "    return"
   ]
  },
  {
   "cell_type": "code",
   "execution_count": null,
   "metadata": {},
   "outputs": [
    {
     "ename": "SyntaxError",
     "evalue": "invalid syntax (1641638307.py, line 4)",
     "output_type": "error",
     "traceback": [
      "\u001b[0;36m  Cell \u001b[0;32mIn [25], line 4\u001b[0;36m\u001b[0m\n\u001b[0;31m    if __name__ == \"__main__\":\u001b[0m\n\u001b[0m    ^\u001b[0m\n\u001b[0;31mSyntaxError\u001b[0m\u001b[0;31m:\u001b[0m invalid syntax\n"
     ]
    }
   ],
   "source": [
    "#| export\n",
    "if __name__ == \"__main__\":\n",
    "    do_morphing()"
   ]
  },
  {
   "cell_type": "code",
   "execution_count": null,
   "metadata": {},
   "outputs": [],
   "source": [
    "#| hide\n",
    "import nbdev; nbdev.nbdev_export()"
   ]
  }
 ],
 "metadata": {
  "kernelspec": {
   "display_name": "Python 3.9.15 ('infekit')",
   "language": "python",
   "name": "python3"
  }
 },
 "nbformat": 4,
 "nbformat_minor": 4
}
