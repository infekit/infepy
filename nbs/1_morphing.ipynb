{
 "cells": [
  {
   "cell_type": "markdown",
   "metadata": {},
   "source": [
    "# Morphing\n",
    "\n",
    "> This module apply morphing to a template source from landmarks. Morphing from pygem library.\n"
   ]
  },
  {
   "cell_type": "code",
   "execution_count": null,
   "metadata": {},
   "outputs": [],
   "source": [
    "#| default_exp morph"
   ]
  },
  {
   "cell_type": "code",
   "execution_count": null,
   "metadata": {},
   "outputs": [],
   "source": [
    "#| hide\n",
    "from nbdev.showdoc import *"
   ]
  },
  {
   "cell_type": "code",
   "execution_count": null,
   "metadata": {},
   "outputs": [],
   "source": [
    "#| export\n",
    "import os\n",
    "import numpy as np\n",
    "import click\n",
    "from pygem import RBF"
   ]
  },
  {
   "cell_type": "code",
   "execution_count": null,
   "metadata": {},
   "outputs": [],
   "source": [
    "# #| export\n",
    "from infepy.preprocessing import read_landmarks, read_nodes, _check_landmarks\n",
    "from infepy.utils import read_toml, multiple_targets, _merge_path"
   ]
  },
  {
   "cell_type": "code",
   "execution_count": null,
   "metadata": {},
   "outputs": [],
   "source": [
    "#| export\n",
    "def morphing(source_template: np.ndarray, # coordinates of the template mesh \n",
    "             source_landmarks: np.ndarray,  # Landmarks of the source template\n",
    "             target_landmarks: np.ndarray,  # Target Landmarks\n",
    "             ):\n",
    "    \"Morph the target geometry with RBF function - Thin Plate Spine. Plot the mesh and morphed mesh.\"\n",
    "    rbf = RBF(original_control_points=source_landmarks, deformed_control_points=target_landmarks,\n",
    "            func='thin_plate_spline', radius=1.0)\n",
    "    return rbf#rbf(source_template)"
   ]
  },
  {
   "cell_type": "code",
   "execution_count": null,
   "metadata": {},
   "outputs": [],
   "source": [
    "#| export\n",
    "def write_output(mesh: np.ndarray, # Morphed geometry\n",
    "    ):\n",
    "    \"Write an output file for the morphed geometry in key file format.\"\n",
    "    pass\n",
    "    return"
   ]
  },
  {
   "cell_type": "code",
   "execution_count": null,
   "metadata": {},
   "outputs": [],
   "source": [
    "#| export\n",
    "def main():\n",
    "    print(os.getcwd())\n",
    "    config = read_toml()\n",
    "    source_landmarks = read_landmarks(config['source']['filename_landmarks'])\n",
    "    template_geometry = read_nodes(config['source']['filename_geometry'])\n",
    "\n",
    "    if multiple_targets() == bool: # single target\n",
    "        target_landmarks = read_landmarks(config['target']['filename_landmarks'])\n",
    "    # _check_landmarks(source_landmarks, target_landmarks)\n",
    "        morphed_geometry = morphing(source_landmarks, target_landmarks, template_geometry)\n",
    "        write_output(morphed_geometry)\n",
    "    else:\n",
    "        targets_folder = multiple_targets()\n",
    "        for folder in targets_folder:\n",
    "            new_path = os.path.join(config['target']['path'],folder, config['target']['filename_landmarks'])\n",
    "            target_landmarks = read_landmarks(new_path)\n",
    "        # _check_landmarks(source_landmarks, target_landmarks)\n",
    "            morphed_geometry = morphing(source_landmarks, target_landmarks, template_geometry)\n",
    "            write_output(morphed_geometry)\n",
    "            print(\"Yes!!\")\n",
    "    return"
   ]
  },
  {
   "cell_type": "code",
   "execution_count": null,
   "metadata": {},
   "outputs": [
    {
     "name": "stdout",
     "output_type": "stream",
     "text": [
      "/mnt/c/Users/chiarar/OneDrive - Chalmers/SSMT - Subject Specific Modeling Toolstack/Github/infepy/nbs\n",
      "Yes!!\n",
      "Yes!!\n"
     ]
    },
    {
     "name": "stderr",
     "output_type": "stream",
     "text": [
      "/mnt/c/Users/chiarar/OneDrive - Chalmers/SSMT - Subject Specific Modeling Toolstack/Github/infepy/nbs/pygem/rbf_factory.py:93: RuntimeWarning: divide by zero encountered in log\n",
      "  result = np.where(arg > 0, result * np.log(arg), result)\n",
      "/mnt/c/Users/chiarar/OneDrive - Chalmers/SSMT - Subject Specific Modeling Toolstack/Github/infepy/nbs/pygem/rbf_factory.py:93: RuntimeWarning: invalid value encountered in multiply\n",
      "  result = np.where(arg > 0, result * np.log(arg), result)\n"
     ]
    }
   ],
   "source": [
    "main()"
   ]
  },
  {
   "cell_type": "code",
   "execution_count": null,
   "metadata": {},
   "outputs": [],
   "source": [
    "#| export\n",
    "# @click.command()\n",
    "# def hello():\n",
    "#     click.echo(\"hello\")"
   ]
  },
  {
   "cell_type": "code",
   "execution_count": null,
   "metadata": {},
   "outputs": [
    {
     "name": "stderr",
     "output_type": "stream",
     "text": [
      "Usage: ipykernel_launcher.py [OPTIONS]\n",
      "Try 'ipykernel_launcher.py --help' for help.\n",
      "\n",
      "Error: No such option: --ip Did you mean --help?\n"
     ]
    },
    {
     "ename": "AssertionError",
     "evalue": "",
     "output_type": "error",
     "traceback": [
      "\u001b[0;31m---------------------------------------------------------------------------\u001b[0m",
      "\u001b[0;31mNoSuchOption\u001b[0m                              Traceback (most recent call last)",
      "File \u001b[0;32m~/.local/lib/python3.9/site-packages/click/core.py:1054\u001b[0m, in \u001b[0;36mBaseCommand.main\u001b[0;34m(self, args, prog_name, complete_var, standalone_mode, windows_expand_args, **extra)\u001b[0m\n\u001b[1;32m   1053\u001b[0m \u001b[39mtry\u001b[39;00m:\n\u001b[0;32m-> 1054\u001b[0m     \u001b[39mwith\u001b[39;00m \u001b[39mself\u001b[39;49m\u001b[39m.\u001b[39;49mmake_context(prog_name, args, \u001b[39m*\u001b[39;49m\u001b[39m*\u001b[39;49mextra) \u001b[39mas\u001b[39;00m ctx:\n\u001b[1;32m   1055\u001b[0m         rv \u001b[39m=\u001b[39m \u001b[39mself\u001b[39m\u001b[39m.\u001b[39minvoke(ctx)\n",
      "File \u001b[0;32m~/.local/lib/python3.9/site-packages/click/core.py:920\u001b[0m, in \u001b[0;36mBaseCommand.make_context\u001b[0;34m(self, info_name, args, parent, **extra)\u001b[0m\n\u001b[1;32m    919\u001b[0m \u001b[39mwith\u001b[39;00m ctx\u001b[39m.\u001b[39mscope(cleanup\u001b[39m=\u001b[39m\u001b[39mFalse\u001b[39;00m):\n\u001b[0;32m--> 920\u001b[0m     \u001b[39mself\u001b[39;49m\u001b[39m.\u001b[39;49mparse_args(ctx, args)\n\u001b[1;32m    921\u001b[0m \u001b[39mreturn\u001b[39;00m ctx\n",
      "File \u001b[0;32m~/.local/lib/python3.9/site-packages/click/core.py:1375\u001b[0m, in \u001b[0;36mCommand.parse_args\u001b[0;34m(self, ctx, args)\u001b[0m\n\u001b[1;32m   1374\u001b[0m parser \u001b[39m=\u001b[39m \u001b[39mself\u001b[39m\u001b[39m.\u001b[39mmake_parser(ctx)\n\u001b[0;32m-> 1375\u001b[0m opts, args, param_order \u001b[39m=\u001b[39m parser\u001b[39m.\u001b[39;49mparse_args(args\u001b[39m=\u001b[39;49margs)\n\u001b[1;32m   1377\u001b[0m \u001b[39mfor\u001b[39;00m param \u001b[39min\u001b[39;00m iter_params_for_processing(param_order, \u001b[39mself\u001b[39m\u001b[39m.\u001b[39mget_params(ctx)):\n",
      "File \u001b[0;32m~/.local/lib/python3.9/site-packages/click/parser.py:337\u001b[0m, in \u001b[0;36mOptionParser.parse_args\u001b[0;34m(self, args)\u001b[0m\n\u001b[1;32m    336\u001b[0m \u001b[39mtry\u001b[39;00m:\n\u001b[0;32m--> 337\u001b[0m     \u001b[39mself\u001b[39;49m\u001b[39m.\u001b[39;49m_process_args_for_options(state)\n\u001b[1;32m    338\u001b[0m     \u001b[39mself\u001b[39m\u001b[39m.\u001b[39m_process_args_for_args(state)\n",
      "File \u001b[0;32m~/.local/lib/python3.9/site-packages/click/parser.py:364\u001b[0m, in \u001b[0;36mOptionParser._process_args_for_options\u001b[0;34m(self, state)\u001b[0m\n\u001b[1;32m    363\u001b[0m \u001b[39melif\u001b[39;00m arg[:\u001b[39m1\u001b[39m] \u001b[39min\u001b[39;00m \u001b[39mself\u001b[39m\u001b[39m.\u001b[39m_opt_prefixes \u001b[39mand\u001b[39;00m arglen \u001b[39m>\u001b[39m \u001b[39m1\u001b[39m:\n\u001b[0;32m--> 364\u001b[0m     \u001b[39mself\u001b[39;49m\u001b[39m.\u001b[39;49m_process_opts(arg, state)\n\u001b[1;32m    365\u001b[0m \u001b[39melif\u001b[39;00m \u001b[39mself\u001b[39m\u001b[39m.\u001b[39mallow_interspersed_args:\n",
      "File \u001b[0;32m~/.local/lib/python3.9/site-packages/click/parser.py:514\u001b[0m, in \u001b[0;36mOptionParser._process_opts\u001b[0;34m(self, arg, state)\u001b[0m\n\u001b[1;32m    513\u001b[0m \u001b[39mtry\u001b[39;00m:\n\u001b[0;32m--> 514\u001b[0m     \u001b[39mself\u001b[39;49m\u001b[39m.\u001b[39;49m_match_long_opt(norm_long_opt, explicit_value, state)\n\u001b[1;32m    515\u001b[0m \u001b[39mexcept\u001b[39;00m NoSuchOption:\n\u001b[1;32m    516\u001b[0m     \u001b[39m# At this point the long option matching failed, and we need\u001b[39;00m\n\u001b[1;32m    517\u001b[0m     \u001b[39m# to try with short options.  However there is a special rule\u001b[39;00m\n\u001b[0;32m   (...)\u001b[0m\n\u001b[1;32m    520\u001b[0m     \u001b[39m# short option code and will instead raise the no option\u001b[39;00m\n\u001b[1;32m    521\u001b[0m     \u001b[39m# error.\u001b[39;00m\n",
      "File \u001b[0;32m~/.local/lib/python3.9/site-packages/click/parser.py:398\u001b[0m, in \u001b[0;36mOptionParser._match_long_opt\u001b[0;34m(self, opt, explicit_value, state)\u001b[0m\n\u001b[1;32m    397\u001b[0m     possibilities \u001b[39m=\u001b[39m get_close_matches(opt, \u001b[39mself\u001b[39m\u001b[39m.\u001b[39m_long_opt)\n\u001b[0;32m--> 398\u001b[0m     \u001b[39mraise\u001b[39;00m NoSuchOption(opt, possibilities\u001b[39m=\u001b[39mpossibilities, ctx\u001b[39m=\u001b[39m\u001b[39mself\u001b[39m\u001b[39m.\u001b[39mctx)\n\u001b[1;32m    400\u001b[0m option \u001b[39m=\u001b[39m \u001b[39mself\u001b[39m\u001b[39m.\u001b[39m_long_opt[opt]\n",
      "\u001b[0;31mNoSuchOption\u001b[0m: No such option: --ip",
      "\nDuring handling of the above exception, another exception occurred:\n",
      "\u001b[0;31mSystemExit\u001b[0m                                Traceback (most recent call last)",
      "    \u001b[0;31m[... skipping hidden 1 frame]\u001b[0m\n",
      "Cell \u001b[0;32mIn [61], line 3\u001b[0m\n\u001b[1;32m      2\u001b[0m \u001b[39mif\u001b[39;00m \u001b[39m__name__\u001b[39m \u001b[39m==\u001b[39m \u001b[39m\"\u001b[39m\u001b[39m__main__\u001b[39m\u001b[39m\"\u001b[39m:\n\u001b[0;32m----> 3\u001b[0m     hello()\n",
      "File \u001b[0;32m~/.local/lib/python3.9/site-packages/click/core.py:1130\u001b[0m, in \u001b[0;36mBaseCommand.__call__\u001b[0;34m(self, *args, **kwargs)\u001b[0m\n\u001b[1;32m   1129\u001b[0m \u001b[39m\"\"\"Alias for :meth:`main`.\"\"\"\u001b[39;00m\n\u001b[0;32m-> 1130\u001b[0m \u001b[39mreturn\u001b[39;00m \u001b[39mself\u001b[39;49m\u001b[39m.\u001b[39;49mmain(\u001b[39m*\u001b[39;49margs, \u001b[39m*\u001b[39;49m\u001b[39m*\u001b[39;49mkwargs)\n",
      "File \u001b[0;32m~/.local/lib/python3.9/site-packages/click/core.py:1073\u001b[0m, in \u001b[0;36mBaseCommand.main\u001b[0;34m(self, args, prog_name, complete_var, standalone_mode, windows_expand_args, **extra)\u001b[0m\n\u001b[1;32m   1072\u001b[0m     e\u001b[39m.\u001b[39mshow()\n\u001b[0;32m-> 1073\u001b[0m     sys\u001b[39m.\u001b[39;49mexit(e\u001b[39m.\u001b[39;49mexit_code)\n\u001b[1;32m   1074\u001b[0m \u001b[39mexcept\u001b[39;00m \u001b[39mOSError\u001b[39;00m \u001b[39mas\u001b[39;00m e:\n",
      "\u001b[0;31mSystemExit\u001b[0m: 2",
      "\nDuring handling of the above exception, another exception occurred:\n",
      "\u001b[0;31mAssertionError\u001b[0m                            Traceback (most recent call last)",
      "    \u001b[0;31m[... skipping hidden 1 frame]\u001b[0m\n",
      "File \u001b[0;32m~/anaconda3/envs/infekit/lib/python3.9/site-packages/IPython/core/interactiveshell.py:2042\u001b[0m, in \u001b[0;36mInteractiveShell.showtraceback\u001b[0;34m(self, exc_tuple, filename, tb_offset, exception_only, running_compiled_code)\u001b[0m\n\u001b[1;32m   2039\u001b[0m \u001b[39mif\u001b[39;00m exception_only:\n\u001b[1;32m   2040\u001b[0m     stb \u001b[39m=\u001b[39m [\u001b[39m'\u001b[39m\u001b[39mAn exception has occurred, use \u001b[39m\u001b[39m%\u001b[39m\u001b[39mtb to see \u001b[39m\u001b[39m'\u001b[39m\n\u001b[1;32m   2041\u001b[0m            \u001b[39m'\u001b[39m\u001b[39mthe full traceback.\u001b[39m\u001b[39m\\n\u001b[39;00m\u001b[39m'\u001b[39m]\n\u001b[0;32m-> 2042\u001b[0m     stb\u001b[39m.\u001b[39mextend(\u001b[39mself\u001b[39;49m\u001b[39m.\u001b[39;49mInteractiveTB\u001b[39m.\u001b[39;49mget_exception_only(etype,\n\u001b[1;32m   2043\u001b[0m                                                      value))\n\u001b[1;32m   2044\u001b[0m \u001b[39melse\u001b[39;00m:\n\u001b[1;32m   2045\u001b[0m     \u001b[39mtry\u001b[39;00m:\n\u001b[1;32m   2046\u001b[0m         \u001b[39m# Exception classes can customise their traceback - we\u001b[39;00m\n\u001b[1;32m   2047\u001b[0m         \u001b[39m# use this in IPython.parallel for exceptions occurring\u001b[39;00m\n\u001b[1;32m   2048\u001b[0m         \u001b[39m# in the engines. This should return a list of strings.\u001b[39;00m\n",
      "File \u001b[0;32m~/anaconda3/envs/infekit/lib/python3.9/site-packages/IPython/core/ultratb.py:579\u001b[0m, in \u001b[0;36mListTB.get_exception_only\u001b[0;34m(self, etype, value)\u001b[0m\n\u001b[1;32m    571\u001b[0m \u001b[39mdef\u001b[39;00m \u001b[39mget_exception_only\u001b[39m(\u001b[39mself\u001b[39m, etype, value):\n\u001b[1;32m    572\u001b[0m     \u001b[39m\"\"\"Only print the exception type and message, without a traceback.\u001b[39;00m\n\u001b[1;32m    573\u001b[0m \n\u001b[1;32m    574\u001b[0m \u001b[39m    Parameters\u001b[39;00m\n\u001b[0;32m   (...)\u001b[0m\n\u001b[1;32m    577\u001b[0m \u001b[39m    value : exception value\u001b[39;00m\n\u001b[1;32m    578\u001b[0m \u001b[39m    \"\"\"\u001b[39;00m\n\u001b[0;32m--> 579\u001b[0m     \u001b[39mreturn\u001b[39;00m ListTB\u001b[39m.\u001b[39;49mstructured_traceback(\u001b[39mself\u001b[39;49m, etype, value)\n",
      "File \u001b[0;32m~/anaconda3/envs/infekit/lib/python3.9/site-packages/IPython/core/ultratb.py:446\u001b[0m, in \u001b[0;36mListTB.structured_traceback\u001b[0;34m(self, etype, evalue, etb, tb_offset, context)\u001b[0m\n\u001b[1;32m    443\u001b[0m     chained_exc_ids\u001b[39m.\u001b[39madd(\u001b[39mid\u001b[39m(exception[\u001b[39m1\u001b[39m]))\n\u001b[1;32m    444\u001b[0m     chained_exceptions_tb_offset \u001b[39m=\u001b[39m \u001b[39m0\u001b[39m\n\u001b[1;32m    445\u001b[0m     out_list \u001b[39m=\u001b[39m (\n\u001b[0;32m--> 446\u001b[0m         \u001b[39mself\u001b[39;49m\u001b[39m.\u001b[39;49mstructured_traceback(\n\u001b[1;32m    447\u001b[0m             etype, evalue, (etb, chained_exc_ids),\n\u001b[1;32m    448\u001b[0m             chained_exceptions_tb_offset, context)\n\u001b[1;32m    449\u001b[0m         \u001b[39m+\u001b[39m chained_exception_message\n\u001b[1;32m    450\u001b[0m         \u001b[39m+\u001b[39m out_list)\n\u001b[1;32m    452\u001b[0m \u001b[39mreturn\u001b[39;00m out_list\n",
      "File \u001b[0;32m~/anaconda3/envs/infekit/lib/python3.9/site-packages/IPython/core/ultratb.py:1112\u001b[0m, in \u001b[0;36mAutoFormattedTB.structured_traceback\u001b[0;34m(self, etype, value, tb, tb_offset, number_of_lines_of_context)\u001b[0m\n\u001b[1;32m   1110\u001b[0m \u001b[39melse\u001b[39;00m:\n\u001b[1;32m   1111\u001b[0m     \u001b[39mself\u001b[39m\u001b[39m.\u001b[39mtb \u001b[39m=\u001b[39m tb\n\u001b[0;32m-> 1112\u001b[0m \u001b[39mreturn\u001b[39;00m FormattedTB\u001b[39m.\u001b[39;49mstructured_traceback(\n\u001b[1;32m   1113\u001b[0m     \u001b[39mself\u001b[39;49m, etype, value, tb, tb_offset, number_of_lines_of_context)\n",
      "File \u001b[0;32m~/anaconda3/envs/infekit/lib/python3.9/site-packages/IPython/core/ultratb.py:1006\u001b[0m, in \u001b[0;36mFormattedTB.structured_traceback\u001b[0;34m(self, etype, value, tb, tb_offset, number_of_lines_of_context)\u001b[0m\n\u001b[1;32m   1003\u001b[0m mode \u001b[39m=\u001b[39m \u001b[39mself\u001b[39m\u001b[39m.\u001b[39mmode\n\u001b[1;32m   1004\u001b[0m \u001b[39mif\u001b[39;00m mode \u001b[39min\u001b[39;00m \u001b[39mself\u001b[39m\u001b[39m.\u001b[39mverbose_modes:\n\u001b[1;32m   1005\u001b[0m     \u001b[39m# Verbose modes need a full traceback\u001b[39;00m\n\u001b[0;32m-> 1006\u001b[0m     \u001b[39mreturn\u001b[39;00m VerboseTB\u001b[39m.\u001b[39;49mstructured_traceback(\n\u001b[1;32m   1007\u001b[0m         \u001b[39mself\u001b[39;49m, etype, value, tb, tb_offset, number_of_lines_of_context\n\u001b[1;32m   1008\u001b[0m     )\n\u001b[1;32m   1009\u001b[0m \u001b[39melif\u001b[39;00m mode \u001b[39m==\u001b[39m \u001b[39m'\u001b[39m\u001b[39mMinimal\u001b[39m\u001b[39m'\u001b[39m:\n\u001b[1;32m   1010\u001b[0m     \u001b[39mreturn\u001b[39;00m ListTB\u001b[39m.\u001b[39mget_exception_only(\u001b[39mself\u001b[39m, etype, value)\n",
      "File \u001b[0;32m~/anaconda3/envs/infekit/lib/python3.9/site-packages/IPython/core/ultratb.py:859\u001b[0m, in \u001b[0;36mVerboseTB.structured_traceback\u001b[0;34m(self, etype, evalue, etb, tb_offset, number_of_lines_of_context)\u001b[0m\n\u001b[1;32m    850\u001b[0m \u001b[39mdef\u001b[39;00m \u001b[39mstructured_traceback\u001b[39m(\n\u001b[1;32m    851\u001b[0m     \u001b[39mself\u001b[39m,\n\u001b[1;32m    852\u001b[0m     etype: \u001b[39mtype\u001b[39m,\n\u001b[0;32m   (...)\u001b[0m\n\u001b[1;32m    856\u001b[0m     number_of_lines_of_context: \u001b[39mint\u001b[39m \u001b[39m=\u001b[39m \u001b[39m5\u001b[39m,\n\u001b[1;32m    857\u001b[0m ):\n\u001b[1;32m    858\u001b[0m     \u001b[39m\"\"\"Return a nice text document describing the traceback.\"\"\"\u001b[39;00m\n\u001b[0;32m--> 859\u001b[0m     formatted_exception \u001b[39m=\u001b[39m \u001b[39mself\u001b[39;49m\u001b[39m.\u001b[39;49mformat_exception_as_a_whole(etype, evalue, etb, number_of_lines_of_context,\n\u001b[1;32m    860\u001b[0m                                                            tb_offset)\n\u001b[1;32m    862\u001b[0m     colors \u001b[39m=\u001b[39m \u001b[39mself\u001b[39m\u001b[39m.\u001b[39mColors  \u001b[39m# just a shorthand + quicker name lookup\u001b[39;00m\n\u001b[1;32m    863\u001b[0m     colorsnormal \u001b[39m=\u001b[39m colors\u001b[39m.\u001b[39mNormal  \u001b[39m# used a lot\u001b[39;00m\n",
      "File \u001b[0;32m~/anaconda3/envs/infekit/lib/python3.9/site-packages/IPython/core/ultratb.py:793\u001b[0m, in \u001b[0;36mVerboseTB.format_exception_as_a_whole\u001b[0;34m(self, etype, evalue, etb, number_of_lines_of_context, tb_offset)\u001b[0m\n\u001b[1;32m    790\u001b[0m \u001b[39massert\u001b[39;00m \u001b[39misinstance\u001b[39m(tb_offset, \u001b[39mint\u001b[39m)\n\u001b[1;32m    791\u001b[0m head \u001b[39m=\u001b[39m \u001b[39mself\u001b[39m\u001b[39m.\u001b[39mprepare_header(etype, \u001b[39mself\u001b[39m\u001b[39m.\u001b[39mlong_header)\n\u001b[1;32m    792\u001b[0m records \u001b[39m=\u001b[39m (\n\u001b[0;32m--> 793\u001b[0m     \u001b[39mself\u001b[39;49m\u001b[39m.\u001b[39;49mget_records(etb, number_of_lines_of_context, tb_offset) \u001b[39mif\u001b[39;00m etb \u001b[39melse\u001b[39;00m []\n\u001b[1;32m    794\u001b[0m )\n\u001b[1;32m    796\u001b[0m frames \u001b[39m=\u001b[39m []\n\u001b[1;32m    797\u001b[0m skipped \u001b[39m=\u001b[39m \u001b[39m0\u001b[39m\n",
      "File \u001b[0;32m~/anaconda3/envs/infekit/lib/python3.9/site-packages/IPython/core/ultratb.py:848\u001b[0m, in \u001b[0;36mVerboseTB.get_records\u001b[0;34m(self, etb, number_of_lines_of_context, tb_offset)\u001b[0m\n\u001b[1;32m    842\u001b[0m     formatter \u001b[39m=\u001b[39m \u001b[39mNone\u001b[39;00m\n\u001b[1;32m    843\u001b[0m options \u001b[39m=\u001b[39m stack_data\u001b[39m.\u001b[39mOptions(\n\u001b[1;32m    844\u001b[0m     before\u001b[39m=\u001b[39mbefore,\n\u001b[1;32m    845\u001b[0m     after\u001b[39m=\u001b[39mafter,\n\u001b[1;32m    846\u001b[0m     pygments_formatter\u001b[39m=\u001b[39mformatter,\n\u001b[1;32m    847\u001b[0m )\n\u001b[0;32m--> 848\u001b[0m \u001b[39mreturn\u001b[39;00m \u001b[39mlist\u001b[39;49m(stack_data\u001b[39m.\u001b[39;49mFrameInfo\u001b[39m.\u001b[39;49mstack_data(etb, options\u001b[39m=\u001b[39;49moptions))[tb_offset:]\n",
      "File \u001b[0;32m~/anaconda3/envs/infekit/lib/python3.9/site-packages/stack_data/core.py:546\u001b[0m, in \u001b[0;36mFrameInfo.stack_data\u001b[0;34m(cls, frame_or_tb, options, collapse_repeated_frames)\u001b[0m\n\u001b[1;32m    530\u001b[0m \u001b[39m@classmethod\u001b[39m\n\u001b[1;32m    531\u001b[0m \u001b[39mdef\u001b[39;00m \u001b[39mstack_data\u001b[39m(\n\u001b[1;32m    532\u001b[0m         \u001b[39mcls\u001b[39m,\n\u001b[0;32m   (...)\u001b[0m\n\u001b[1;32m    536\u001b[0m         collapse_repeated_frames: \u001b[39mbool\u001b[39m \u001b[39m=\u001b[39m \u001b[39mTrue\u001b[39;00m\n\u001b[1;32m    537\u001b[0m ) \u001b[39m-\u001b[39m\u001b[39m>\u001b[39m Iterator[Union[\u001b[39m'\u001b[39m\u001b[39mFrameInfo\u001b[39m\u001b[39m'\u001b[39m, RepeatedFrames]]:\n\u001b[1;32m    538\u001b[0m     \u001b[39m\"\"\"\u001b[39;00m\n\u001b[1;32m    539\u001b[0m \u001b[39m    An iterator of FrameInfo and RepeatedFrames objects representing\u001b[39;00m\n\u001b[1;32m    540\u001b[0m \u001b[39m    a full traceback or stack. Similar consecutive frames are collapsed into RepeatedFrames\u001b[39;00m\n\u001b[0;32m   (...)\u001b[0m\n\u001b[1;32m    544\u001b[0m \u001b[39m    and optionally an Options object to configure.\u001b[39;00m\n\u001b[1;32m    545\u001b[0m \u001b[39m    \"\"\"\u001b[39;00m\n\u001b[0;32m--> 546\u001b[0m     stack \u001b[39m=\u001b[39m \u001b[39mlist\u001b[39;49m(iter_stack(frame_or_tb))\n\u001b[1;32m    548\u001b[0m     \u001b[39m# Reverse the stack from a frame so that it's in the same order\u001b[39;00m\n\u001b[1;32m    549\u001b[0m     \u001b[39m# as the order from a traceback, which is the order of a printed\u001b[39;00m\n\u001b[1;32m    550\u001b[0m     \u001b[39m# traceback when read top to bottom (most recent call last)\u001b[39;00m\n\u001b[1;32m    551\u001b[0m     \u001b[39mif\u001b[39;00m is_frame(frame_or_tb):\n",
      "File \u001b[0;32m~/anaconda3/envs/infekit/lib/python3.9/site-packages/stack_data/utils.py:98\u001b[0m, in \u001b[0;36miter_stack\u001b[0;34m(frame_or_tb)\u001b[0m\n\u001b[1;32m     96\u001b[0m \u001b[39mwhile\u001b[39;00m frame_or_tb:\n\u001b[1;32m     97\u001b[0m     \u001b[39myield\u001b[39;00m frame_or_tb\n\u001b[0;32m---> 98\u001b[0m     \u001b[39mif\u001b[39;00m is_frame(frame_or_tb):\n\u001b[1;32m     99\u001b[0m         frame_or_tb \u001b[39m=\u001b[39m frame_or_tb\u001b[39m.\u001b[39mf_back\n\u001b[1;32m    100\u001b[0m     \u001b[39melse\u001b[39;00m:\n",
      "File \u001b[0;32m~/anaconda3/envs/infekit/lib/python3.9/site-packages/stack_data/utils.py:91\u001b[0m, in \u001b[0;36mis_frame\u001b[0;34m(frame_or_tb)\u001b[0m\n\u001b[1;32m     90\u001b[0m \u001b[39mdef\u001b[39;00m \u001b[39mis_frame\u001b[39m(frame_or_tb: Union[FrameType, TracebackType]) \u001b[39m-\u001b[39m\u001b[39m>\u001b[39m \u001b[39mbool\u001b[39m:\n\u001b[0;32m---> 91\u001b[0m     assert_(\u001b[39misinstance\u001b[39;49m(frame_or_tb, (types\u001b[39m.\u001b[39;49mFrameType, types\u001b[39m.\u001b[39;49mTracebackType)))\n\u001b[1;32m     92\u001b[0m     \u001b[39mreturn\u001b[39;00m \u001b[39misinstance\u001b[39m(frame_or_tb, (types\u001b[39m.\u001b[39mFrameType,))\n",
      "File \u001b[0;32m~/anaconda3/envs/infekit/lib/python3.9/site-packages/stack_data/utils.py:172\u001b[0m, in \u001b[0;36massert_\u001b[0;34m(condition, error)\u001b[0m\n\u001b[1;32m    170\u001b[0m \u001b[39mif\u001b[39;00m \u001b[39misinstance\u001b[39m(error, \u001b[39mstr\u001b[39m):\n\u001b[1;32m    171\u001b[0m     error \u001b[39m=\u001b[39m \u001b[39mAssertionError\u001b[39;00m(error)\n\u001b[0;32m--> 172\u001b[0m \u001b[39mraise\u001b[39;00m error\n",
      "\u001b[0;31mAssertionError\u001b[0m: "
     ]
    }
   ],
   "source": [
    "# #| export\n",
    "# if __name__ == \"__main__\":\n",
    "#     hello()\n",
    "    "
   ]
  },
  {
   "cell_type": "code",
   "execution_count": null,
   "metadata": {},
   "outputs": [],
   "source": [
    "#| hide\n",
    "import nbdev; nbdev.nbdev_export()"
   ]
  }
 ],
 "metadata": {
  "kernelspec": {
   "display_name": "Python 3.9.15 ('infekit')",
   "language": "python",
   "name": "python3"
  }
 },
 "nbformat": 4,
 "nbformat_minor": 4
}
