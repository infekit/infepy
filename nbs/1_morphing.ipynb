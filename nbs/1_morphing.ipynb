{
 "cells": [
  {
   "cell_type": "markdown",
   "metadata": {},
   "source": [
    "# Morphing\n",
    "\n",
    "> This module apply morphing to a template source from landmarks. Morphing from pygem library.\n"
   ]
  },
  {
   "cell_type": "code",
   "execution_count": null,
   "metadata": {},
   "outputs": [],
   "source": [
    "#| default_exp morph"
   ]
  },
  {
   "cell_type": "code",
   "execution_count": null,
   "metadata": {},
   "outputs": [],
   "source": [
    "#| hide\n",
    "from nbdev.showdoc import *"
   ]
  },
  {
   "cell_type": "code",
   "execution_count": null,
   "metadata": {},
   "outputs": [],
   "source": [
    "#| export\n",
    "import os\n",
    "import numpy as np\n",
    "# https://gideonbrimleaf.github.io/2021/01/26/relative-imports-python.html"
   ]
  },
  {
   "cell_type": "code",
   "execution_count": null,
   "metadata": {},
   "outputs": [],
   "source": [
    "#| export\n",
    "from pygem.rbf import RBF"
   ]
  },
  {
   "cell_type": "code",
   "execution_count": null,
   "metadata": {},
   "outputs": [],
   "source": [
    "# #| export\n",
    "from infepy.preprocessing import read_landmarks, read_nodes, _check_landmarks\n",
    "from infepy.utils import read_toml, multiple_targets, _merge_path"
   ]
  },
  {
   "cell_type": "code",
   "execution_count": null,
   "metadata": {},
   "outputs": [],
   "source": [
    "#| export\n",
    "def morphing(source_template: np.ndarray, # coordinates of the template mesh \n",
    "             source_landmarks: np.ndarray,  # Landmarks of the source template\n",
    "             target_landmarks: np.ndarray,  # Target Landmarks\n",
    "             ):\n",
    "    \"Morph the target mesh with RBF function - Thin Plate Spine. Plot the mesh and morphed mesh.\"\n",
    "#     rbf = RBF(original_control_points=source_landmarks, deformed_control_points=target_landmarks,\n",
    "#             func='thin_plate_spline', radius=1.0)\n",
    "#     return rbf#rbf(source_template)"
   ]
  },
  {
   "cell_type": "code",
   "execution_count": null,
   "metadata": {},
   "outputs": [],
   "source": [
    "#| export\n",
    "def write_output(mesh: np.ndarray, # Morphed mesh\n",
    "    ):\n",
    "    \"Write an output file for the morphed mesh in key file format.\"\n",
    "    pass\n",
    "    return"
   ]
  },
  {
   "cell_type": "code",
   "execution_count": null,
   "metadata": {},
   "outputs": [
    {
     "ename": "",
     "evalue": "",
     "output_type": "error",
     "traceback": [
      "\u001b[1;31mRunning cells with 'Python 3.8.10 64-bit' requires ipykernel package.\n",
      "\u001b[1;31mRun the following command to install 'ipykernel' into the Python environment. \n",
      "\u001b[1;31mCommand: '/bin/python3 -m pip install ipykernel -U --user --force-reinstall'"
     ]
    }
   ],
   "source": [
    "# #| export\n",
    "# def main():\n",
    "#     print(os.getcwd())\n",
    "#     config = read_toml()\n",
    "#     source_landmarks = read_landmarks(config['source']['filename_landmarks'])\n",
    "#     template_mesh = read_nodes(config['source']['filename_mesh'])\n",
    "\n",
    "#     if multiple_targets() == bool: # single target\n",
    "#         target_landmarks = read_landmarks(config['target']['filename_landmarks'])\n",
    "#     # _check_landmarks(source_landmarks, target_landmarks)\n",
    "#         morphed_mesh = morphing(source_landmarks, target_landmarks, template_mesh)\n",
    "#         write_output(morphed_mesh)\n",
    "#     else:\n",
    "#         targets_folder = multiple_targets()\n",
    "#         for folder in targets_folder:\n",
    "#             new_path = os.path.join(config['target']['path'],folder, config['target']['filename_landmarks'])\n",
    "#             target_landmarks = read_landmarks(new_path)\n",
    "#         # _check_landmarks(source_landmarks, target_landmarks)\n",
    "#             morphed_mesh = morphing(source_landmarks, target_landmarks, template_mesh)\n",
    "#             write_output(morphed_mesh)\n",
    "#             print(\"Yes!!\")\n",
    "#     return"
   ]
  },
  {
   "cell_type": "code",
   "execution_count": null,
   "metadata": {},
   "outputs": [
    {
     "name": "stdout",
     "output_type": "stream",
     "text": [
      "/mnt/c/Users/chiarar/OneDrive - Chalmers/SSMT - Subject Specific Modeling Toolstack/Github/infepy/nbs\n",
      "Yes!!\n",
      "Yes!!\n"
     ]
    },
    {
     "name": "stderr",
     "output_type": "stream",
     "text": [
      "/mnt/c/Users/chiarar/OneDrive - Chalmers/SSMT - Subject Specific Modeling Toolstack/Github/infepy/nbs/pygem/rbf_factory.py:93: RuntimeWarning: divide by zero encountered in log\n",
      "  result = np.where(arg > 0, result * np.log(arg), result)\n",
      "/mnt/c/Users/chiarar/OneDrive - Chalmers/SSMT - Subject Specific Modeling Toolstack/Github/infepy/nbs/pygem/rbf_factory.py:93: RuntimeWarning: invalid value encountered in multiply\n",
      "  result = np.where(arg > 0, result * np.log(arg), result)\n"
     ]
    }
   ],
   "source": [
    "# main()"
   ]
  },
  {
   "cell_type": "code",
   "execution_count": null,
   "metadata": {},
   "outputs": [],
   "source": [
    "#| export\n",
    "# @click.command()\n",
    "# def hello():\n",
    "#     click.echo(\"hello\")"
   ]
  },
  {
   "cell_type": "code",
   "execution_count": null,
   "metadata": {},
   "outputs": [
    {
     "name": "stdout",
     "output_type": "stream",
     "text": [
      "/mnt/c/Users/chiarar/OneDrive - Chalmers/SSMT - Subject Specific Modeling Toolstack/Github/infepy/nbs\n",
      "Yes!!\n",
      "Yes!!\n"
     ]
    }
   ],
   "source": [
    "# #| export\n",
    "# if __name__ == \"__main__\":\n",
    "#     main()\n",
    "    "
   ]
  },
  {
   "cell_type": "code",
   "execution_count": null,
   "metadata": {},
   "outputs": [],
   "source": [
    "#| hide\n",
    "import nbdev; nbdev.nbdev_export()"
   ]
  }
 ],
 "metadata": {
  "kernelspec": {
   "display_name": "Python 3.9.15 ('infekit')",
   "language": "python",
   "name": "python3"
  }
 },
 "nbformat": 4,
 "nbformat_minor": 4
}
