{
 "cells": [
  {
   "cell_type": "markdown",
   "metadata": {},
   "source": [
    "# Morphing\n",
    "\n",
    "> This module apply morphing to a template source from landmarks. Morphing from pygem library.\n"
   ]
  },
  {
   "cell_type": "code",
   "execution_count": null,
   "metadata": {},
   "outputs": [],
   "source": [
    "#| default_exp morph"
   ]
  },
  {
   "cell_type": "code",
   "execution_count": null,
   "metadata": {},
   "outputs": [],
   "source": [
    "#| hide\n",
    "from nbdev.showdoc import *"
   ]
  },
  {
   "cell_type": "code",
   "execution_count": null,
   "metadata": {},
   "outputs": [],
   "source": [
    "#| export\n",
    "import os\n",
    "import numpy as np"
   ]
  },
  {
   "cell_type": "code",
   "execution_count": null,
   "metadata": {},
   "outputs": [],
   "source": [
    "#| export\n",
    "from infepy.preprocessing import read_landmarks, read_nodes, _check_landmarks\n",
    "from infepy.utils import read_toml, multiple_targets, _merge_path"
   ]
  },
  {
   "cell_type": "code",
   "execution_count": null,
   "metadata": {},
   "outputs": [],
   "source": [
    "#| export\n",
    "def morphing(source_template: np.ndarray, # coordinates of the template mesh \n",
    "             source_landmarks: np.ndarray,  # Landmarks of the source template\n",
    "             target_landmarks: np.ndarray,  # Target Landmarks\n",
    "             ):\n",
    "    \"Morph the target geometry with RBF function - Thin Plate Spine. Plot the mesh and morphed mesh.\"\n",
    "        # TO do Fix pygem\n",
    "        #rbf = RBF(original_control_points=source_landmarks, deformed_control_points=target_landmarks,\n",
    "        #       func='thin_plate_spline', radius=1.0)\n",
    "        #return rbf(source_template)\n",
    "    \n",
    "    pass\n",
    "    return"
   ]
  },
  {
   "cell_type": "code",
   "execution_count": null,
   "metadata": {},
   "outputs": [],
   "source": [
    "#| export\n",
    "def write_output(mesh: np.ndarray, # Morphed geometry\n",
    "    ):\n",
    "    \"Write an output file for the morphed geometry in key file format.\"\n",
    "    pass\n",
    "    return"
   ]
  },
  {
   "cell_type": "code",
   "execution_count": null,
   "metadata": {},
   "outputs": [],
   "source": [
    "# #| export\n",
    "# def __main__():\n",
    "#     config = read_toml()\n",
    "#     source_landmarks = read_landmarks(config['source']['filename_landmarks'])\n",
    "#     template_geometry = read_nodes(config['source']['filename_geometry'])\n",
    "\n",
    "#     if multiple_targets() == bool: # single target\n",
    "#         target_landmarks = read_landmarks(config['target']['filename_landmarks'])\n",
    "#         # _check_landmarks(source_landmarks, target_landmarks)\n",
    "#         morphed_geometry = morphing(source_landmarks, target_landmarks, template_geometry)\n",
    "#         write_output(morphed_geometry)\n",
    "#     else:\n",
    "#         targets_folder = multiple_targets()\n",
    "#         for folder in targets_folder:\n",
    "#             new_path = os.path.join(config['target']['path'],folder, config['target']['filename_landmarks'])\n",
    "#             target_landmarks = read_landmarks(new_path)\n",
    "#             # _check_landmarks(source_landmarks, target_landmarks)\n",
    "#             morphed_geometry = morphing(source_landmarks, target_landmarks, template_geometry)\n",
    "#             write_output(morphed_geometry)\n",
    "#             print(\"Yes!!\")\n",
    "\n",
    "# __main__()\n",
    "        \n",
    "        \n"
   ]
  },
  {
   "cell_type": "code",
   "execution_count": null,
   "metadata": {},
   "outputs": [],
   "source": [
    "#| hide\n",
    "import nbdev; nbdev.nbdev_export()"
   ]
  }
 ],
 "metadata": {
  "kernelspec": {
   "display_name": "Python 3.9.15 ('infekit')",
   "language": "python",
   "name": "python3"
  }
 },
 "nbformat": 4,
 "nbformat_minor": 4
}
