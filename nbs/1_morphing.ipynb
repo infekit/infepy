{
 "cells": [
  {
   "cell_type": "markdown",
   "metadata": {},
   "source": [
    "# Morphing\n",
    "\n",
    "> This module apply morphing to a template source from landmarks. Morphing from pygem library.\n"
   ]
  },
  {
   "cell_type": "code",
   "execution_count": null,
   "metadata": {},
   "outputs": [],
   "source": [
    "#| default_exp morph"
   ]
  },
  {
   "cell_type": "code",
   "execution_count": null,
   "metadata": {},
   "outputs": [],
   "source": [
    "#| hide\n",
    "from nbdev.showdoc import *"
   ]
  },
  {
   "cell_type": "code",
   "execution_count": null,
   "metadata": {},
   "outputs": [],
   "source": [
    "#| export\n",
    "import os\n",
    "import numpy as np"
   ]
  },
  {
   "cell_type": "code",
   "execution_count": null,
   "metadata": {},
   "outputs": [],
   "source": [
    "#| export\n",
    "from infepy.rbf import RBF"
   ]
  },
  {
   "cell_type": "code",
   "execution_count": null,
   "metadata": {},
   "outputs": [],
   "source": [
    "#| export\n",
    "from infepy.preprocessing import read_landmarks, read_nodes, _check_landmarks, write_output\n",
    "from infepy.utils import read_toml, multiple_targets, _merge_path, to_ls_dyna"
   ]
  },
  {
   "cell_type": "code",
   "execution_count": null,
   "metadata": {},
   "outputs": [],
   "source": [
    "#| export\n",
    "def morphing(source_mesh: np.ndarray, # Coordinates of the mesh/ mesh \n",
    "             source_landmarks: np.ndarray,  # Landmarks of the source mesh\n",
    "             target_landmarks: np.ndarray,  # Target Landmarks\n",
    "             ):\n",
    "    \"Morph the target mesh with RBF function - Thin Plate Spine.\"\n",
    "    rbf = RBF(original_control_points=source_landmarks, deformed_control_points=target_landmarks,\n",
    "            func='thin_plate_spline', radius=1.0)\n",
    "    return rbf(source_mesh)"
   ]
  },
  {
   "cell_type": "code",
   "execution_count": null,
   "metadata": {},
   "outputs": [
    {
     "ename": "NameError",
     "evalue": "name 'read_csv_file' is not defined",
     "output_type": "error",
     "traceback": [
      "\u001b[0;31m---------------------------------------------------------------------------\u001b[0m",
      "\u001b[0;31mNameError\u001b[0m                                 Traceback (most recent call last)",
      "Cell \u001b[0;32mIn [7], line 21\u001b[0m\n\u001b[1;32m     19\u001b[0m             write_output(morphed_mesh)\n\u001b[1;32m     20\u001b[0m     \u001b[39mreturn\u001b[39;00m\n\u001b[0;32m---> 21\u001b[0m main()\n",
      "Cell \u001b[0;32mIn [7], line 4\u001b[0m, in \u001b[0;36mmain\u001b[0;34m()\u001b[0m\n\u001b[1;32m      2\u001b[0m \u001b[39mdef\u001b[39;00m \u001b[39mmain\u001b[39m():\n\u001b[1;32m      3\u001b[0m     config \u001b[39m=\u001b[39m read_toml()\n\u001b[0;32m----> 4\u001b[0m     source_landmarks \u001b[39m=\u001b[39m read_landmarks(_merge_path(config[\u001b[39m'\u001b[39;49m\u001b[39msource\u001b[39;49m\u001b[39m'\u001b[39;49m][\u001b[39m'\u001b[39;49m\u001b[39mpath\u001b[39;49m\u001b[39m'\u001b[39;49m],config[\u001b[39m'\u001b[39;49m\u001b[39msource\u001b[39;49m\u001b[39m'\u001b[39;49m][\u001b[39m'\u001b[39;49m\u001b[39mfilename_landmarks\u001b[39;49m\u001b[39m'\u001b[39;49m]))\n\u001b[1;32m      5\u001b[0m     template_mesh \u001b[39m=\u001b[39m read_nodes(_merge_path(config[\u001b[39m'\u001b[39m\u001b[39msource\u001b[39m\u001b[39m'\u001b[39m][\u001b[39m'\u001b[39m\u001b[39mpath\u001b[39m\u001b[39m'\u001b[39m],config[\u001b[39m'\u001b[39m\u001b[39msource\u001b[39m\u001b[39m'\u001b[39m][\u001b[39m'\u001b[39m\u001b[39mfilename_mesh\u001b[39m\u001b[39m'\u001b[39m]))\n\u001b[1;32m      7\u001b[0m     \u001b[39mif\u001b[39;00m multiple_targets() \u001b[39m==\u001b[39m \u001b[39mbool\u001b[39m: \u001b[39m# single target\u001b[39;00m\n",
      "File \u001b[0;32m/mnt/c/Users/chiarar/OneDrive - Chalmers/SSMT - Subject Specific Modeling Toolstack/Github/infepy/infepy/preprocessing.py:43\u001b[0m, in \u001b[0;36mread_landmarks\u001b[0;34m(path_to_file)\u001b[0m\n\u001b[1;32m     41\u001b[0m file_exist \u001b[39m=\u001b[39m \u001b[39mFalse\u001b[39;00m\n\u001b[1;32m     42\u001b[0m \u001b[39mif\u001b[39;00m path_to_file\u001b[39m.\u001b[39mendswith(\u001b[39m\"\u001b[39m\u001b[39m.csv\u001b[39m\u001b[39m\"\u001b[39m):\n\u001b[0;32m---> 43\u001b[0m     landmarks_df \u001b[39m=\u001b[39m read_csv_file(path_to_file)\n\u001b[1;32m     44\u001b[0m     file_exist \u001b[39m=\u001b[39m \u001b[39mTrue\u001b[39;00m\n\u001b[1;32m     45\u001b[0m \u001b[39melif\u001b[39;00m path_to_file\u001b[39m.\u001b[39mendswith(\u001b[39m\"\u001b[39m\u001b[39m.key\u001b[39m\u001b[39m\"\u001b[39m) \u001b[39mor\u001b[39;00m path_to_file\u001b[39m.\u001b[39mendswith(\u001b[39m\"\u001b[39m\u001b[39m.k\u001b[39m\u001b[39m\"\u001b[39m):\n",
      "\u001b[0;31mNameError\u001b[0m: name 'read_csv_file' is not defined"
     ]
    }
   ],
   "source": [
    "\n",
    "# #| export\n",
    "# def main():\n",
    "#     config = read_toml()\n",
    "#     source_landmarks = read_landmarks(_merge_path(config['source']['path'],config['source']['filename_landmarks']))\n",
    "#     template_mesh = read_nodes(_merge_path(config['source']['path'],config['source']['filename_mesh']))\n",
    "\n",
    "#     if multiple_targets() == bool: # single target\n",
    "#         target_landmarks = read_landmarks(_merge_path(config['target']['path'],config['target']['filename_landmarks']))\n",
    "#         _check_landmarks(source_landmarks, target_landmarks)\n",
    "#         morphed_mesh = morphing(source_landmarks, target_landmarks, template_mesh)\n",
    "#         write_output(morphed_mesh)\n",
    "#     else:\n",
    "#         targets_folder = multiple_targets()\n",
    "#         for folder in targets_folder:\n",
    "#             new_path = os.path.join(config['target']['path'],folder, config['target']['filename_landmarks'])\n",
    "#             target_landmarks = read_landmarks(new_path)\n",
    "#             _check_landmarks(source_landmarks, target_landmarks)\n",
    "#             morphed_mesh = morphing(source_landmarks, target_landmarks, template_mesh)\n",
    "#             write_output(morphed_mesh)\n",
    "#     return\n",
    "# main()"
   ]
  },
  {
   "cell_type": "code",
   "execution_count": null,
   "metadata": {},
   "outputs": [],
   "source": [
    "#| export\n",
    "# @click.command()\n",
    "# def hello():\n",
    "#     click.echo(\"hello\")"
   ]
  },
  {
   "cell_type": "code",
   "execution_count": null,
   "metadata": {},
   "outputs": [
    {
     "name": "stdout",
     "output_type": "stream",
     "text": [
      "/mnt/c/Users/chiarar/OneDrive - Chalmers/SSMT - Subject Specific Modeling Toolstack/Github/infepy/nbs\n",
      "Yes!!\n",
      "Yes!!\n"
     ]
    }
   ],
   "source": [
    "# #| export\n",
    "# if __name__ == \"__main__\":\n",
    "#     main()\n",
    "    "
   ]
  },
  {
   "cell_type": "code",
   "execution_count": null,
   "metadata": {},
   "outputs": [],
   "source": [
    "#| hide\n",
    "import nbdev; nbdev.nbdev_export()"
   ]
  }
 ],
 "metadata": {
  "kernelspec": {
   "display_name": "Python 3.9.15 ('infekit')",
   "language": "python",
   "name": "python3"
  }
 },
 "nbformat": 4,
 "nbformat_minor": 4
}
