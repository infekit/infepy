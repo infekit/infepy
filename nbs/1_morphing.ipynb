{
 "cells": [
  {
   "cell_type": "markdown",
   "metadata": {},
   "source": [
    "# Morphing\n",
    "\n",
    "> This module apply morphing to a template source from landmarks. Morphing from pygem library.\n"
   ]
  },
  {
   "cell_type": "code",
   "execution_count": null,
   "metadata": {},
   "outputs": [],
   "source": [
    "#| default_exp morph"
   ]
  },
  {
   "cell_type": "code",
   "execution_count": null,
   "metadata": {},
   "outputs": [],
   "source": [
    "#| hide\n",
    "from nbdev.showdoc import *"
   ]
  },
  {
   "cell_type": "code",
   "execution_count": null,
   "metadata": {},
   "outputs": [],
   "source": [
    "#| export\n",
    "import os\n",
    "import numpy as np"
   ]
  },
  {
   "cell_type": "code",
   "execution_count": null,
   "metadata": {},
   "outputs": [],
   "source": [
    "#| export\n",
    "from infepy.rbf import RBF"
   ]
  },
  {
   "cell_type": "code",
   "execution_count": null,
   "metadata": {},
   "outputs": [],
   "source": [
    "#| export\n",
    "from infepy.preprocessing import read_landmarks, read_nodes, _check_landmarks, write_output\n",
    "from infepy.utils import read_toml, multiple_targets, _merge_path, to_ls_dyna, read_csv_file,from_df_to_np"
   ]
  },
  {
   "cell_type": "code",
   "execution_count": null,
   "metadata": {},
   "outputs": [],
   "source": [
    "#| export\n",
    "def morphing(source_landmarks: np.ndarray,  # Landmarks of the source mesh\n",
    "             target_landmarks: np.ndarray,  # Target Landmarks\n",
    "             source_mesh: np.ndarray, # Coordinates of the mesh/ mesh \n",
    "             ):\n",
    "    \"Morph the target mesh with RBF function - Thin Plate Spine.\"\n",
    "    \n",
    "    rbf = RBF(original_control_points=from_df_to_np(source_landmarks) , \n",
    "              deformed_control_points= from_df_to_np(target_landmarks),\n",
    "              func='thin_plate_spline', radius=1.0)\n",
    "\n",
    "    return rbf(from_df_to_np(source_mesh))"
   ]
  },
  {
   "cell_type": "code",
   "execution_count": null,
   "metadata": {},
   "outputs": [
    {
     "name": "stdout",
     "output_type": "stream",
     "text": [
      "data/target/subj_1\n",
      "data/target/subj_2\n"
     ]
    },
    {
     "name": "stderr",
     "output_type": "stream",
     "text": [
      "/mnt/c/Users/chiarar/OneDrive - Chalmers/SSMT - Subject Specific Modeling Toolstack/Github/infepy/infepy/rbf_factory.py:93: RuntimeWarning: divide by zero encountered in log\n",
      "  result = np.where(arg > 0, result * np.log(arg), result)\n",
      "/mnt/c/Users/chiarar/OneDrive - Chalmers/SSMT - Subject Specific Modeling Toolstack/Github/infepy/infepy/rbf_factory.py:93: RuntimeWarning: invalid value encountered in multiply\n",
      "  result = np.where(arg > 0, result * np.log(arg), result)\n",
      "/mnt/c/Users/chiarar/OneDrive - Chalmers/SSMT - Subject Specific Modeling Toolstack/Github/infepy/infepy/rbf_factory.py:93: RuntimeWarning: divide by zero encountered in log\n",
      "  result = np.where(arg > 0, result * np.log(arg), result)\n",
      "/mnt/c/Users/chiarar/OneDrive - Chalmers/SSMT - Subject Specific Modeling Toolstack/Github/infepy/infepy/rbf_factory.py:93: RuntimeWarning: invalid value encountered in multiply\n",
      "  result = np.where(arg > 0, result * np.log(arg), result)\n"
     ]
    }
   ],
   "source": [
    "#| export\n",
    "def main():\n",
    "    config = read_toml()\n",
    "    source_landmarks = read_landmarks(_merge_path(config['source']['path'],config['source']['filename_landmarks']))\n",
    "    template_mesh = read_nodes(_merge_path(config['source']['path'],config['source']['filename_mesh']))\n",
    "    \n",
    "    if multiple_targets() == False: # single target\n",
    "        target_landmarks = read_landmarks(_merge_path(config['target']['path'],config['target']['filename_landmarks']))\n",
    "        _check_landmarks(source_landmarks, target_landmarks)\n",
    "        morphed_mesh = morphing(source_landmarks, target_landmarks, template_mesh)\n",
    "        write_output(morphed_mesh,\n",
    "                     _merge_path(config['target']['path'], 'morphed.key'),\n",
    "                     _merge_path(config['source']['path'],config['source']['filename_mesh']))\n",
    "    else:\n",
    "        targets_folder = multiple_targets()\n",
    "        for folder in targets_folder:\n",
    "            folder_path = os.path.join(config['target']['path'],folder)\n",
    "            target_landmarks = read_landmarks(_merge_path(folder_path,config['target']['filename_landmarks']))\n",
    "            _check_landmarks(source_landmarks, target_landmarks)\n",
    "            morphed_mesh = morphing(source_landmarks, target_landmarks, template_mesh)\n",
    "            write_output(morphed_mesh,\n",
    "                      _merge_path(folder_path,'morphed.key'),\n",
    "                     _merge_path(config['source']['path'],config['source']['filename_mesh']))\n",
    "    return\n",
    "main()"
   ]
  },
  {
   "cell_type": "code",
   "execution_count": null,
   "metadata": {},
   "outputs": [],
   "source": [
    "#| export\n",
    "# @click.command()\n",
    "# def hello():\n",
    "#     click.echo(\"hello\")"
   ]
  },
  {
   "cell_type": "code",
   "execution_count": null,
   "metadata": {},
   "outputs": [
    {
     "name": "stdout",
     "output_type": "stream",
     "text": [
      "/mnt/c/Users/chiarar/OneDrive - Chalmers/SSMT - Subject Specific Modeling Toolstack/Github/infepy/nbs\n",
      "Yes!!\n",
      "Yes!!\n"
     ]
    }
   ],
   "source": [
    "# #| export\n",
    "# if __name__ == \"__main__\":\n",
    "#     main()\n",
    "    "
   ]
  },
  {
   "cell_type": "code",
   "execution_count": null,
   "metadata": {},
   "outputs": [],
   "source": [
    "#| hide\n",
    "import nbdev; nbdev.nbdev_export()"
   ]
  }
 ],
 "metadata": {
  "kernelspec": {
   "display_name": "Python 3.9.15 ('infekit')",
   "language": "python",
   "name": "python3"
  }
 },
 "nbformat": 4,
 "nbformat_minor": 4
}
