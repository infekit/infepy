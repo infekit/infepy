{
 "cells": [
  {
   "cell_type": "markdown",
   "metadata": {},
   "source": [
    "# Morphing\n",
    "\n",
    "> This module apply morphing to a template source from landmarks. Morphing from pygem library.\n"
   ]
  },
  {
   "cell_type": "code",
   "execution_count": 2,
   "metadata": {},
   "outputs": [],
   "source": [
    "#| default_exp morph"
   ]
  },
  {
   "cell_type": "code",
   "execution_count": 3,
   "metadata": {},
   "outputs": [],
   "source": [
    "#| hide\n",
    "from nbdev.showdoc import *"
   ]
  },
  {
   "cell_type": "code",
   "execution_count": 4,
   "metadata": {},
   "outputs": [],
   "source": [
    "#| export\n",
    "import os\n",
    "import numpy as np\n",
    "import click"
   ]
  },
  {
   "cell_type": "code",
   "execution_count": 5,
   "metadata": {},
   "outputs": [
    {
     "ename": "ModuleNotFoundError",
     "evalue": "No module named 'deformation'",
     "output_type": "error",
     "traceback": [
      "\u001b[0;31m---------------------------------------------------------------------------\u001b[0m",
      "\u001b[0;31mModuleNotFoundError\u001b[0m                       Traceback (most recent call last)",
      "Cell \u001b[0;32mIn [5], line 2\u001b[0m\n\u001b[1;32m      1\u001b[0m \u001b[39m#| export\u001b[39;00m\n\u001b[0;32m----> 2\u001b[0m \u001b[39mfrom\u001b[39;00m \u001b[39minfepy\u001b[39;00m\u001b[39m.\u001b[39;00m\u001b[39mrbf\u001b[39;00m \u001b[39mimport\u001b[39;00m RBF\n",
      "File \u001b[0;32m/mnt/c/Users/chiarar/OneDrive - Chalmers/SSMT - Subject Specific Modeling Toolstack/Github/infepy/infepy/rbf.py:14\u001b[0m\n\u001b[1;32m     11\u001b[0m \u001b[39mfrom\u001b[39;00m \u001b[39mscipy\u001b[39;00m\u001b[39m.\u001b[39;00m\u001b[39mspatial\u001b[39;00m\u001b[39m.\u001b[39;00m\u001b[39mdistance\u001b[39;00m \u001b[39mimport\u001b[39;00m cdist\n\u001b[1;32m     13\u001b[0m \u001b[39m# %% ../nbs/rbf.ipynb 3\u001b[39;00m\n\u001b[0;32m---> 14\u001b[0m \u001b[39mfrom\u001b[39;00m \u001b[39mdeformation\u001b[39;00m \u001b[39mimport\u001b[39;00m Deformation\n\u001b[1;32m     15\u001b[0m \u001b[39mfrom\u001b[39;00m \u001b[39mrbf_factory\u001b[39;00m \u001b[39mimport\u001b[39;00m RBFFactory\n\u001b[1;32m     17\u001b[0m \u001b[39m# %% ../nbs/rbf.ipynb 4\u001b[39;00m\n",
      "\u001b[0;31mModuleNotFoundError\u001b[0m: No module named 'deformation'"
     ]
    }
   ],
   "source": [
    "#| export\n",
    "from infepy.rbf import RBF"
   ]
  },
  {
   "cell_type": "code",
   "execution_count": null,
   "metadata": {},
   "outputs": [],
   "source": [
    "#| export\n",
    "from infepy.preprocessing import read_landmarks, read_nodes, _check_landmarks, write_output\n",
    "from infepy.utils import read_toml, multiple_targets, _merge_path, to_ls_dyna, read_csv_file,from_df_to_np"
   ]
  },
  {
   "cell_type": "code",
   "execution_count": null,
   "metadata": {},
   "outputs": [],
   "source": [
    "#| export\n",
    "def morphing(source_landmarks: np.ndarray,  # Landmarks of the source mesh\n",
    "             target_landmarks: np.ndarray,  # Target Landmarks\n",
    "             source_mesh: np.ndarray, # Coordinates of the mesh/ mesh \n",
    "             ):\n",
    "    \"Morph the target mesh with RBF function - Thin Plate Spine.\"\n",
    "    \n",
    "    rbf = RBF(original_control_points=from_df_to_np(source_landmarks) , \n",
    "              deformed_control_points= from_df_to_np(target_landmarks),\n",
    "              func='thin_plate_spline', radius=1.0)\n",
    "\n",
    "    return rbf(from_df_to_np(source_mesh))"
   ]
  },
  {
   "cell_type": "markdown",
   "metadata": {},
   "source": [
    "## CALL from Command Line:\n",
    "- move into infepy/infepy directory\n",
    "- type python -m morph"
   ]
  },
  {
   "cell_type": "code",
   "execution_count": 7,
   "metadata": {},
   "outputs": [
    {
     "name": "stdout",
     "output_type": "stream",
     "text": [
      "Do you want to continue? [y/N]:Error: invalid input\n",
      "Do you want to continue? [y/N]:"
     ]
    },
    {
     "ename": "Abort",
     "evalue": "",
     "output_type": "error",
     "traceback": [
      "\u001b[0;31m---------------------------------------------------------------------------\u001b[0m",
      "\u001b[0;31mAbort\u001b[0m                                     Traceback (most recent call last)",
      "Cell \u001b[0;32mIn [7], line 5\u001b[0m\n\u001b[1;32m      1\u001b[0m \u001b[39m#| export\u001b[39;00m\n\u001b[1;32m      2\u001b[0m \u001b[39m@click\u001b[39m\u001b[39m.\u001b[39mcommand()\n\u001b[1;32m      3\u001b[0m \u001b[39m@click\u001b[39m\u001b[39m.\u001b[39moption(\u001b[39m'\u001b[39m\u001b[39m--name_source\u001b[39m\u001b[39m'\u001b[39m, prompt\u001b[39m=\u001b[39m \u001b[39m'\u001b[39m\u001b[39mFilename of the source mesh\u001b[39m\u001b[39m'\u001b[39m, help\u001b[39m=\u001b[39m\u001b[39m'\u001b[39m\u001b[39m Template mesh name. Indicate complete name and extension.  Example: file.key\u001b[39m\u001b[39m'\u001b[39m)\n\u001b[1;32m      4\u001b[0m \u001b[39m@click\u001b[39m\u001b[39m.\u001b[39moption(\u001b[39m'\u001b[39m\u001b[39m--n_target\u001b[39m\u001b[39m'\u001b[39m, default \u001b[39m=\u001b[39m \u001b[39m1\u001b[39m ,prompt \u001b[39m=\u001b[39m \u001b[39m'\u001b[39m\u001b[39mNumber of targets (default is set to 1)\u001b[39m\u001b[39m'\u001b[39m, help\u001b[39m=\u001b[39m\u001b[39m'\u001b[39m\u001b[39m Number of targets. INT format. State the number of targets. If no argument is passed, 1 is default value.\u001b[39m\u001b[39m'\u001b[39m)\n\u001b[0;32m----> 5\u001b[0m \u001b[39m@click\u001b[39m\u001b[39m.\u001b[39;49mconfirm(\u001b[39m'\u001b[39;49m\u001b[39mDo you want to continue?\u001b[39;49m\u001b[39m'\u001b[39;49m, abort\u001b[39m=\u001b[39;49m\u001b[39mTrue\u001b[39;49;00m)\n\u001b[1;32m      6\u001b[0m \n\u001b[1;32m      7\u001b[0m \u001b[39mdef\u001b[39;00m \u001b[39mdo_morphing\u001b[39m(n_target, name_source):\n\u001b[1;32m      8\u001b[0m     config \u001b[39m=\u001b[39m read_toml()\n\u001b[1;32m      9\u001b[0m     source_landmarks \u001b[39m=\u001b[39m read_landmarks(_merge_path(config[\u001b[39m'\u001b[39m\u001b[39msource\u001b[39m\u001b[39m'\u001b[39m][\u001b[39m'\u001b[39m\u001b[39mpath\u001b[39m\u001b[39m'\u001b[39m],config[\u001b[39m'\u001b[39m\u001b[39msource\u001b[39m\u001b[39m'\u001b[39m][\u001b[39m'\u001b[39m\u001b[39mfilename_landmarks\u001b[39m\u001b[39m'\u001b[39m]))\n",
      "File \u001b[0;32m~/.local/lib/python3.9/site-packages/click/termui.py:249\u001b[0m, in \u001b[0;36mconfirm\u001b[0;34m(text, default, abort, prompt_suffix, show_default, err)\u001b[0m\n\u001b[1;32m    247\u001b[0m     \u001b[39mbreak\u001b[39;00m\n\u001b[1;32m    248\u001b[0m \u001b[39mif\u001b[39;00m abort \u001b[39mand\u001b[39;00m \u001b[39mnot\u001b[39;00m rv:\n\u001b[0;32m--> 249\u001b[0m     \u001b[39mraise\u001b[39;00m Abort()\n\u001b[1;32m    250\u001b[0m \u001b[39mreturn\u001b[39;00m rv\n",
      "\u001b[0;31mAbort\u001b[0m: "
     ]
    }
   ],
   "source": [
    "#| export\n",
    "@click.command()\n",
    "@click.option('--name_source',type = str,prompt= 'Filename of the source mesh', help=' Source mesh name. Indicate complete name and extension.  Example: file.key')\n",
    "@click.option('--landmarks_source',type = str,prompt= 'Filename landmark source', help=' Source landmarks filename. Indicate complete name and extension.  Example: landmarks.key or landmarks.csv')\n",
    "@click.option('--landmarks_target',type = str,prompt= 'Filename landmark target', help=' Target landmarks filename. Indicate complete name and extension.  Example: landmarks.key or landmarks.csv')\n",
    "@click.option('--n_target', default = 1 ,type =int ,prompt = 'Number of targets (default is set to 1)', help=' Number of targets. INT format. State the number of targets. If no argument is passed, 1 is default value.')\n",
    "\n",
    "def do_morphing(n_target, name_source, landmarks_source, landmarks_target):\n",
    "    \"Perform morphing.\"\n",
    "    config = read_toml()\n",
    "    source_landmarks = read_landmarks(_merge_path(config['source']['path'],landmarks_source))\n",
    "    template_mesh = read_nodes(_merge_path(config['source']['path'], name_source))\n",
    "   \n",
    "    if n_target == 1 : # single target\n",
    "        target_landmarks = read_landmarks(_merge_path(config['target']['path'],landmarks_target))\n",
    "        _check_landmarks(source_landmarks, target_landmarks)\n",
    "        morphed_mesh = morphing(source_landmarks, target_landmarks, template_mesh)\n",
    "        write_output(morphed_mesh,\n",
    "                     _merge_path(config['target']['path'], \"morphed_{}\".format(name_source)),\n",
    "                     _merge_path(config['source']['path'], name_source))\n",
    "    else:\n",
    "        targets_folder = multiple_targets()\n",
    "        for folder in targets_folder:\n",
    "            folder_path = os.path.join(config['target']['path'],folder)\n",
    "            target_landmarks = read_landmarks(_merge_path(folder_path,landmarks_target))\n",
    "            _check_landmarks(source_landmarks, target_landmarks)\n",
    "            morphed_mesh = morphing(source_landmarks, target_landmarks, template_mesh)\n",
    "            write_output(morphed_mesh,\n",
    "                      _merge_path(folder_path,'morphed.key'),\n",
    "                      _merge_path(config['source']['path'],name_source))\n",
    "    return"
   ]
  },
  {
   "cell_type": "code",
   "execution_count": null,
   "metadata": {},
   "outputs": [],
   "source": [
    "#| export\n",
    "if __name__ == \"__main__\":\n",
    "    do_morphing()"
   ]
  },
  {
   "cell_type": "code",
   "execution_count": null,
   "metadata": {},
   "outputs": [],
   "source": [
    "#| hide\n",
    "import nbdev; nbdev.nbdev_export()"
   ]
  }
 ],
 "metadata": {
  "kernelspec": {
   "display_name": "Python 3.9.12 ('base')",
   "language": "python",
   "name": "python3"
  },
  "language_info": {
   "codemirror_mode": {
    "name": "ipython",
    "version": 3
   },
   "file_extension": ".py",
   "mimetype": "text/x-python",
   "name": "python",
   "nbconvert_exporter": "python",
   "pygments_lexer": "ipython3",
   "version": "3.9.12"
  },
  "vscode": {
   "interpreter": {
    "hash": "133c68956c974d67d1872c818a6a53491636d0536f001f42b04b1cb866a8dffb"
   }
  }
 },
 "nbformat": 4,
 "nbformat_minor": 4
}
