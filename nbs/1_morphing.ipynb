{
 "cells": [
  {
   "cell_type": "markdown",
   "metadata": {},
   "source": [
    "# Morphing\n",
    "\n",
    "> This module apply morphing to a template source from landmarks. Morphing from pygem library.\n"
   ]
  },
  {
   "cell_type": "code",
   "execution_count": 2,
   "metadata": {},
   "outputs": [],
   "source": [
    "#| default_exp morph"
   ]
  },
  {
   "cell_type": "code",
   "execution_count": 3,
   "metadata": {},
   "outputs": [],
   "source": [
    "#| hide\n",
    "from nbdev.showdoc import *"
   ]
  },
  {
   "cell_type": "code",
   "execution_count": 4,
   "metadata": {},
   "outputs": [],
   "source": [
    "#| export\n",
    "import os\n",
    "import numpy as np\n",
    "import click"
   ]
  },
  {
   "cell_type": "code",
   "execution_count": 5,
   "metadata": {},
   "outputs": [
    {
     "ename": "ModuleNotFoundError",
     "evalue": "No module named 'deformation'",
     "output_type": "error",
     "traceback": [
      "\u001b[0;31m---------------------------------------------------------------------------\u001b[0m",
      "\u001b[0;31mModuleNotFoundError\u001b[0m                       Traceback (most recent call last)",
      "Cell \u001b[0;32mIn [5], line 2\u001b[0m\n\u001b[1;32m      1\u001b[0m \u001b[39m#| export\u001b[39;00m\n\u001b[0;32m----> 2\u001b[0m \u001b[39mfrom\u001b[39;00m \u001b[39minfepy\u001b[39;00m\u001b[39m.\u001b[39;00m\u001b[39mrbf\u001b[39;00m \u001b[39mimport\u001b[39;00m RBF\n",
      "File \u001b[0;32m/mnt/c/Users/chiarar/OneDrive - Chalmers/SSMT - Subject Specific Modeling Toolstack/Github/infepy/infepy/rbf.py:14\u001b[0m\n\u001b[1;32m     11\u001b[0m \u001b[39mfrom\u001b[39;00m \u001b[39mscipy\u001b[39;00m\u001b[39m.\u001b[39;00m\u001b[39mspatial\u001b[39;00m\u001b[39m.\u001b[39;00m\u001b[39mdistance\u001b[39;00m \u001b[39mimport\u001b[39;00m cdist\n\u001b[1;32m     13\u001b[0m \u001b[39m# %% ../nbs/rbf.ipynb 3\u001b[39;00m\n\u001b[0;32m---> 14\u001b[0m \u001b[39mfrom\u001b[39;00m \u001b[39mdeformation\u001b[39;00m \u001b[39mimport\u001b[39;00m Deformation\n\u001b[1;32m     15\u001b[0m \u001b[39mfrom\u001b[39;00m \u001b[39mrbf_factory\u001b[39;00m \u001b[39mimport\u001b[39;00m RBFFactory\n\u001b[1;32m     17\u001b[0m \u001b[39m# %% ../nbs/rbf.ipynb 4\u001b[39;00m\n",
      "\u001b[0;31mModuleNotFoundError\u001b[0m: No module named 'deformation'"
     ]
    }
   ],
   "source": [
    "#| export\n",
    "from infepy.rbf import RBF"
   ]
  },
  {
   "cell_type": "code",
   "execution_count": null,
   "metadata": {},
   "outputs": [],
   "source": [
    "#| export\n",
    "from infepy.preprocessing import read_landmarks, read_nodes, _check_landmarks, write_output\n",
    "from infepy.utils import read_toml, multiple_targets, _merge_path, to_ls_dyna, read_csv_file,from_df_to_np"
   ]
  },
  {
   "cell_type": "code",
   "execution_count": null,
   "metadata": {},
   "outputs": [],
   "source": [
    "#| export\n",
    "def morphing(source_landmarks: np.ndarray,  # Landmarks of the source mesh\n",
    "             target_landmarks: np.ndarray,  # Target Landmarks\n",
    "             source_mesh: np.ndarray, # Coordinates of the mesh/ mesh \n",
    "             ):\n",
    "    \"Morph the target mesh with RBF function - Thin Plate Spine.\"\n",
    "    \n",
    "    rbf = RBF(original_control_points=from_df_to_np(source_landmarks) , \n",
    "              deformed_control_points= from_df_to_np(target_landmarks),\n",
    "              func='thin_plate_spline', radius=1.0)\n",
    "\n",
    "    return rbf(from_df_to_np(source_mesh))"
   ]
  },
  {
   "cell_type": "markdown",
   "metadata": {},
   "source": [
    "## CALL from Command Line:\n",
    "- move into infepy/infepy directory\n",
    "- type python -m morph"
   ]
  },
  {
   "cell_type": "code",
   "execution_count": 6,
   "metadata": {},
   "outputs": [],
   "source": [
    "#| export\n",
    "def do_morphing():\n",
    "    config = read_toml()\n",
    "    source_landmarks = read_landmarks(_merge_path(config['source']['path'],config['source']['filename_landmarks']))\n",
    "    template_mesh = read_nodes(_merge_path(config['source']['path'],config['source']['filename_mesh']))\n",
    "    \n",
    "    if multiple_targets() == False: # single target\n",
    "        target_landmarks = read_landmarks(_merge_path(config['target']['path'],config['target']['filename_landmarks']))\n",
    "        _check_landmarks(source_landmarks, target_landmarks)\n",
    "        morphed_mesh = morphing(source_landmarks, target_landmarks, template_mesh)\n",
    "        write_output(morphed_mesh,\n",
    "                     _merge_path(config['target']['path'], 'morphed.key'),\n",
    "                     _merge_path(config['source']['path'],config['source']['filename_mesh']))\n",
    "    else:\n",
    "        targets_folder = multiple_targets()\n",
    "        for folder in targets_folder:\n",
    "            folder_path = os.path.join(config['target']['path'],folder)\n",
    "            target_landmarks = read_landmarks(_merge_path(folder_path,config['target']['filename_landmarks']))\n",
    "            _check_landmarks(source_landmarks, target_landmarks)\n",
    "            morphed_mesh = morphing(source_landmarks, target_landmarks, template_mesh)\n",
    "            write_output(morphed_mesh,\n",
    "                      _merge_path(folder_path,'morphed.key'),\n",
    "                      _merge_path(config['source']['path'],config['source']['filename_mesh']))\n",
    "    return"
   ]
  },
  {
   "cell_type": "code",
   "execution_count": null,
   "metadata": {},
   "outputs": [],
   "source": [
    "# #| export\n",
    "# @click.command()\n",
    "# @click.option('--name_source', prompt='Filename source mesh. Indicate the extension. EX: bone.key', help=' Template mesh name')\n",
    "# @click.option('--n_target', default = 1 ,prompt = 'Number of targets (DEFAULT = 1)', help=' Number of targets.')\n",
    "\n",
    "# def do_morphing(n_target, name_source):\n",
    "#     config = read_toml()\n",
    "#     source_landmarks = read_landmarks(_merge_path(config['source']['path'],config['source']['filename_landmarks']))\n",
    "#     template_mesh = read_nodes(_merge_path(config['source']['path'], name_source))\n",
    "    \n",
    "#     if multiple_targets() == False & n_target == 1 : # single target\n",
    "#         target_landmarks = read_landmarks(_merge_path(config['target']['path'],config['target']['filename_landmarks']))\n",
    "#         _check_landmarks(source_landmarks, target_landmarks)\n",
    "#         morphed_mesh = morphing(source_landmarks, target_landmarks, template_mesh)\n",
    "#         write_output(morphed_mesh,\n",
    "#                      _merge_path(config['target']['path'], 'morphed.key'),\n",
    "#                      _merge_path(config['source']['path'], name_source))\n",
    "#     else:\n",
    "#         targets_folder = multiple_targets() & n_target > 1 \n",
    "#         for folder in targets_folder:\n",
    "#             folder_path = os.path.join(config['target']['path'],folder)\n",
    "#             target_landmarks = read_landmarks(_merge_path(folder_path,config['target']['filename_landmarks']))\n",
    "#             _check_landmarks(source_landmarks, target_landmarks)\n",
    "#             morphed_mesh = morphing(source_landmarks, target_landmarks, template_mesh)\n",
    "#             write_output(morphed_mesh,\n",
    "#                       _merge_path(folder_path,'morphed.key'),\n",
    "#                       _merge_path(config['source']['path'],name_source))\n",
    "#     return"
   ]
  },
  {
   "cell_type": "code",
   "execution_count": null,
   "metadata": {},
   "outputs": [],
   "source": [
    "#| export\n",
    "if __name__ == \"__main__\":\n",
    "    do_morphing()"
   ]
  },
  {
   "cell_type": "code",
   "execution_count": null,
   "metadata": {},
   "outputs": [],
   "source": [
    "#| hide\n",
    "import nbdev; nbdev.nbdev_export()"
   ]
  }
 ],
 "metadata": {
  "kernelspec": {
   "display_name": "Python 3.9.15 ('infekit')",
   "language": "python",
   "name": "python3"
  },
  "language_info": {
   "codemirror_mode": {
    "name": "ipython",
    "version": 3
   },
   "file_extension": ".py",
   "mimetype": "text/x-python",
   "name": "python",
   "nbconvert_exporter": "python",
   "pygments_lexer": "ipython3",
   "version": "3.9.15"
  },
  "vscode": {
   "interpreter": {
    "hash": "999905aaca90b5cd166bea9eeb734e58744be10fbbbdd92b37945437c5cd6e81"
   }
  }
 },
 "nbformat": 4,
 "nbformat_minor": 4
}
