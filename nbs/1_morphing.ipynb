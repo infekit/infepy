{
 "cells": [
  {
   "cell_type": "markdown",
   "metadata": {},
   "source": [
    "# Morphing\n",
    "\n",
    "> This module apply morphing to a template source from landmarks. Morphing from pygem library.\n"
   ]
  },
  {
   "cell_type": "code",
   "execution_count": 1,
   "metadata": {},
   "outputs": [],
   "source": [
    "#| default_exp morph"
   ]
  },
  {
   "cell_type": "code",
   "execution_count": 2,
   "metadata": {},
   "outputs": [],
   "source": [
    "#| hide\n",
    "from nbdev.showdoc import *"
   ]
  },
  {
   "cell_type": "code",
   "execution_count": 3,
   "metadata": {},
   "outputs": [],
   "source": [
    "#| export\n",
    "import os\n",
    "import numpy as np\n",
    "import click\n",
    "from argparse import ArgumentParser"
   ]
  },
  {
   "cell_type": "code",
   "execution_count": 4,
   "metadata": {},
   "outputs": [],
   "source": [
    "#| export\n",
    "from infepy.rbf import RBF"
   ]
  },
  {
   "cell_type": "code",
   "execution_count": 5,
   "metadata": {},
   "outputs": [],
   "source": [
    "#| export\n",
    "from infepy.preprocessing import read_landmarks, read_nodes, _check_landmarks, write_output\n",
    "from infepy.utils import read_toml, multiple_targets, _merge_path, to_ls_dyna, read_csv_file,from_df_to_np"
   ]
  },
  {
   "cell_type": "code",
   "execution_count": 10,
   "metadata": {},
   "outputs": [],
   "source": [
    "#| export\n",
    "def morphing(source_landmarks: np.ndarray,  # Landmarks of the source mesh\n",
    "             target_landmarks: np.ndarray,  # Target Landmarks\n",
    "             source_mesh: np.ndarray, # Coordinates of the mesh/ mesh \n",
    "             func,\n",
    "             smoothing):\n",
    "    \"Morph the target mesh with RBF function - Thin Plate Spine.\"\n",
    "    basis_function = func\n",
    "    \n",
    "    rbf = RBF(original_control_points=from_df_to_np(source_landmarks) , \n",
    "              deformed_control_points= from_df_to_np(target_landmarks),\n",
    "              func= basis_function,\n",
    "              smoothing= smoothing)\n",
    "\n",
    "    return rbf(from_df_to_np(source_mesh))"
   ]
  },
  {
   "cell_type": "markdown",
   "metadata": {},
   "source": [
    "## CALL from Command Line:\n",
    "- move into infepy/infepy directory\n",
    "- type python -m morph"
   ]
  },
  {
   "cell_type": "code",
   "execution_count": 11,
   "metadata": {},
   "outputs": [],
   "source": [
    "#| export\n",
    "parser = ArgumentParser(description=\"Morphing function\")\n",
    "parser.add_argument(\"--function\", \n",
    "                    type=str,\n",
    "                    default='thin_plate_spline',\n",
    "                    help=\"Basis Function for morphing\")\n",
    "parser.add_argument(\"--smoothing\", \n",
    "                    type=float,\n",
    "                    default=0.0,\n",
    "                    help=\"Smoothing Factor\")\n",
    "        \n",
    "def do_morphing(func, smoothing):\n",
    "    config = read_toml()\n",
    "    source_landmarks = read_landmarks(_merge_path(config['source']['path'],config['source']['filename_landmarks']))\n",
    "    template_mesh = read_nodes(_merge_path(config['source']['path'],config['source']['filename_mesh']))\n",
    "    \n",
    "    if multiple_targets() == False: # single target\n",
    "        target_landmarks = read_landmarks(_merge_path(config['target']['path'],config['target']['filename_landmarks']))\n",
    "        _check_landmarks(source_landmarks, target_landmarks)\n",
    "        morphed_mesh = morphing(source_landmarks, target_landmarks, template_mesh,func, smoothing)\n",
    "        write_output(morphed_mesh,\n",
    "                     _merge_path(config['target']['path'], 'morphed.key'),\n",
    "                     _merge_path(config['source']['path'], config['source']['filename_mesh']))\n",
    "    else:\n",
    "        targets_folder = multiple_targets()\n",
    "        for folder in targets_folder:\n",
    "            folder_path = os.path.join(config['target']['path'],folder)\n",
    "            target_landmarks = read_landmarks(_merge_path(folder_path,config['target']['filename_landmarks']))\n",
    "            _check_landmarks(source_landmarks, target_landmarks)\n",
    "            morphed_mesh = morphing(source_landmarks, target_landmarks, template_mesh,func, smoothing)\n",
    "            write_output(morphed_mesh,\n",
    "                      _merge_path(folder_path,'morphed.key'),\n",
    "                      _merge_path(config['source']['path'],config['source']['filename_mesh']))\n",
    "    return"
   ]
  },
  {
   "cell_type": "code",
   "execution_count": 13,
   "metadata": {},
   "outputs": [
    {
     "ename": "AttributeError",
     "evalue": "'Namespace' object has no attribute 'function'",
     "output_type": "error",
     "traceback": [
      "\u001b[0;31m---------------------------------------------------------------------------\u001b[0m",
      "\u001b[0;31mAttributeError\u001b[0m                            Traceback (most recent call last)",
      "Cell \u001b[0;32mIn [13], line 4\u001b[0m\n\u001b[1;32m      2\u001b[0m \u001b[39mif\u001b[39;00m \u001b[39m__name__\u001b[39m \u001b[39m==\u001b[39m \u001b[39m\"\u001b[39m\u001b[39m__main__\u001b[39m\u001b[39m\"\u001b[39m:\n\u001b[1;32m      3\u001b[0m     args, unknown \u001b[39m=\u001b[39m parser\u001b[39m.\u001b[39mparse_known_args()\n\u001b[0;32m----> 4\u001b[0m     \u001b[39mif\u001b[39;00m args\u001b[39m.\u001b[39;49mfunction:\n\u001b[1;32m      5\u001b[0m        function \u001b[39m=\u001b[39m args\u001b[39m.\u001b[39mfunction\n\u001b[1;32m      6\u001b[0m     \u001b[39mif\u001b[39;00m args\u001b[39m.\u001b[39msmoothing:\n",
      "\u001b[0;31mAttributeError\u001b[0m: 'Namespace' object has no attribute 'function'"
     ]
    }
   ],
   "source": [
    "#| export\n",
    "if __name__ == \"__main__\":\n",
    "    args, unknown = parser.parse_args()\n",
    "    do_morphing(args.function, args.smoothing)"
   ]
  },
  {
   "cell_type": "code",
   "execution_count": null,
   "metadata": {},
   "outputs": [],
   "source": [
    "#| hide\n",
    "import nbdev; nbdev.nbdev_export()"
   ]
  }
 ],
 "metadata": {
  "kernelspec": {
   "display_name": "Python 3.9.15 ('infekit')",
   "language": "python",
   "name": "python3"
  },
  "language_info": {
   "codemirror_mode": {
    "name": "ipython",
    "version": 3
   },
   "file_extension": ".py",
   "mimetype": "text/x-python",
   "name": "python",
   "nbconvert_exporter": "python",
   "pygments_lexer": "ipython3",
   "version": "3.9.15 (main, Nov  4 2022, 16:13:54) \n[GCC 11.2.0]"
  },
  "vscode": {
   "interpreter": {
    "hash": "999905aaca90b5cd166bea9eeb734e58744be10fbbbdd92b37945437c5cd6e81"
   }
  }
 },
 "nbformat": 4,
 "nbformat_minor": 4
}
