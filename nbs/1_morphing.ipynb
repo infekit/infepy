{
 "cells": [
  {
   "cell_type": "markdown",
   "metadata": {},
   "source": [
    "# Morphing\n",
    "\n",
    "> This module apply morphing to a template source from landmarks. Morphing from pygem library.\n"
   ]
  },
  {
   "cell_type": "code",
   "execution_count": null,
   "metadata": {},
   "outputs": [],
   "source": [
    "#| default_exp morph"
   ]
  },
  {
   "cell_type": "code",
   "execution_count": null,
   "metadata": {},
   "outputs": [],
   "source": [
    "#| hide\n",
    "from nbdev.showdoc import *"
   ]
  },
  {
   "cell_type": "code",
   "execution_count": null,
   "metadata": {},
   "outputs": [],
   "source": [
    "#| export\n",
    "import os\n",
    "import numpy as np\n",
    "# https://gideonbrimleaf.github.io/2021/01/26/relative-imports-python.html"
   ]
  },
  {
   "cell_type": "code",
   "execution_count": null,
   "metadata": {},
   "outputs": [],
   "source": [
    "#| export\n",
    "from infepy.rbf import RBF"
   ]
  },
  {
   "cell_type": "code",
   "execution_count": null,
   "metadata": {},
   "outputs": [],
   "source": [
    "#| export\n",
    "from infepy.preprocessing import read_landmarks, read_nodes, _check_landmarks, write_output\n",
    "from infepy.utils import read_toml, multiple_targets, _merge_path, to_ls_dyna"
   ]
  },
  {
   "cell_type": "code",
   "execution_count": null,
   "metadata": {},
   "outputs": [],
   "source": [
    "#| export\n",
    "def morphing(source_mesh: np.ndarray, # Coordinates of the mesh/ mesh \n",
    "             source_landmarks: np.ndarray,  # Landmarks of the source mesh\n",
    "             target_landmarks: np.ndarray,  # Target Landmarks\n",
    "             ):\n",
    "    \"Morph the target mesh with RBF function - Thin Plate Spine.\"\n",
    "    rbf = RBF(original_control_points=source_landmarks, deformed_control_points=target_landmarks,\n",
    "            func='thin_plate_spline', radius=1.0)\n",
    "    return rbf(source_mesh)"
   ]
  },
  {
   "cell_type": "code",
   "execution_count": null,
   "metadata": {},
   "outputs": [],
   "source": [
    "\n",
    "# #| export\n",
    "# def main():\n",
    "#     config = read_toml()\n",
    "#     source_landmarks = read_landmarks(_merge_path(config['source']['path'],config['source']['filename_landmarks']))\n",
    "#     template_mesh = read_nodes(_merge_path(config['source']['path'],config['source']['filename_mesh']))\n",
    "\n",
    "#     if multiple_targets() == bool: # single target\n",
    "#         target_landmarks = read_landmarks(_merge_path(config['target']['path'],config['target']['filename_landmarks']))\n",
    "#         _check_landmarks(source_landmarks, target_landmarks)\n",
    "#         morphed_mesh = morphing(source_landmarks, target_landmarks, template_mesh)\n",
    "#         write_output(morphed_mesh)\n",
    "#     else:\n",
    "#         targets_folder = multiple_targets()\n",
    "#         for folder in targets_folder:\n",
    "#             new_path = os.path.join(config['target']['path'],folder, config['target']['filename_landmarks'])\n",
    "#             target_landmarks = read_landmarks(new_path)\n",
    "#             _check_landmarks(source_landmarks, target_landmarks)\n",
    "#             morphed_mesh = morphing(source_landmarks, target_landmarks, template_mesh)\n",
    "#             write_output(morphed_mesh)\n",
    "#     return\n",
    "# main()"
   ]
  },
  {
   "cell_type": "code",
   "execution_count": null,
   "metadata": {},
   "outputs": [],
   "source": [
    "#| export\n",
    "# @click.command()\n",
    "# def hello():\n",
    "#     click.echo(\"hello\")"
   ]
  },
  {
   "cell_type": "code",
   "execution_count": null,
   "metadata": {},
   "outputs": [
    {
     "name": "stdout",
     "output_type": "stream",
     "text": [
      "/mnt/c/Users/chiarar/OneDrive - Chalmers/SSMT - Subject Specific Modeling Toolstack/Github/infepy/nbs\n",
      "Yes!!\n",
      "Yes!!\n"
     ]
    }
   ],
   "source": [
    "# #| export\n",
    "# if __name__ == \"__main__\":\n",
    "#     main()\n",
    "    "
   ]
  },
  {
   "cell_type": "code",
   "execution_count": null,
   "metadata": {},
   "outputs": [],
   "source": [
    "#| hide\n",
    "import nbdev; nbdev.nbdev_export()"
   ]
  }
 ],
 "metadata": {
  "kernelspec": {
   "display_name": "Python 3.9.12 ('base')",
   "language": "python",
   "name": "python3"
  },
  "language_info": {
   "name": "python",
   "version": "3.9.12"
  },
  "vscode": {
   "interpreter": {
    "hash": "133c68956c974d67d1872c818a6a53491636d0536f001f42b04b1cb866a8dffb"
   }
  }
 },
 "nbformat": 4,
 "nbformat_minor": 4
}
