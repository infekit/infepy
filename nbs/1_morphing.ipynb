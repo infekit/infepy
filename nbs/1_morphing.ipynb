{
 "cells": [
  {
   "cell_type": "markdown",
   "metadata": {},
   "source": [
    "# Morphing\n",
    "\n",
    "> This module apply morphing to a template source from landmarks. Morphing from pygem library.\n"
   ]
  },
  {
   "cell_type": "code",
   "execution_count": null,
   "metadata": {},
   "outputs": [],
   "source": [
    "#| default_exp morph"
   ]
  },
  {
   "cell_type": "code",
   "execution_count": null,
   "metadata": {},
   "outputs": [],
   "source": [
    "#| hide\n",
    "from nbdev.showdoc import *"
   ]
  },
  {
   "cell_type": "code",
   "execution_count": null,
   "metadata": {},
   "outputs": [],
   "source": [
    "#| export\n",
    "import os\n",
    "import numpy as np"
   ]
  },
  {
   "cell_type": "code",
   "execution_count": null,
   "metadata": {},
   "outputs": [],
   "source": [
    "#| export\n",
    "from infepy.preprocessing import read_landmarks, read_nodes\n",
    "from infepy.utils import read_toml"
   ]
  },
  {
   "cell_type": "code",
   "execution_count": null,
   "metadata": {},
   "outputs": [],
   "source": [
    "#| export\n",
    "def morphing(source_template: np.ndarray, # coordinates of the template mesh \n",
    "             source_landmarks: np.ndarray,  # Landmarks of the source template\n",
    "             target_landmarks: np.ndarray,  # Target Landmarks\n",
    "             ):\n",
    "    \"Morph the target geometry with RBF function - Thin Plate Spine. Plot the mesh and morphed mesh.\"\n",
    "        \n",
    "        #rbf = RBF(original_control_points=source_landmarks, deformed_control_points=target_landmarks,\n",
    "        #       func='thin_plate_spline', radius=1.0)\n",
    "        #return rbf(source_template)\n",
    "    \n",
    "    pass"
   ]
  },
  {
   "cell_type": "code",
   "execution_count": null,
   "metadata": {},
   "outputs": [],
   "source": [
    "def iter ():\n",
    "    \"This function checks if there are multiple target to morph.\"\n",
    "    # https://stackoverflow.com/questions/10989005/do-i-understand-os-walk-right  check out command os.walk https://stackoverflow.com/questions/10989005/do-i-understand-os-walk-right\n",
    "    config = read_toml()\n",
    "    #try\n",
    "    # match_file = [item for item in config['target'] if item.endswith(\"log\")] # return a empty list if there are no match\n",
    "    # if match_file is not []:\n",
    "    #     print(\"There are csv files. \")\n",
    "    # else:\n",
    "    #     pass\n",
    "    return"
   ]
  },
  {
   "cell_type": "code",
   "execution_count": null,
   "metadata": {},
   "outputs": [],
   "source": [
    "#| hide\n",
    "import nbdev; nbdev.nbdev_export()"
   ]
  }
 ],
 "metadata": {
  "kernelspec": {
   "display_name": "Python 3.10.8 ('infekit')",
   "language": "python",
   "name": "python3"
  }
 },
 "nbformat": 4,
 "nbformat_minor": 4
}
