{
 "cells": [
  {
   "attachments": {},
   "cell_type": "markdown",
   "metadata": {},
   "source": [
    "# How to use INFEPY"
   ]
  },
  {
   "attachments": {},
   "cell_type": "markdown",
   "metadata": {},
   "source": [
    "-  Download with git clone infepy. \n",
    "-  Install the repo with pip. "
   ]
  },
  {
   "attachments": {},
   "cell_type": "markdown",
   "metadata": {},
   "source": [
    "The *Source* is the template geometry, stored in .key file. the landmarks stored in .fcsv/.csv file.\n",
    "\n",
    "The target folder will be used for the file to morph. \n",
    "If there is only one target, place the landamarks inside the target folder."
   ]
  },
  {
   "attachments": {},
   "cell_type": "markdown",
   "metadata": {},
   "source": [
    "## Command Line"
   ]
  },
  {
   "attachments": {},
   "cell_type": "markdown",
   "metadata": {},
   "source": [
    "**Navigate into infepy scripts.** \n",
    "In the terminal type: \n",
    "\n",
    "    >>> python morph.py\n",
    "\n",
    "The module can be called with different options.\n",
    "\n",
    "- morph.py [-h] [--function FUNCTION] [--smoothing SMOOTHING]\n",
    "\n",
    "- optional arguments:\n",
    "    - -h, --help            show help message and exit\n",
    "    -  --function FUNCTION   Basis Function for morphing. \n",
    "    -  --smoothing SMOOTHING Smoothing Factor\n",
    "\n"
   ]
  },
  {
   "attachments": {},
   "cell_type": "markdown",
   "metadata": {},
   "source": []
  },
  {
   "attachments": {},
   "cell_type": "markdown",
   "metadata": {},
   "source": [
    "The *Source* is the template model, the geometry is stored in .key file and the landmarks in .fcsv/.csv file.\n",
    "The target folder will be used for the file to morph. \n",
    "If there is only one target, place the landamarks inside the target folder.\n",
    "\n",
    "### Target folder structure\n",
    "#### One target:\n",
    "\n",
    " -  ../test_data/target/landmarks_target.fcsv\"\n",
    "\n",
    "    In the config file:\n",
    "\n",
    "\n",
    "            path = \"../test_data/target\"\n",
    "            filename_landmarks = \"landmarks_target.fcsv\"\n",
    "\n",
    "\n",
    "#### Multiple targets:\n",
    "\n",
    "-       \n",
    "    ../test_data/target/subj1/landmarks.fcsv\n",
    "\n",
    "    ../test_data/target/subj2/landmarks.fcsv\n",
    "\n",
    "    ../test_data/target/subj3/landmarks.fcsv\n",
    "\n",
    "    ../test_data/target/subj4/landmarks.fcsv\n",
    "\n",
    "        In the config file:\n",
    "\n",
    "           path = \"data/target\"\n",
    "           \n",
    "           filename_landmarks = \"landmarks_target.fcsv\"\n",
    "\n",
    "- From the command line go into infepy/infepy.\n",
    "\n",
    "        - type: python morph.py\n",
    "\n",
    "        The module can be called with different options.\n",
    "        \n",
    "        - morph.py [-h] [--function FUNCTION] [--smoothing SMOOTHING]\n",
    "\n",
    "        optional arguments:\n",
    "        - -h, --help            show this help message and exit\n",
    "        -  --function FUNCTION   Basis Function for morphing. Available function from rbf_factory: thin_plate_spline, euclidean, gaussian_spline, multi_quadratic_biharmonic_spline, inv_multi_quadratic_biharmonic_spline, beckert_wendland_c2_basis, polyharmonic_spline\n",
    "        -  --smoothing SMOOTHING Smoothing Factor\n",
    "\n",
    "\n",
    "\n",
    "\n",
    "-----------------------------------------------------------\n",
    "\n",
    "-----------------------------------------------------------"
   ]
  },
  {
   "attachments": {},
   "cell_type": "markdown",
   "metadata": {},
   "source": [
    "## Jupyter notebook"
   ]
  },
  {
   "cell_type": "code",
   "execution_count": null,
   "metadata": {},
   "outputs": [],
   "source": [
    "#"
   ]
  },
  {
   "attachments": {},
   "cell_type": "markdown",
   "metadata": {},
   "source": []
  }
 ],
 "metadata": {},
 "nbformat": 4,
 "nbformat_minor": 2
}
