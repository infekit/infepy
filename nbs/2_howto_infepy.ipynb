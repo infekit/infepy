{
 "cells": [
  {
   "cell_type": "code",
   "execution_count": null,
   "metadata": {},
   "outputs": [],
   "source": [
    "#| default_exp intro_on_landmarks"
   ]
  },
  {
   "cell_type": "code",
   "execution_count": null,
   "metadata": {},
   "outputs": [],
   "source": [
    "#| hide\n",
    "from nbdev.showdoc import *"
   ]
  },
  {
   "attachments": {},
   "cell_type": "markdown",
   "metadata": {},
   "source": [
    "# How it works\n",
    "> Landmarking and morphing"
   ]
  },
  {
   "attachments": {},
   "cell_type": "markdown",
   "metadata": {},
   "source": [
    "## TOML config file\n",
    "\n",
    ":::{.callout-note}\n",
    "The config file is need only when using **CLI**. \n",
    "\n",
    "With Jupyter it is possible to specify the path when calling the function.\n",
    ":::\n",
    "\n",
    "The TOML file stores the path for the file needed in the process. What you need to specify in the config file:\n",
    "\n",
    "- Path to the source files\n",
    "    - Source Mesh filename\n",
    "    - landmark source filename\n",
    "- Path to the target files\n",
    "    - landmark target filename\n",
    "\n",
    "An example:"
   ]
  },
  {
   "attachments": {},
   "cell_type": "markdown",
   "metadata": {},
   "source": [
    "```r\n",
    "    [source]\n",
    "    path = \"../test_data/source\"\n",
    "    filename_mesh = \"humerus_sx.key\"\n",
    "    filename_landmarks = \"landmarks_source.fcsv\"\n",
    "    [target]\n",
    "    path = \"../test_data/target\"\n",
    "    filename_landmarks = \"landmarks_target.fcsv\"\n",
    "```"
   ]
  },
  {
   "attachments": {},
   "cell_type": "markdown",
   "metadata": {},
   "source": [
    "## Landmarks\n",
    "A landmark label can be either a number (int or float) or a string. "
   ]
  },
  {
   "attachments": {},
   "cell_type": "markdown",
   "metadata": {},
   "source": [
    ":::{.callout-note}\n",
    "Between source and target landmarks, there must be consistency. \n",
    "So the following applies:\n",
    "\n",
    "- Same number of landmarks \n",
    "- Same order \n",
    "- Same labels\n",
    "\n",
    ":::{.callout-warning}\n",
    "If one or more of these points is not respected, Infepy raises a Warning. \n",
    ":::\n",
    "\n",
    ":::"
   ]
  },
  {
   "cell_type": "code",
   "execution_count": null,
   "metadata": {},
   "outputs": [],
   "source": [
    "#| hide\n",
    "from nbdev.showdoc import *"
   ]
  },
  {
   "cell_type": "code",
   "execution_count": null,
   "metadata": {},
   "outputs": [],
   "source": [
    "#| export\n",
    "import pandas as pd\n",
    "from infepy.preprocessing import read_landmarks"
   ]
  },
  {
   "cell_type": "code",
   "execution_count": null,
   "metadata": {},
   "outputs": [],
   "source": [
    "#|hide\n",
    "source = read_landmarks('../test_data/source/landmarks_source.fcsv')\n",
    "target = read_landmarks('../test_data/target/100014/landmarks_target.fcsv')"
   ]
  },
  {
   "attachments": {},
   "cell_type": "markdown",
   "metadata": {},
   "source": [
    "#### An example:"
   ]
  },
  {
   "attachments": {},
   "cell_type": "markdown",
   "metadata": {},
   "source": [
    "**source landmarks**"
   ]
  },
  {
   "cell_type": "code",
   "execution_count": null,
   "metadata": {},
   "outputs": [
    {
     "data": {
      "text/html": [
       "<div>\n",
       "<style scoped>\n",
       "    .dataframe tbody tr th:only-of-type {\n",
       "        vertical-align: middle;\n",
       "    }\n",
       "\n",
       "    .dataframe tbody tr th {\n",
       "        vertical-align: top;\n",
       "    }\n",
       "\n",
       "    .dataframe thead th {\n",
       "        text-align: right;\n",
       "    }\n",
       "</style>\n",
       "<table border=\"1\" class=\"dataframe\">\n",
       "  <thead>\n",
       "    <tr style=\"text-align: right;\">\n",
       "      <th></th>\n",
       "      <th>Label - node id</th>\n",
       "      <th>x</th>\n",
       "      <th>y</th>\n",
       "      <th>z</th>\n",
       "    </tr>\n",
       "  </thead>\n",
       "  <tbody>\n",
       "    <tr>\n",
       "      <th>0</th>\n",
       "      <td>1</td>\n",
       "      <td>-183.063339</td>\n",
       "      <td>134.525345</td>\n",
       "      <td>388.490692</td>\n",
       "    </tr>\n",
       "    <tr>\n",
       "      <th>1</th>\n",
       "      <td>2</td>\n",
       "      <td>-161.198669</td>\n",
       "      <td>143.211426</td>\n",
       "      <td>373.034149</td>\n",
       "    </tr>\n",
       "    <tr>\n",
       "      <th>2</th>\n",
       "      <td>3</td>\n",
       "      <td>-146.246490</td>\n",
       "      <td>150.397263</td>\n",
       "      <td>350.175262</td>\n",
       "    </tr>\n",
       "  </tbody>\n",
       "</table>\n",
       "</div>"
      ],
      "text/plain": [
       "   Label - node id           x           y           z\n",
       "0                1 -183.063339  134.525345  388.490692\n",
       "1                2 -161.198669  143.211426  373.034149\n",
       "2                3 -146.246490  150.397263  350.175262"
      ]
     },
     "execution_count": null,
     "metadata": {},
     "output_type": "execute_result"
    }
   ],
   "source": [
    "#|echo: false\n",
    "source[:3]"
   ]
  },
  {
   "attachments": {},
   "cell_type": "markdown",
   "metadata": {},
   "source": [
    "**target landmarks**"
   ]
  },
  {
   "cell_type": "code",
   "execution_count": null,
   "metadata": {},
   "outputs": [
    {
     "data": {
      "text/html": [
       "<div>\n",
       "<style scoped>\n",
       "    .dataframe tbody tr th:only-of-type {\n",
       "        vertical-align: middle;\n",
       "    }\n",
       "\n",
       "    .dataframe tbody tr th {\n",
       "        vertical-align: top;\n",
       "    }\n",
       "\n",
       "    .dataframe thead th {\n",
       "        text-align: right;\n",
       "    }\n",
       "</style>\n",
       "<table border=\"1\" class=\"dataframe\">\n",
       "  <thead>\n",
       "    <tr style=\"text-align: right;\">\n",
       "      <th></th>\n",
       "      <th>Label - node id</th>\n",
       "      <th>x</th>\n",
       "      <th>y</th>\n",
       "      <th>z</th>\n",
       "    </tr>\n",
       "  </thead>\n",
       "  <tbody>\n",
       "    <tr>\n",
       "      <th>0</th>\n",
       "      <td>1</td>\n",
       "      <td>119.175774</td>\n",
       "      <td>148.936493</td>\n",
       "      <td>-365.196716</td>\n",
       "    </tr>\n",
       "    <tr>\n",
       "      <th>1</th>\n",
       "      <td>2</td>\n",
       "      <td>118.836217</td>\n",
       "      <td>126.852319</td>\n",
       "      <td>-388.762611</td>\n",
       "    </tr>\n",
       "    <tr>\n",
       "      <th>2</th>\n",
       "      <td>3</td>\n",
       "      <td>122.934593</td>\n",
       "      <td>119.134407</td>\n",
       "      <td>-419.716431</td>\n",
       "    </tr>\n",
       "  </tbody>\n",
       "</table>\n",
       "</div>"
      ],
      "text/plain": [
       "   Label - node id           x           y           z\n",
       "0                1  119.175774  148.936493 -365.196716\n",
       "1                2  118.836217  126.852319 -388.762611\n",
       "2                3  122.934593  119.134407 -419.716431"
      ]
     },
     "execution_count": null,
     "metadata": {},
     "output_type": "execute_result"
    }
   ],
   "source": [
    "#|echo: false\n",
    "target[:3]"
   ]
  },
  {
   "attachments": {},
   "cell_type": "markdown",
   "metadata": {},
   "source": [
    "---"
   ]
  },
  {
   "attachments": {},
   "cell_type": "markdown",
   "metadata": {},
   "source": [
    "## Morphing"
   ]
  },
  {
   "attachments": {},
   "cell_type": "markdown",
   "metadata": {},
   "source": [
    "The morphing function is taken and adapted from:\n",
    "\n",
    "- [PyGeM - Python Geometrical Morphing Library](http://mathlab.github.io/PyGeM/#)\n",
    "\n",
    "- [ Pygem RBF - Radial Basis Function](http://mathlab.github.io/PyGeM/rbf.html)"
   ]
  },
  {
   "attachments": {},
   "cell_type": "markdown",
   "metadata": {},
   "source": [
    "Infepy implements a slightly different version of the RBF function. \n",
    "\n",
    "It introduces:\n",
    "\n",
    "-   The possibility to add *a smoothing factor* in the morphing process.  The smoothing factor modifies to the Diagonal of the Dcc matrix by adding a constant value o its diagonal. [RBF implementation](https://www.tandfonline.com/doi/full/10.1080/10618562.2014.932352)\n",
    "\n",
    "and \n",
    "\n",
    "- the *euclidean basis function*, i.d. a basis function = 1.     [Infepy euclidean function](https://github.com/infekit/infepy/blob/main/infepy/rbf_factory.py).   \n",
    "\n"
   ]
  }
 ],
 "metadata": {
  "kernelspec": {
   "display_name": "python3",
   "language": "python",
   "name": "python3"
  }
 },
 "nbformat": 4,
 "nbformat_minor": 2
}
