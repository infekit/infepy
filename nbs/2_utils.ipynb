{
 "cells": [
  {
   "cell_type": "markdown",
   "metadata": {},
   "source": [
    "# Utils\n",
    "\n",
    "> Utils function used in the environment."
   ]
  },
  {
   "cell_type": "code",
   "execution_count": null,
   "metadata": {},
   "outputs": [],
   "source": [
    "#| default_exp utils"
   ]
  },
  {
   "cell_type": "code",
   "execution_count": null,
   "metadata": {},
   "outputs": [],
   "source": [
    "#| hide\n",
    "from nbdev.showdoc import *"
   ]
  },
  {
   "cell_type": "code",
   "execution_count": null,
   "metadata": {},
   "outputs": [],
   "source": [
    "#| export\n",
    "import os\n",
    "import toml"
   ]
  },
  {
   "cell_type": "code",
   "execution_count": null,
   "metadata": {},
   "outputs": [],
   "source": [
    "#| export\n",
    "def read_toml(  config_file= \"Config.toml\" # Path to the config file\n",
    "):\n",
    "    \"Read setting file. The File containes the relative path to source and target.\"\n",
    "    config= toml.load(config_file)\n",
    "    return config\n",
    "    "
   ]
  },
  {
   "cell_type": "code",
   "execution_count": null,
   "metadata": {},
   "outputs": [
    {
     "data": {
      "text/plain": [
       "{'source': {'path': 'data/source',\n",
       "  'filename_geometry': 'bone.key',\n",
       "  'filename_landmarks': 'landmarks_source.csv'},\n",
       " 'target': {'path': 'data/target',\n",
       "  'filename_landmarks': 'landmarks_target.key'}}"
      ]
     },
     "execution_count": null,
     "metadata": {},
     "output_type": "execute_result"
    }
   ],
   "source": [
    "# Here an example on how to structure a config.toml file.\n",
    "config  = read_toml()\n",
    "config"
   ]
  },
  {
   "cell_type": "code",
   "execution_count": null,
   "metadata": {},
   "outputs": [],
   "source": [
    "#| export\n",
    "def _merge_path(path1:str , path2: str)-> str:\n",
    "    \"Join one or more path components. Return the join path in str type.\"\n",
    "    return os.path.join(path1,path2)"
   ]
  },
  {
   "cell_type": "code",
   "execution_count": null,
   "metadata": {},
   "outputs": [
    {
     "data": {
      "text/plain": [
       "'data/source/bone.key'"
      ]
     },
     "execution_count": null,
     "metadata": {},
     "output_type": "execute_result"
    }
   ],
   "source": [
    "_merge_path(config['source']['path'],config['source']['filename_geometry'])"
   ]
  },
  {
   "cell_type": "code",
   "execution_count": null,
   "metadata": {},
   "outputs": [],
   "source": [
    "#| export\n",
    "def multiple_targets():\n",
    "    \"This function checks if the there are multiple target subject.\"\n",
    "    config = read_toml()\n",
    "    path= config['target']['path']\n",
    "    filename = config['target']['filename_landmarks']\n",
    "    list_target= [name for name in os.listdir(path) if os.path.isdir(os.path.join(path, name))]\n",
    "    if not list_target:\n",
    "        assert os.path.isfile(_merge_path(path, filename)), \"No file with Landmarks\"\n",
    "        return False\n",
    "    else:\n",
    "        return list_target\n"
   ]
  },
  {
   "cell_type": "code",
   "execution_count": null,
   "metadata": {},
   "outputs": [
    {
     "data": {
      "text/plain": [
       "True"
      ]
     },
     "execution_count": null,
     "metadata": {},
     "output_type": "execute_result"
    }
   ],
   "source": [
    "multiple_targets()"
   ]
  },
  {
   "cell_type": "code",
   "execution_count": null,
   "metadata": {},
   "outputs": [],
   "source": [
    "#| hide\n",
    "import nbdev; nbdev.nbdev_export()"
   ]
  }
 ],
 "metadata": {
  "kernelspec": {
   "display_name": "Python 3.9.15 ('infekit')",
   "language": "python",
   "name": "python3"
  }
 },
 "nbformat": 4,
 "nbformat_minor": 2
}
