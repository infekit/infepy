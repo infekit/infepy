{
 "cells": [
  {
   "cell_type": "markdown",
   "metadata": {},
   "source": [
    "# Utils\n",
    "\n",
    "> Utils function used in the environment."
   ]
  },
  {
   "cell_type": "code",
   "execution_count": null,
   "metadata": {},
   "outputs": [],
   "source": [
    "#| default_exp utils"
   ]
  },
  {
   "cell_type": "code",
   "execution_count": null,
   "metadata": {},
   "outputs": [],
   "source": [
    "#| hide\n",
    "from nbdev.showdoc import *"
   ]
  },
  {
   "cell_type": "code",
   "execution_count": null,
   "metadata": {},
   "outputs": [],
   "source": [
    "#| export\n",
    "import os\n",
    "import numpy as np\n",
    "import pandas as pd\n",
    "import toml"
   ]
  },
  {
   "cell_type": "code",
   "execution_count": null,
   "metadata": {},
   "outputs": [],
   "source": [
    "#| export\n",
    "def read_toml(  config_file= \"Config.toml\" # Path to the config file\n",
    "):\n",
    "    \"Read setting file. The File containes the relative path to source and target.\"\n",
    "    config= toml.load(config_file)\n",
    "    return config\n",
    "    "
   ]
  },
  {
   "cell_type": "code",
   "execution_count": null,
   "metadata": {},
   "outputs": [
    {
     "data": {
      "text/plain": [
       "{'source': {'path': 'data/source',\n",
       "  'filename_mesh': 'humerus_sx.key',\n",
       "  'filename_landmarks': 'landmarks_source_1.csv'},\n",
       " 'target': {'path': 'data/target',\n",
       "  'filename_landmarks': 'landmarks_target.csv'}}"
      ]
     },
     "execution_count": null,
     "metadata": {},
     "output_type": "execute_result"
    }
   ],
   "source": [
    "# Here an example on how to structure a config.toml file.\n",
    "config  = read_toml()\n",
    "config"
   ]
  },
  {
   "cell_type": "code",
   "execution_count": null,
   "metadata": {},
   "outputs": [],
   "source": [
    "#| export\n",
    "def _merge_path(path1:str , path2: str)-> str:\n",
    "    \"Join one or more path components. Return the join path in str type.\"\n",
    "    return os.path.join(path1,path2)"
   ]
  },
  {
   "cell_type": "code",
   "execution_count": null,
   "metadata": {},
   "outputs": [
    {
     "data": {
      "text/plain": [
       "'data/source/humerus_sx.key'"
      ]
     },
     "execution_count": null,
     "metadata": {},
     "output_type": "execute_result"
    }
   ],
   "source": [
    "_merge_path(config['source']['path'],config['source']['filename_mesh'])"
   ]
  },
  {
   "cell_type": "code",
   "execution_count": null,
   "metadata": {},
   "outputs": [],
   "source": [
    "#| export\n",
    "def multiple_targets():\n",
    "    \"This function checks if the there are multiple target subject.\"\n",
    "    config = read_toml()\n",
    "    path= config['target']['path']\n",
    "    filename = config['target']['filename_landmarks']\n",
    "    list_target= [name for name in os.listdir(path) if os.path.isdir(os.path.join(path, name))]\n",
    "    if not list_target:\n",
    "        assert os.path.isfile(_merge_path(path, filename)), \"No file with Landmarks\"\n",
    "        return False\n",
    "    else:\n",
    "        return list_target\n"
   ]
  },
  {
   "cell_type": "code",
   "execution_count": null,
   "metadata": {},
   "outputs": [
    {
     "data": {
      "text/plain": [
       "['subj_1', 'subj_2']"
      ]
     },
     "execution_count": null,
     "metadata": {},
     "output_type": "execute_result"
    }
   ],
   "source": [
    "multiple_targets()"
   ]
  },
  {
   "cell_type": "code",
   "execution_count": null,
   "metadata": {},
   "outputs": [],
   "source": [
    "#| export\n",
    "def read_k_file(path_to_file: str # File to read from \n",
    "                 )-> pd.DataFrame: # Dataframe of shape [n_nodes, [ID,x,y,z]]\n",
    "    \"This function read *NODES from .k/.key file.\"\n",
    "    id_list = []\n",
    "    node_coords = []\n",
    "    find_nodes = False\n",
    "    \n",
    "    #assert os.path.exists(path_to_file), \"Wrong path. Path not existent. Check the name/extension of the file.\"\n",
    "    \n",
    "    with open(path_to_file, 'r') as fp:\n",
    "        for _, line in enumerate(fp):\n",
    "            if line.startswith('*NODE'):\n",
    "                find_nodes = True\n",
    "                continue\n",
    "            if find_nodes and line.startswith('*'):\n",
    "                break\n",
    "            if find_nodes:\n",
    "                node_id = int(line[:8]) \n",
    "                node_x = float(line[8:24])\n",
    "                node_y = float(line[24:40])\n",
    "                node_z = float(line[40:56])\n",
    "                id_list.append(node_id)\n",
    "                node_coords.append([node_x, node_y, node_z])   \n",
    "                 \n",
    "    assert node_coords, \"Nodes have NOT been read.\"\n",
    "    \n",
    "    df = pd.concat([pd.DataFrame(id_list), pd.DataFrame(node_coords)],axis=1)\n",
    "    df.columns = ['Label - node id','x','y','z']\n",
    "    return df"
   ]
  },
  {
   "cell_type": "code",
   "execution_count": null,
   "metadata": {},
   "outputs": [
    {
     "data": {
      "text/html": [
       "<div>\n",
       "<style scoped>\n",
       "    .dataframe tbody tr th:only-of-type {\n",
       "        vertical-align: middle;\n",
       "    }\n",
       "\n",
       "    .dataframe tbody tr th {\n",
       "        vertical-align: top;\n",
       "    }\n",
       "\n",
       "    .dataframe thead th {\n",
       "        text-align: right;\n",
       "    }\n",
       "</style>\n",
       "<table border=\"1\" class=\"dataframe\">\n",
       "  <thead>\n",
       "    <tr style=\"text-align: right;\">\n",
       "      <th></th>\n",
       "      <th>Label - node id</th>\n",
       "      <th>x</th>\n",
       "      <th>y</th>\n",
       "      <th>z</th>\n",
       "    </tr>\n",
       "  </thead>\n",
       "  <tbody>\n",
       "    <tr>\n",
       "      <th>0</th>\n",
       "      <td>3091310</td>\n",
       "      <td>-181.550415</td>\n",
       "      <td>145.430511</td>\n",
       "      <td>404.375488</td>\n",
       "    </tr>\n",
       "    <tr>\n",
       "      <th>1</th>\n",
       "      <td>3091330</td>\n",
       "      <td>-43.251625</td>\n",
       "      <td>196.187363</td>\n",
       "      <td>194.874634</td>\n",
       "    </tr>\n",
       "    <tr>\n",
       "      <th>2</th>\n",
       "      <td>3091332</td>\n",
       "      <td>-37.076435</td>\n",
       "      <td>219.493759</td>\n",
       "      <td>205.082413</td>\n",
       "    </tr>\n",
       "    <tr>\n",
       "      <th>3</th>\n",
       "      <td>3091333</td>\n",
       "      <td>-33.503811</td>\n",
       "      <td>176.722672</td>\n",
       "      <td>190.791733</td>\n",
       "    </tr>\n",
       "    <tr>\n",
       "      <th>4</th>\n",
       "      <td>3091334</td>\n",
       "      <td>-27.463694</td>\n",
       "      <td>215.396118</td>\n",
       "      <td>203.790085</td>\n",
       "    </tr>\n",
       "    <tr>\n",
       "      <th>...</th>\n",
       "      <td>...</td>\n",
       "      <td>...</td>\n",
       "      <td>...</td>\n",
       "      <td>...</td>\n",
       "    </tr>\n",
       "    <tr>\n",
       "      <th>7826</th>\n",
       "      <td>3182470</td>\n",
       "      <td>-47.164852</td>\n",
       "      <td>171.558502</td>\n",
       "      <td>192.754669</td>\n",
       "    </tr>\n",
       "    <tr>\n",
       "      <th>7827</th>\n",
       "      <td>3182472</td>\n",
       "      <td>-45.163231</td>\n",
       "      <td>170.620392</td>\n",
       "      <td>190.355927</td>\n",
       "    </tr>\n",
       "    <tr>\n",
       "      <th>7828</th>\n",
       "      <td>3183714</td>\n",
       "      <td>-35.255299</td>\n",
       "      <td>217.536606</td>\n",
       "      <td>208.970779</td>\n",
       "    </tr>\n",
       "    <tr>\n",
       "      <th>7829</th>\n",
       "      <td>3183720</td>\n",
       "      <td>-38.128960</td>\n",
       "      <td>216.646057</td>\n",
       "      <td>209.831924</td>\n",
       "    </tr>\n",
       "    <tr>\n",
       "      <th>7830</th>\n",
       "      <td>3186139</td>\n",
       "      <td>-50.200691</td>\n",
       "      <td>171.959595</td>\n",
       "      <td>193.315063</td>\n",
       "    </tr>\n",
       "  </tbody>\n",
       "</table>\n",
       "<p>7831 rows × 4 columns</p>\n",
       "</div>"
      ],
      "text/plain": [
       "      Label - node id           x           y           z\n",
       "0             3091310 -181.550415  145.430511  404.375488\n",
       "1             3091330  -43.251625  196.187363  194.874634\n",
       "2             3091332  -37.076435  219.493759  205.082413\n",
       "3             3091333  -33.503811  176.722672  190.791733\n",
       "4             3091334  -27.463694  215.396118  203.790085\n",
       "...               ...         ...         ...         ...\n",
       "7826          3182470  -47.164852  171.558502  192.754669\n",
       "7827          3182472  -45.163231  170.620392  190.355927\n",
       "7828          3183714  -35.255299  217.536606  208.970779\n",
       "7829          3183720  -38.128960  216.646057  209.831924\n",
       "7830          3186139  -50.200691  171.959595  193.315063\n",
       "\n",
       "[7831 rows x 4 columns]"
      ]
     },
     "execution_count": null,
     "metadata": {},
     "output_type": "execute_result"
    }
   ],
   "source": [
    "read_k_file(_merge_path(config['source']['path'],config['source']['filename_mesh']))"
   ]
  },
  {
   "cell_type": "code",
   "execution_count": null,
   "metadata": {},
   "outputs": [],
   "source": [
    "#| export\n",
    "def read_csv_file(path_to_file: str)-> pd.DataFrame:\n",
    "    \"This function read csv files in format id, x, y,z. to Pandas DataFrame\"\n",
    "    with open(path_to_file) as fp:\n",
    "            df = pd.read_csv(fp, header=None, comment='#')\n",
    "            df= df.iloc[:,:4]\n",
    "            df.columns = ['Label - node id','x','y','z']\n",
    "    return df"
   ]
  },
  {
   "cell_type": "code",
   "execution_count": null,
   "metadata": {},
   "outputs": [
    {
     "data": {
      "text/html": [
       "<div>\n",
       "<style scoped>\n",
       "    .dataframe tbody tr th:only-of-type {\n",
       "        vertical-align: middle;\n",
       "    }\n",
       "\n",
       "    .dataframe tbody tr th {\n",
       "        vertical-align: top;\n",
       "    }\n",
       "\n",
       "    .dataframe thead th {\n",
       "        text-align: right;\n",
       "    }\n",
       "</style>\n",
       "<table border=\"1\" class=\"dataframe\">\n",
       "  <thead>\n",
       "    <tr style=\"text-align: right;\">\n",
       "      <th></th>\n",
       "      <th>Label - node id</th>\n",
       "      <th>x</th>\n",
       "      <th>y</th>\n",
       "      <th>z</th>\n",
       "    </tr>\n",
       "  </thead>\n",
       "  <tbody>\n",
       "    <tr>\n",
       "      <th>0</th>\n",
       "      <td>1</td>\n",
       "      <td>143.626846</td>\n",
       "      <td>125.409294</td>\n",
       "      <td>-326.238861</td>\n",
       "    </tr>\n",
       "    <tr>\n",
       "      <th>1</th>\n",
       "      <td>2</td>\n",
       "      <td>141.469513</td>\n",
       "      <td>107.290733</td>\n",
       "      <td>-352.120819</td>\n",
       "    </tr>\n",
       "    <tr>\n",
       "      <th>2</th>\n",
       "      <td>3</td>\n",
       "      <td>146.548157</td>\n",
       "      <td>96.690437</td>\n",
       "      <td>-377.598724</td>\n",
       "    </tr>\n",
       "    <tr>\n",
       "      <th>3</th>\n",
       "      <td>4</td>\n",
       "      <td>153.147644</td>\n",
       "      <td>85.534966</td>\n",
       "      <td>-404.737579</td>\n",
       "    </tr>\n",
       "    <tr>\n",
       "      <th>4</th>\n",
       "      <td>5</td>\n",
       "      <td>161.815109</td>\n",
       "      <td>75.277267</td>\n",
       "      <td>-432.176575</td>\n",
       "    </tr>\n",
       "    <tr>\n",
       "      <th>5</th>\n",
       "      <td>6</td>\n",
       "      <td>169.856812</td>\n",
       "      <td>65.251915</td>\n",
       "      <td>-459.684082</td>\n",
       "    </tr>\n",
       "    <tr>\n",
       "      <th>6</th>\n",
       "      <td>7</td>\n",
       "      <td>176.270813</td>\n",
       "      <td>53.894630</td>\n",
       "      <td>-487.054871</td>\n",
       "    </tr>\n",
       "    <tr>\n",
       "      <th>7</th>\n",
       "      <td>8</td>\n",
       "      <td>181.686218</td>\n",
       "      <td>42.362797</td>\n",
       "      <td>-514.658752</td>\n",
       "    </tr>\n",
       "    <tr>\n",
       "      <th>8</th>\n",
       "      <td>9</td>\n",
       "      <td>182.188034</td>\n",
       "      <td>34.368439</td>\n",
       "      <td>-544.702148</td>\n",
       "    </tr>\n",
       "    <tr>\n",
       "      <th>9</th>\n",
       "      <td>10</td>\n",
       "      <td>185.342499</td>\n",
       "      <td>40.992100</td>\n",
       "      <td>-572.005493</td>\n",
       "    </tr>\n",
       "  </tbody>\n",
       "</table>\n",
       "</div>"
      ],
      "text/plain": [
       "   Label - node id           x           y           z\n",
       "0                1  143.626846  125.409294 -326.238861\n",
       "1                2  141.469513  107.290733 -352.120819\n",
       "2                3  146.548157   96.690437 -377.598724\n",
       "3                4  153.147644   85.534966 -404.737579\n",
       "4                5  161.815109   75.277267 -432.176575\n",
       "5                6  169.856812   65.251915 -459.684082\n",
       "6                7  176.270813   53.894630 -487.054871\n",
       "7                8  181.686218   42.362797 -514.658752\n",
       "8                9  182.188034   34.368439 -544.702148\n",
       "9               10  185.342499   40.992100 -572.005493"
      ]
     },
     "execution_count": null,
     "metadata": {},
     "output_type": "execute_result"
    }
   ],
   "source": [
    "df = read_csv_file(_merge_path(config['source']['path'],config['source']['filename_landmarks']))\n",
    "df"
   ]
  },
  {
   "cell_type": "code",
   "execution_count": null,
   "metadata": {},
   "outputs": [],
   "source": [
    "#| export\n",
    "def from_df_to_np(df: pd.DataFrame)->np.ndarray:\n",
    "    \"This function transform a pd.Dataframe of shape [ID, x,y,z] to numpy array of coordinates [x,y,z]\"\n",
    "    if len(df.columns) == 4:\n",
    "        return df.iloc[:,1:4].values\n",
    "    \n",
    "    elif len(df.columns) == 3:\n",
    "        return df.values\n",
    "    else:\n",
    "        raise Exception(\"Invalid number of column in the Dataframe. Expected either 3 or 4 columns. \")"
   ]
  },
  {
   "cell_type": "code",
   "execution_count": null,
   "metadata": {},
   "outputs": [
    {
     "data": {
      "text/plain": [
       "array([[ 100.00190735,  110.13912964, -100.98062134]])"
      ]
     },
     "execution_count": null,
     "metadata": {},
     "output_type": "execute_result"
    }
   ],
   "source": [
    "from_df_to_np(df) #return np.array"
   ]
  },
  {
   "cell_type": "code",
   "execution_count": null,
   "metadata": {},
   "outputs": [],
   "source": [
    "#| export\n",
    "def to_ls_dyna(number):\n",
    "    return '{:16f}'.format(number)"
   ]
  },
  {
   "cell_type": "code",
   "execution_count": null,
   "metadata": {},
   "outputs": [
    {
     "data": {
      "text/plain": [
       "'        6.800000'"
      ]
     },
     "execution_count": null,
     "metadata": {},
     "output_type": "execute_result"
    }
   ],
   "source": [
    "to_ls_dyna(6.8)"
   ]
  },
  {
   "cell_type": "code",
   "execution_count": null,
   "metadata": {},
   "outputs": [],
   "source": [
    "#| hide\n",
    "import nbdev; nbdev.nbdev_export()"
   ]
  }
 ],
 "metadata": {
  "kernelspec": {
   "display_name": "infekit",
   "language": "python",
   "name": "python3"
  }
 },
 "nbformat": 4,
 "nbformat_minor": 2
}
