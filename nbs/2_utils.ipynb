{
 "cells": [
  {
   "cell_type": "markdown",
   "metadata": {},
   "source": [
    "# Utils\n",
    "\n",
    "> Utils function used in the environment."
   ]
  },
  {
   "cell_type": "code",
   "execution_count": 1,
   "metadata": {},
   "outputs": [],
   "source": [
    "#| default_exp utils"
   ]
  },
  {
   "cell_type": "code",
   "execution_count": 2,
   "metadata": {},
   "outputs": [],
   "source": [
    "#| hide\n",
    "from nbdev.showdoc import *"
   ]
  },
  {
   "cell_type": "code",
   "execution_count": 11,
   "metadata": {},
   "outputs": [],
   "source": [
    "#| export\n",
    "import os\n",
    "import numpy as np\n",
    "import pandas as pd\n",
    "import toml"
   ]
  },
  {
   "cell_type": "code",
   "execution_count": 4,
   "metadata": {},
   "outputs": [],
   "source": [
    "#| export\n",
    "def read_toml(  config_file= \"Config.toml\" # Path to the config file\n",
    "):\n",
    "    \"Read setting file. The File containes the relative path to source and target.\"\n",
    "    config= toml.load(config_file)\n",
    "    return config\n",
    "    "
   ]
  },
  {
   "cell_type": "code",
   "execution_count": 5,
   "metadata": {},
   "outputs": [
    {
     "data": {
      "text/plain": [
       "{'source': {'path': 'data/source',\n",
       "  'filename_geometry': 'bone.key',\n",
       "  'filename_landmarks': 'landmarks_source.csv'},\n",
       " 'target': {'path': 'data/target',\n",
       "  'filename_landmarks': 'landmarks_target.key'}}"
      ]
     },
     "execution_count": 5,
     "metadata": {},
     "output_type": "execute_result"
    }
   ],
   "source": [
    "# Here an example on how to structure a config.toml file.\n",
    "config  = read_toml()\n",
    "config"
   ]
  },
  {
   "cell_type": "code",
   "execution_count": 6,
   "metadata": {},
   "outputs": [],
   "source": [
    "#| export\n",
    "def _merge_path(path1:str , path2: str)-> str:\n",
    "    \"Join one or more path components. Return the join path in str type.\"\n",
    "    return os.path.join(path1,path2)"
   ]
  },
  {
   "cell_type": "code",
   "execution_count": 7,
   "metadata": {},
   "outputs": [
    {
     "data": {
      "text/plain": [
       "'data/source/bone.key'"
      ]
     },
     "execution_count": 7,
     "metadata": {},
     "output_type": "execute_result"
    }
   ],
   "source": [
    "_merge_path(config['source']['path'],config['source']['filename_geometry'])"
   ]
  },
  {
   "cell_type": "code",
   "execution_count": 8,
   "metadata": {},
   "outputs": [],
   "source": [
    "#| export\n",
    "def multiple_targets():\n",
    "    \"This function checks if the there are multiple target subject.\"\n",
    "    config = read_toml()\n",
    "    path= config['target']['path']\n",
    "    filename = config['target']['filename_landmarks']\n",
    "    list_target= [name for name in os.listdir(path) if os.path.isdir(os.path.join(path, name))]\n",
    "    if not list_target:\n",
    "        assert os.path.isfile(_merge_path(path, filename)), \"No file with Landmarks\"\n",
    "        return False\n",
    "    else:\n",
    "        return list_target\n"
   ]
  },
  {
   "cell_type": "code",
   "execution_count": 9,
   "metadata": {},
   "outputs": [
    {
     "data": {
      "text/plain": [
       "['subj_1', 'subj_2']"
      ]
     },
     "execution_count": 9,
     "metadata": {},
     "output_type": "execute_result"
    }
   ],
   "source": [
    "multiple_targets()"
   ]
  },
  {
   "cell_type": "code",
   "execution_count": 13,
   "metadata": {},
   "outputs": [],
   "source": [
    "def _read_k_file(path_to_file: str # File to read from \n",
    "                 )-> pd.DataFrame:\n",
    "    \n",
    "    \"This function read *NODES from .k/.key file.\"\n",
    "    id_list = []\n",
    "    node_coords_list = []\n",
    "    find_nodes = False\n",
    "    \n",
    "    assert os.path.exists(path_to_file)\n",
    "    \n",
    "    with open(path_to_file, 'r') as fp:\n",
    "        for num, line in enumerate(fp):\n",
    "            if line.startswith('*NODE'):\n",
    "                find_nodes = True\n",
    "                continue\n",
    "            if find_nodes and line.startswith('*'):\n",
    "                break\n",
    "            if find_nodes:\n",
    "                node_id = int(line[:8]) \n",
    "                node_x = float(line[8:24])\n",
    "                node_y = float(line[24:40])\n",
    "                node_z = float(line[40:56])\n",
    "                id_list.append(node_id)\n",
    "                node_coords_list.append([node_x, node_y, node_z])\n",
    "    \n",
    "    assert not node_coords_list, \"Nodes have NOT been read.\"\n",
    "    \n",
    "    # return Dataframe\n",
    "    \n",
    "    return #pd.Dataframe([id_list,node_coords_list]) Need to return one merged dataframe"
   ]
  },
  {
   "cell_type": "code",
   "execution_count": null,
   "metadata": {},
   "outputs": [],
   "source": [
    "def _read_csv_file(path_to_file: str)-> pd.DataFrame:\n",
    "    \"This function read csv files in format id, x, y,z. to Pandas DataFrame\"\n",
    "    with open(path_to_file) as fp:\n",
    "            # read into csv, drop not used columns, and set new index.\n",
    "            df = pd.read_csv(fp, skiprows=2,header=0, names= [\"id\",\"x\",\"y\",\"z\"])\n",
    "    return df"
   ]
  },
  {
   "cell_type": "code",
   "execution_count": null,
   "metadata": {},
   "outputs": [],
   "source": [
    "def _from_df_to_np(Dataframe: pd.DataFrame)->np.ndarray:\n",
    "    \"This function transform a pd.Dataframe of shape [ID, x,y,z] to numpy array of coordinates.\" "
   ]
  },
  {
   "cell_type": "code",
   "execution_count": null,
   "metadata": {},
   "outputs": [],
   "source": [
    "#| hide\n",
    "import nbdev; nbdev.nbdev_export()"
   ]
  }
 ],
 "metadata": {
  "kernelspec": {
   "display_name": "Python 3.9.15 ('infekit')",
   "language": "python",
   "name": "python3"
  },
  "language_info": {
   "codemirror_mode": {
    "name": "ipython",
    "version": 3
   },
   "file_extension": ".py",
   "mimetype": "text/x-python",
   "name": "python",
   "nbconvert_exporter": "python",
   "pygments_lexer": "ipython3",
   "version": "3.9.15"
  },
  "vscode": {
   "interpreter": {
    "hash": "999905aaca90b5cd166bea9eeb734e58744be10fbbbdd92b37945437c5cd6e81"
   }
  }
 },
 "nbformat": 4,
 "nbformat_minor": 2
}
