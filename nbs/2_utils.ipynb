{
 "cells": [
  {
   "cell_type": "markdown",
   "metadata": {},
   "source": [
    "# Utils\n",
    "\n",
    "> Utils function used in the environment."
   ]
  },
  {
   "cell_type": "code",
   "execution_count": null,
   "metadata": {},
   "outputs": [],
   "source": [
    "#| default_exp utils"
   ]
  },
  {
   "cell_type": "code",
   "execution_count": null,
   "metadata": {},
   "outputs": [],
   "source": [
    "#| hide\n",
    "from nbdev.showdoc import *"
   ]
  },
  {
   "cell_type": "code",
   "execution_count": null,
   "metadata": {},
   "outputs": [],
   "source": [
    "#| export\n",
    "import os\n",
    "import numpy as np\n",
    "import pandas as pd\n",
    "import toml"
   ]
  },
  {
   "cell_type": "code",
   "execution_count": null,
   "metadata": {},
   "outputs": [],
   "source": [
    "#| export\n",
    "def read_toml(  config_file= \"Config.toml\" # Path to the config file\n",
    "):\n",
    "    \"Read setting file. The File containes the relative path to source and target.\"\n",
    "    config= toml.load(config_file)\n",
    "    return config\n",
    "    "
   ]
  },
  {
   "cell_type": "code",
   "execution_count": null,
   "metadata": {},
   "outputs": [
    {
     "data": {
      "text/plain": [
       "{'source': {'path': 'data/source',\n",
       "  'filename_mesh': 'bone.key',\n",
       "  'filename_landmarks': 'landmarks_source.csv'},\n",
       " 'target': {'path': 'data/target',\n",
       "  'filename_landmarks': 'landmarks_target.key'}}"
      ]
     },
     "execution_count": null,
     "metadata": {},
     "output_type": "execute_result"
    }
   ],
   "source": [
    "# Here an example on how to structure a config.toml file.\n",
    "config  = read_toml()\n",
    "config"
   ]
  },
  {
   "cell_type": "code",
   "execution_count": null,
   "metadata": {},
   "outputs": [],
   "source": [
    "#| export\n",
    "def _merge_path(path1:str , path2: str)-> str:\n",
    "    \"Join one or more path components. Return the join path in str type.\"\n",
    "    return os.path.join(path1,path2)"
   ]
  },
  {
   "cell_type": "code",
   "execution_count": null,
   "metadata": {},
   "outputs": [
    {
     "data": {
      "text/plain": [
       "'data/source/bone.key'"
      ]
     },
     "execution_count": null,
     "metadata": {},
     "output_type": "execute_result"
    }
   ],
   "source": [
    "_merge_path(config['source']['path'],config['source']['filename_mesh'])"
   ]
  },
  {
   "cell_type": "code",
   "execution_count": null,
   "metadata": {},
   "outputs": [],
   "source": [
    "#| export\n",
    "def multiple_targets():\n",
    "    \"This function checks if the there are multiple target subject.\"\n",
    "    config = read_toml()\n",
    "    path= config['target']['path']\n",
    "    filename = config['target']['filename_landmarks']\n",
    "    list_target= [name for name in os.listdir(path) if os.path.isdir(os.path.join(path, name))]\n",
    "    if not list_target:\n",
    "        assert os.path.isfile(_merge_path(path, filename)), \"No file with Landmarks\"\n",
    "        return False\n",
    "    else:\n",
    "        return list_target\n"
   ]
  },
  {
   "cell_type": "code",
   "execution_count": null,
   "metadata": {},
   "outputs": [
    {
     "data": {
      "text/plain": [
       "['subj_1', 'subj_2']"
      ]
     },
     "execution_count": null,
     "metadata": {},
     "output_type": "execute_result"
    }
   ],
   "source": [
    "multiple_targets()"
   ]
  },
  {
   "cell_type": "code",
   "execution_count": null,
   "metadata": {},
   "outputs": [],
   "source": [
    "#| export\n",
    "def read_k_file(path_to_file: str # File to read from \n",
    "                 )-> pd.DataFrame: # Dataframe of shape [n_nodes, [ID,x,y,z]]\n",
    "    \"This function read *NODES from .k/.key file.\"\n",
    "    id_list = []\n",
    "    node_coords = []\n",
    "    find_nodes = False\n",
    "    \n",
    "    #assert os.path.exists(path_to_file), \"Wrong path. Path not existent. Check the name/extension of the file.\"\n",
    "    \n",
    "    with open(path_to_file, 'r') as fp:\n",
    "        for _, line in enumerate(fp):\n",
    "            if line.startswith('*NODE'):\n",
    "                find_nodes = True\n",
    "                continue\n",
    "            if find_nodes and line.startswith('*'):\n",
    "                break\n",
    "            if find_nodes:\n",
    "                node_id = int(line[:8]) \n",
    "                node_x = float(line[8:24])\n",
    "                node_y = float(line[24:40])\n",
    "                node_z = float(line[40:56])\n",
    "                id_list.append(node_id)\n",
    "                node_coords.append([node_x, node_y, node_z])   \n",
    "                 \n",
    "    assert node_coords, \"Nodes have NOT been read.\"\n",
    "    \n",
    "    df = pd.concat([pd.DataFrame(id_list), pd.DataFrame(node_coords)],axis=1)\n",
    "    df.columns = ['Label - node id','x','y','z']\n",
    "    return df"
   ]
  },
  {
   "cell_type": "code",
   "execution_count": null,
   "metadata": {},
   "outputs": [
    {
     "data": {
      "text/html": [
       "<div>\n",
       "<style scoped>\n",
       "    .dataframe tbody tr th:only-of-type {\n",
       "        vertical-align: middle;\n",
       "    }\n",
       "\n",
       "    .dataframe tbody tr th {\n",
       "        vertical-align: top;\n",
       "    }\n",
       "\n",
       "    .dataframe thead th {\n",
       "        text-align: right;\n",
       "    }\n",
       "</style>\n",
       "<table border=\"1\" class=\"dataframe\">\n",
       "  <thead>\n",
       "    <tr style=\"text-align: right;\">\n",
       "      <th></th>\n",
       "      <th>Label - node id</th>\n",
       "      <th>x</th>\n",
       "      <th>y</th>\n",
       "      <th>z</th>\n",
       "    </tr>\n",
       "  </thead>\n",
       "  <tbody>\n",
       "    <tr>\n",
       "      <th>0</th>\n",
       "      <td>591310</td>\n",
       "      <td>-181.550415</td>\n",
       "      <td>-145.430511</td>\n",
       "      <td>404.375488</td>\n",
       "    </tr>\n",
       "    <tr>\n",
       "      <th>1</th>\n",
       "      <td>3591330</td>\n",
       "      <td>-43.251625</td>\n",
       "      <td>-196.187363</td>\n",
       "      <td>194.874634</td>\n",
       "    </tr>\n",
       "    <tr>\n",
       "      <th>2</th>\n",
       "      <td>3591332</td>\n",
       "      <td>-37.076435</td>\n",
       "      <td>-219.493759</td>\n",
       "      <td>205.082413</td>\n",
       "    </tr>\n",
       "  </tbody>\n",
       "</table>\n",
       "</div>"
      ],
      "text/plain": [
       "   Label - node id           x           y           z\n",
       "0           591310 -181.550415 -145.430511  404.375488\n",
       "1          3591330  -43.251625 -196.187363  194.874634\n",
       "2          3591332  -37.076435 -219.493759  205.082413"
      ]
     },
     "execution_count": null,
     "metadata": {},
     "output_type": "execute_result"
    }
   ],
   "source": [
    "read_k_file(_merge_path(config['source']['path'],config['source']['filename_mesh']))"
   ]
  },
  {
   "cell_type": "code",
   "execution_count": null,
   "metadata": {},
   "outputs": [],
   "source": [
    "#| export\n",
    "def read_csv_file(path_to_file: str)-> pd.DataFrame:\n",
    "    \"This function read csv files in format id, x, y,z. to Pandas DataFrame\"\n",
    "    with open(path_to_file) as fp:\n",
    "            df = pd.read_csv(fp, header=None)\n",
    "            df= df.iloc[:,:4]\n",
    "            df.columns = ['Label - node id','x','y','z']\n",
    "    return df"
   ]
  },
  {
   "cell_type": "code",
   "execution_count": null,
   "metadata": {},
   "outputs": [
    {
     "data": {
      "text/html": [
       "<div>\n",
       "<style scoped>\n",
       "    .dataframe tbody tr th:only-of-type {\n",
       "        vertical-align: middle;\n",
       "    }\n",
       "\n",
       "    .dataframe tbody tr th {\n",
       "        vertical-align: top;\n",
       "    }\n",
       "\n",
       "    .dataframe thead th {\n",
       "        text-align: right;\n",
       "    }\n",
       "</style>\n",
       "<table border=\"1\" class=\"dataframe\">\n",
       "  <thead>\n",
       "    <tr style=\"text-align: right;\">\n",
       "      <th></th>\n",
       "      <th>id</th>\n",
       "      <th>x</th>\n",
       "      <th>y</th>\n",
       "      <th>z</th>\n",
       "    </tr>\n",
       "  </thead>\n",
       "  <tbody>\n",
       "    <tr>\n",
       "      <th>0</th>\n",
       "      <td>1</td>\n",
       "      <td>100.001907</td>\n",
       "      <td>110.13913</td>\n",
       "      <td>-100.980621</td>\n",
       "    </tr>\n",
       "  </tbody>\n",
       "</table>\n",
       "</div>"
      ],
      "text/plain": [
       "   id           x          y           z\n",
       "0   1  100.001907  110.13913 -100.980621"
      ]
     },
     "execution_count": null,
     "metadata": {},
     "output_type": "execute_result"
    }
   ],
   "source": [
    "df = read_csv_file(_merge_path(config['source']['path'],config['source']['filename_landmarks']))\n",
    "df"
   ]
  },
  {
   "cell_type": "code",
   "execution_count": null,
   "metadata": {},
   "outputs": [],
   "source": [
    "#| export\n",
    "def from_df_to_np(df: pd.DataFrame)->np.ndarray:\n",
    "    \"This function transform a pd.Dataframe of shape [ID, x,y,z] to numpy array of coordinates [x,y,z]\"\n",
    "    if len(df.columns) == 4:\n",
    "        return df.iloc[:,1:4].values\n",
    "    \n",
    "    elif len(df.columns) == 3:\n",
    "        return df.values\n",
    "    else:\n",
    "        raise Exception(\"Invalid number of column in the Dataframe. Expected either 3 or 4 columns. \")"
   ]
  },
  {
   "cell_type": "code",
   "execution_count": null,
   "metadata": {},
   "outputs": [
    {
     "data": {
      "text/plain": [
       "array([[ 100.00190735,  110.13912964, -100.98062134]])"
      ]
     },
     "execution_count": null,
     "metadata": {},
     "output_type": "execute_result"
    }
   ],
   "source": [
    "from_df_to_np(df) #return np.array"
   ]
  },
  {
   "cell_type": "code",
   "execution_count": null,
   "metadata": {},
   "outputs": [],
   "source": [
    "#| export\n",
    "def to_ls_dyna(number):\n",
    "    return '{:16f}'.format(number)"
   ]
  },
  {
   "cell_type": "code",
   "execution_count": null,
   "metadata": {},
   "outputs": [
    {
     "data": {
      "text/plain": [
       "'        6.800000'"
      ]
     },
     "execution_count": null,
     "metadata": {},
     "output_type": "execute_result"
    }
   ],
   "source": [
    "to_ls_dyna(6.8)"
   ]
  },
  {
   "cell_type": "code",
   "execution_count": null,
   "metadata": {},
   "outputs": [],
   "source": [
    "#| hide\n",
    "import nbdev; nbdev.nbdev_export()"
   ]
  }
 ],
 "metadata": {
  "kernelspec": {
   "display_name": "Python 3.9.15 ('infekit')",
   "language": "python",
   "name": "python3"
  },
  "language_info": {
   "name": "python",
   "version": "3.9.15"
  },
  "vscode": {
   "interpreter": {
    "hash": "999905aaca90b5cd166bea9eeb734e58744be10fbbbdd92b37945437c5cd6e81"
   }
  }
 },
 "nbformat": 4,
 "nbformat_minor": 2
}
