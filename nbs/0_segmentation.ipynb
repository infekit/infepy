{
 "cells": [
  {
   "cell_type": "markdown",
   "metadata": {},
   "source": [
    "# Segmentation & Landmarking\n",
    "\n",
    "> Segmentation and Landmarking Tutorial with 3DSlicer."
   ]
  },
  {
   "attachments": {},
   "cell_type": "markdown",
   "metadata": {},
   "source": [
    "# Segmentation\n",
    "\n",
    "----------------------------------------------------------------------------------\n",
    "\n",
    "- ## Load the volume\n",
    "    - On the upper left, click on DCM, Under section \"Reload & Test\", click on \"Import DICOM files\". Choose the files from the directory. \n",
    "    - On the import DICOM page, under in the \"Series\" option, select the volume to import and click on Examine, then Load. \n",
    "\n",
    "- ## Crop the Volume\n",
    "\n",
    "    - Press the \"lens\" button (in the upper part of the window) and search for the Module \"Crop Volume\" and click on Switch to Module.\n",
    "    - On the menu on the right, under section IO, select the Input Volume, select the volume just loaded. \n",
    "    - In the Input ROI: select \"Create a new ROI\"\n",
    "    - In the Advance section, Tick the \"interpolated cropping\" and \"Isotropic Spacing\".\n",
    "    - Now move around the box in the different views to select only the volume of interest & Apply.\n",
    "    - From now on the ROI markers are of no use. On the Data module, click on the eye button, to make the ROI invisible.  Will make it easy to work with the next steps.\n",
    "\n",
    "- ## Volume Module.\n",
    "\n",
    "    -  Under Display setting, select the CT-bone set up (The first on the left), Threshold level should be around [W:1000,L:400]. The goal of this step is to increase the contrast between the bones , or area of interest, from the surrounding tissues.\n",
    "    \n",
    "- ## Segment editor module.\n",
    "\n",
    "    - on the Segmentation Module, on the right click on the \"Add\" button. Let´s add 2 segments, one for the bone to segment (i.d. \"Humerus\"), and the other for everything else (i.d. \"Other). Double click on them to rename them. \n",
    "    - In the option, select the \"Treshold\", select a level between [160,2976] and click on \"Use for Masking\". (The optimal level is when the area highlighted is the bone, but not the surrounding tissues. Be careful on not outfilter some of the interested area. It´s better to have some surrounding tissue rather than erase some areas of interest).\n",
    "    - Let´s use semi-automatic segmentation. Go to \"Grow from Seeds\" and click on Initialize.\n",
    "    - Go to the brush option and paint on the single slice views, several slices for view. The more time spent in this part, the better the segmentation will be. Make sure to color for both the segments to help the module to differentiate between the parts. \n",
    "    - After, go back to \"Grown from Seeds\" and click on Apply. Click on \"Show 3D\" to render the 3D view. \n",
    "    - Toggle the visibility of the \"Other\" segment to assess the segmentation. \n",
    "        \n",
    "        - If unsatisfied or the segmentation present holes, go back to the Treshold and vary the the threshold level. Click again on Use for masking. Go to Grow from seed \"Initialize\", to the paint option and color the missing parts. Spend more time on painting the segments. It is important to Zoom on the slices and paint the edges of the segment to indicate to what they belong. Click on apply, to have an updated version of the segmentation. \n",
    "        \n",
    "    - Once done with the segmentation, if there are some spikes use the \"Scissor\" setting to cut out the smaller island. Make sure you have the segment selected when cutting out the island for that segment. \n",
    "    - To smooth out the surface, go on the \"Smoothing\" option and apply a \"Median\" filter to smooth out the surface (use a small kernel of 2/3 mm).\n",
    "    - Use also the filter \"Closing - Fill holes\", this time select an higher kernel (5/6 mm ). To address single spots, under the setting \"Smoothing brush option\", click on Edit in 3D view to paint in 3D view and close the local holes.\n",
    "\n",
    "    - If satisfied with the segmentation, go on the Data Module, Under the Segmentation hierarchy, right-click on the Bone segment and Export to file. Choose the STL version.     "
   ]
  },
  {
   "attachments": {},
   "cell_type": "markdown",
   "metadata": {},
   "source": [
    "    \n",
    "-------------------------------------------------------------------------"
   ]
  },
  {
   "attachments": {},
   "cell_type": "markdown",
   "metadata": {},
   "source": [
    "# Landmarking\n",
    "\n",
    "-------------------------------------------------------------------------"
   ]
  },
  {
   "attachments": {},
   "cell_type": "markdown",
   "metadata": {},
   "source": [
    "- Once obtained a volume, go to the \"Markup\" Module\n",
    "- To create landmarks, click on \"Point list\" and rename the setting. \n",
    "- To change the size of the control point go on Display and change the \"Glyph size\" to your liking.\n",
    "- To be able to place multiple points in sequence go to \"Place a Control point\" (Simbol with blue arrow and red dot) in the upper part of the Window. Click on the arrow, and select \"Place Multiple Control Points\".\n",
    "- To have overview of the point in the left part go to the setting \"Control point\" and from there it is possible to rename the point or add a description.\n",
    "- If want to place a curve, click on \"Curve\" and place  few the control points. Go in \"Curve Settings\" and for Constrain Model select the volume segmented. (This way the sampled points will be taken on the surface). \n",
    "- If want to resample the curve, go to \"Resample\" and select under \"Number of resampled points\" the number of point to resample the curve. The resample setting will place equidistant points. Go back to every single curve point to assure they are in the intended position. The resample option tends to move the landamrks. (Make sure the output node setting is to \"Overwrite current node\"). IF the resample nodes are not along the surface, in \"Curve settings\" go to Advance and increase the Maximum projection distance. Then click again on \"Resample\". \n",
    "\n",
    "- Once registered the landmarks, go on \"Save\". First save then entire scene in mrb format. To save single file, click on the purple box:\n",
    "    - deselect all the items\n",
    "    - select only one of interest (the segmentation volume and landmarks)\n",
    "    - Select the destination folder\n",
    "    - select the file format (fcsv for landmarks)\n",
    "\n",
    "- The landmarking is complete.\n",
    "\n",
    "- If there are both landmarks and curves, the files will be save separately. There is the option to merge them. Download th extension \"Slicer Morph\" and restart slicer. Open Slicer, load the fcsv file to be merged (click on \"Data\", search for files and load).\n",
    "Search the extension MergeMarKups through the lens search button. Now, go to \"Merge Landmarks set\" select the files you uploaded and click on Merge Highlighted nodes. A new set of landmarks will appear. Save it and use it for the morphing phase. "
   ]
  },
  {
   "cell_type": "code",
   "execution_count": null,
   "metadata": {},
   "outputs": [],
   "source": [
    "#| hide\n",
    "from nbdev.showdoc import *"
   ]
  }
 ],
 "metadata": {
  "kernelspec": {
   "display_name": "base",
   "language": "python",
   "name": "python3"
  }
 },
 "nbformat": 4,
 "nbformat_minor": 4
}
